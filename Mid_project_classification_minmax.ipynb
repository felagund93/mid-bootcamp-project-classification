{
 "cells": [
  {
   "cell_type": "markdown",
   "id": "91a3def8",
   "metadata": {},
   "source": [
    "# Mid Bootcamp Project | *Case Study: Classification*\n"
   ]
  },
  {
   "cell_type": "markdown",
   "id": "3694a8bd",
   "metadata": {},
   "source": [
    "## Project details\n",
    "\n",
    "**Background**: You are working as a risk analyst with a bank. Apart from the other banking and loan services, the bank also provides credit card services which is a very important source of revenue for the bank. The bank wants to understand the demographics and other characteristics of its customers that accept a credit card offer and that do not accept a credit card.\n",
    "Usually the observational data for these kinds of problems is somewhat limited in that often the company sees only those who respond to an offer. To get around this, the bank designs a focused marketing study, with 18,000 current bank customers. This focused approach allows the bank to know who does and does not respond to the offer, and to use existing demographic data that is already available on each customer.\n",
    "\n",
    "**Objective**: The task is to build a model that will provide insight into why some bank customers accept credit card offers. There are also other potential areas of opportunities that the bank wants to understand from the data.\n",
    "Your senior management has also posted these other questions that will help them better understand their customers.\n",
    "\n",
    "**Data**: The data set consists of information on 18,000 current bank customers in the study. These are the definitions of data points provided:\n",
    "\n",
    "- **Customer Number**: A sequential number assigned to the customers (this column is hidden and excluded – this unique identifier will not be used directly).\n",
    "- **Offer Accepted**: Did the customer accept (Yes) or reject (No) the offer. Reward: The type of reward program offered for the card.\n",
    "- **Mailer Type**: Letter or postcard.\n",
    "- **Income Level**: Low, Medium or High.\n",
    "- **#Bank Accounts Open**: How many non-credit-card accounts are held by the customer.\n",
    "- **Overdraft Protection**: Does the customer have overdraft protection on their checking account(s) (Yes or No).\n",
    "- **Credit Rating**: Low, Medium or High.\n",
    "- **#Credit Cards Held**: The number of credit cards held at the bank.\n",
    "- **#Homes Owned**: The number of homes owned by the customer.\n",
    "- **Household Size**: Number of individuals in the family.\n",
    "- **Own Your Home**: Does the customer own their home? (Yes or No).\n",
    "- **Average Balance**: Average account balance (across all accounts over time). **Q1, Q2, Q3 and Q4**\n",
    "- **Balance**: Average balance for each quarter in the last year\n",
    "\n",
    "### Exploring the data\n",
    "\n",
    "We encourage you to thoroughly understand your data and take the necessary steps to prepare your data for modeling before building exploratory or predictive models. Since this is a classification model, you can use logistic regression for classification for building a model. You are also encouraged to use other models in your project including KNN classifiers, decision trees.\n",
    "To explore the data, you can use the techniques that have been discussed in class. Some of them include using the describe method, checking null values, using _matplotlib_ and _seaborn_ for developing visualizations.\n",
    "The data has a number of categorical and numerical variables. Explore the nature of data for these variables before you start with the data cleaning process and then data pre-processing (scaling numerical variables and encoding categorical variables).\n",
    "For the target variable (Offer accepted – Yes/No), it is also important to check the data imbalance ie the number of people who responded with a yes vs the number of people who responded with a no.\n",
    "You will also use tableau to visually explore the data further. You will deep dive in the data for customers who accepted the offer vs the customers who did not and check their characteristics. For e.g., we select the **Yes** level in **Offer Accepted** and then examine the distribution of accepted offers across the other variables in our data set and similarly for people who did not accept the offer.\n",
    "\n",
    "### Model\n",
    "\n",
    "Use different models to compare the accuracies and find the model that best fits your data. You can use the measures of accuracies that have been discussed in class. Please note that while comparing different models, make sure you use the same measure of accuracy as a benchmark.\n"
   ]
  },
  {
   "cell_type": "markdown",
   "id": "4b1450c3",
   "metadata": {},
   "source": [
    "# Getting the data"
   ]
  },
  {
   "cell_type": "code",
   "execution_count": 1,
   "id": "41305798",
   "metadata": {},
   "outputs": [],
   "source": [
    "# Prepare toolbox\n",
    "\n",
    "import pandas as pd\n",
    "import numpy as np\n",
    "import datetime\n",
    "import warnings\n",
    "import matplotlib.pyplot as plt\n",
    "import seaborn as sns\n",
    "import re\n",
    "\n",
    "from sklearn.preprocessing import OneHotEncoder, StandardScaler, MinMaxScaler, Normalizer\n",
    "from sklearn.metrics import confusion_matrix, classification_report\n",
    "from sklearn.model_selection import train_test_split\n",
    "from sklearn.linear_model import LogisticRegression\n",
    "\n",
    "pd.set_option('display.max_columns', None)\n",
    "warnings.filterwarnings('ignore')"
   ]
  },
  {
   "cell_type": "code",
   "execution_count": 2,
   "id": "c8822182",
   "metadata": {},
   "outputs": [
    {
     "data": {
      "text/html": [
       "<div>\n",
       "<style scoped>\n",
       "    .dataframe tbody tr th:only-of-type {\n",
       "        vertical-align: middle;\n",
       "    }\n",
       "\n",
       "    .dataframe tbody tr th {\n",
       "        vertical-align: top;\n",
       "    }\n",
       "\n",
       "    .dataframe thead th {\n",
       "        text-align: right;\n",
       "    }\n",
       "</style>\n",
       "<table border=\"1\" class=\"dataframe\">\n",
       "  <thead>\n",
       "    <tr style=\"text-align: right;\">\n",
       "      <th></th>\n",
       "      <th>Customer Number</th>\n",
       "      <th>Offer Accepted</th>\n",
       "      <th>Reward</th>\n",
       "      <th>Mailer Type</th>\n",
       "      <th>Income Level</th>\n",
       "      <th># Bank Accounts Open</th>\n",
       "      <th>Overdraft Protection</th>\n",
       "      <th>Credit Rating</th>\n",
       "      <th># Credit Cards Held</th>\n",
       "      <th># Homes Owned</th>\n",
       "      <th>Household Size</th>\n",
       "      <th>Own Your Home</th>\n",
       "      <th>Average Balance</th>\n",
       "      <th>Q1 Balance</th>\n",
       "      <th>Q2 Balance</th>\n",
       "      <th>Q3 Balance</th>\n",
       "      <th>Q4 Balance</th>\n",
       "    </tr>\n",
       "  </thead>\n",
       "  <tbody>\n",
       "    <tr>\n",
       "      <th>0</th>\n",
       "      <td>1</td>\n",
       "      <td>No</td>\n",
       "      <td>Air Miles</td>\n",
       "      <td>Letter</td>\n",
       "      <td>High</td>\n",
       "      <td>1</td>\n",
       "      <td>No</td>\n",
       "      <td>High</td>\n",
       "      <td>2</td>\n",
       "      <td>1</td>\n",
       "      <td>4</td>\n",
       "      <td>No</td>\n",
       "      <td>1160.75</td>\n",
       "      <td>1669.0</td>\n",
       "      <td>877.0</td>\n",
       "      <td>1095.0</td>\n",
       "      <td>1002.0</td>\n",
       "    </tr>\n",
       "    <tr>\n",
       "      <th>1</th>\n",
       "      <td>2</td>\n",
       "      <td>No</td>\n",
       "      <td>Air Miles</td>\n",
       "      <td>Letter</td>\n",
       "      <td>Medium</td>\n",
       "      <td>1</td>\n",
       "      <td>No</td>\n",
       "      <td>Medium</td>\n",
       "      <td>2</td>\n",
       "      <td>2</td>\n",
       "      <td>5</td>\n",
       "      <td>Yes</td>\n",
       "      <td>147.25</td>\n",
       "      <td>39.0</td>\n",
       "      <td>106.0</td>\n",
       "      <td>78.0</td>\n",
       "      <td>366.0</td>\n",
       "    </tr>\n",
       "    <tr>\n",
       "      <th>2</th>\n",
       "      <td>3</td>\n",
       "      <td>No</td>\n",
       "      <td>Air Miles</td>\n",
       "      <td>Postcard</td>\n",
       "      <td>High</td>\n",
       "      <td>2</td>\n",
       "      <td>No</td>\n",
       "      <td>Medium</td>\n",
       "      <td>2</td>\n",
       "      <td>1</td>\n",
       "      <td>2</td>\n",
       "      <td>Yes</td>\n",
       "      <td>276.50</td>\n",
       "      <td>367.0</td>\n",
       "      <td>352.0</td>\n",
       "      <td>145.0</td>\n",
       "      <td>242.0</td>\n",
       "    </tr>\n",
       "    <tr>\n",
       "      <th>3</th>\n",
       "      <td>4</td>\n",
       "      <td>No</td>\n",
       "      <td>Air Miles</td>\n",
       "      <td>Letter</td>\n",
       "      <td>Medium</td>\n",
       "      <td>2</td>\n",
       "      <td>No</td>\n",
       "      <td>High</td>\n",
       "      <td>1</td>\n",
       "      <td>1</td>\n",
       "      <td>4</td>\n",
       "      <td>No</td>\n",
       "      <td>1219.00</td>\n",
       "      <td>1578.0</td>\n",
       "      <td>1760.0</td>\n",
       "      <td>1119.0</td>\n",
       "      <td>419.0</td>\n",
       "    </tr>\n",
       "    <tr>\n",
       "      <th>4</th>\n",
       "      <td>5</td>\n",
       "      <td>No</td>\n",
       "      <td>Air Miles</td>\n",
       "      <td>Letter</td>\n",
       "      <td>Medium</td>\n",
       "      <td>1</td>\n",
       "      <td>No</td>\n",
       "      <td>Medium</td>\n",
       "      <td>2</td>\n",
       "      <td>1</td>\n",
       "      <td>6</td>\n",
       "      <td>Yes</td>\n",
       "      <td>1211.00</td>\n",
       "      <td>2140.0</td>\n",
       "      <td>1357.0</td>\n",
       "      <td>982.0</td>\n",
       "      <td>365.0</td>\n",
       "    </tr>\n",
       "    <tr>\n",
       "      <th>5</th>\n",
       "      <td>6</td>\n",
       "      <td>No</td>\n",
       "      <td>Air Miles</td>\n",
       "      <td>Letter</td>\n",
       "      <td>Medium</td>\n",
       "      <td>1</td>\n",
       "      <td>No</td>\n",
       "      <td>High</td>\n",
       "      <td>3</td>\n",
       "      <td>1</td>\n",
       "      <td>4</td>\n",
       "      <td>No</td>\n",
       "      <td>1114.75</td>\n",
       "      <td>1847.0</td>\n",
       "      <td>1365.0</td>\n",
       "      <td>750.0</td>\n",
       "      <td>497.0</td>\n",
       "    </tr>\n",
       "    <tr>\n",
       "      <th>6</th>\n",
       "      <td>7</td>\n",
       "      <td>No</td>\n",
       "      <td>Air Miles</td>\n",
       "      <td>Letter</td>\n",
       "      <td>Medium</td>\n",
       "      <td>1</td>\n",
       "      <td>No</td>\n",
       "      <td>Medium</td>\n",
       "      <td>2</td>\n",
       "      <td>1</td>\n",
       "      <td>3</td>\n",
       "      <td>No</td>\n",
       "      <td>283.75</td>\n",
       "      <td>468.0</td>\n",
       "      <td>188.0</td>\n",
       "      <td>347.0</td>\n",
       "      <td>132.0</td>\n",
       "    </tr>\n",
       "    <tr>\n",
       "      <th>7</th>\n",
       "      <td>8</td>\n",
       "      <td>No</td>\n",
       "      <td>Cash Back</td>\n",
       "      <td>Postcard</td>\n",
       "      <td>Low</td>\n",
       "      <td>1</td>\n",
       "      <td>No</td>\n",
       "      <td>Medium</td>\n",
       "      <td>4</td>\n",
       "      <td>1</td>\n",
       "      <td>4</td>\n",
       "      <td>Yes</td>\n",
       "      <td>278.50</td>\n",
       "      <td>132.0</td>\n",
       "      <td>391.0</td>\n",
       "      <td>285.0</td>\n",
       "      <td>306.0</td>\n",
       "    </tr>\n",
       "    <tr>\n",
       "      <th>8</th>\n",
       "      <td>9</td>\n",
       "      <td>No</td>\n",
       "      <td>Air Miles</td>\n",
       "      <td>Postcard</td>\n",
       "      <td>Medium</td>\n",
       "      <td>1</td>\n",
       "      <td>No</td>\n",
       "      <td>Low</td>\n",
       "      <td>2</td>\n",
       "      <td>1</td>\n",
       "      <td>4</td>\n",
       "      <td>Yes</td>\n",
       "      <td>1005.00</td>\n",
       "      <td>894.0</td>\n",
       "      <td>891.0</td>\n",
       "      <td>882.0</td>\n",
       "      <td>1353.0</td>\n",
       "    </tr>\n",
       "    <tr>\n",
       "      <th>9</th>\n",
       "      <td>10</td>\n",
       "      <td>No</td>\n",
       "      <td>Air Miles</td>\n",
       "      <td>Letter</td>\n",
       "      <td>High</td>\n",
       "      <td>2</td>\n",
       "      <td>No</td>\n",
       "      <td>Low</td>\n",
       "      <td>3</td>\n",
       "      <td>2</td>\n",
       "      <td>4</td>\n",
       "      <td>Yes</td>\n",
       "      <td>974.25</td>\n",
       "      <td>1814.0</td>\n",
       "      <td>1454.0</td>\n",
       "      <td>514.0</td>\n",
       "      <td>115.0</td>\n",
       "    </tr>\n",
       "  </tbody>\n",
       "</table>\n",
       "</div>"
      ],
      "text/plain": [
       "   Customer Number Offer Accepted     Reward Mailer Type Income Level  \\\n",
       "0                1             No  Air Miles      Letter         High   \n",
       "1                2             No  Air Miles      Letter       Medium   \n",
       "2                3             No  Air Miles    Postcard         High   \n",
       "3                4             No  Air Miles      Letter       Medium   \n",
       "4                5             No  Air Miles      Letter       Medium   \n",
       "5                6             No  Air Miles      Letter       Medium   \n",
       "6                7             No  Air Miles      Letter       Medium   \n",
       "7                8             No  Cash Back    Postcard          Low   \n",
       "8                9             No  Air Miles    Postcard       Medium   \n",
       "9               10             No  Air Miles      Letter         High   \n",
       "\n",
       "   # Bank Accounts Open Overdraft Protection Credit Rating  \\\n",
       "0                     1                   No          High   \n",
       "1                     1                   No        Medium   \n",
       "2                     2                   No        Medium   \n",
       "3                     2                   No          High   \n",
       "4                     1                   No        Medium   \n",
       "5                     1                   No          High   \n",
       "6                     1                   No        Medium   \n",
       "7                     1                   No        Medium   \n",
       "8                     1                   No           Low   \n",
       "9                     2                   No           Low   \n",
       "\n",
       "   # Credit Cards Held  # Homes Owned  Household Size Own Your Home  \\\n",
       "0                    2              1               4            No   \n",
       "1                    2              2               5           Yes   \n",
       "2                    2              1               2           Yes   \n",
       "3                    1              1               4            No   \n",
       "4                    2              1               6           Yes   \n",
       "5                    3              1               4            No   \n",
       "6                    2              1               3            No   \n",
       "7                    4              1               4           Yes   \n",
       "8                    2              1               4           Yes   \n",
       "9                    3              2               4           Yes   \n",
       "\n",
       "   Average Balance  Q1 Balance  Q2 Balance  Q3 Balance  Q4 Balance  \n",
       "0          1160.75      1669.0       877.0      1095.0      1002.0  \n",
       "1           147.25        39.0       106.0        78.0       366.0  \n",
       "2           276.50       367.0       352.0       145.0       242.0  \n",
       "3          1219.00      1578.0      1760.0      1119.0       419.0  \n",
       "4          1211.00      2140.0      1357.0       982.0       365.0  \n",
       "5          1114.75      1847.0      1365.0       750.0       497.0  \n",
       "6           283.75       468.0       188.0       347.0       132.0  \n",
       "7           278.50       132.0       391.0       285.0       306.0  \n",
       "8          1005.00       894.0       891.0       882.0      1353.0  \n",
       "9           974.25      1814.0      1454.0       514.0       115.0  "
      ]
     },
     "execution_count": 2,
     "metadata": {},
     "output_type": "execute_result"
    }
   ],
   "source": [
    "# Import dataframe\n",
    "\n",
    "df = pd.read_csv('../mid-bootcamp-project-classification/creditcardmarketing.csv')\n",
    "df.head(10)"
   ]
  },
  {
   "cell_type": "code",
   "execution_count": 3,
   "id": "86ef79e9",
   "metadata": {},
   "outputs": [
    {
     "name": "stdout",
     "output_type": "stream",
     "text": [
      "<class 'pandas.core.frame.DataFrame'>\n",
      "RangeIndex: 18000 entries, 0 to 17999\n",
      "Data columns (total 17 columns):\n",
      " #   Column                Non-Null Count  Dtype  \n",
      "---  ------                --------------  -----  \n",
      " 0   Customer Number       18000 non-null  int64  \n",
      " 1   Offer Accepted        18000 non-null  object \n",
      " 2   Reward                18000 non-null  object \n",
      " 3   Mailer Type           18000 non-null  object \n",
      " 4   Income Level          18000 non-null  object \n",
      " 5   # Bank Accounts Open  18000 non-null  int64  \n",
      " 6   Overdraft Protection  18000 non-null  object \n",
      " 7   Credit Rating         18000 non-null  object \n",
      " 8   # Credit Cards Held   18000 non-null  int64  \n",
      " 9   # Homes Owned         18000 non-null  int64  \n",
      " 10  Household Size        18000 non-null  int64  \n",
      " 11  Own Your Home         18000 non-null  object \n",
      " 12  Average Balance       17976 non-null  float64\n",
      " 13  Q1 Balance            17976 non-null  float64\n",
      " 14  Q2 Balance            17976 non-null  float64\n",
      " 15  Q3 Balance            17976 non-null  float64\n",
      " 16  Q4 Balance            17976 non-null  float64\n",
      "dtypes: float64(5), int64(5), object(7)\n",
      "memory usage: 2.3+ MB\n"
     ]
    }
   ],
   "source": [
    "# Take a first peek\n",
    "\n",
    "df.info()"
   ]
  },
  {
   "cell_type": "code",
   "execution_count": 4,
   "id": "44cc0e8a",
   "metadata": {},
   "outputs": [
    {
     "data": {
      "text/plain": [
       "(18000, 17)"
      ]
     },
     "execution_count": 4,
     "metadata": {},
     "output_type": "execute_result"
    }
   ],
   "source": [
    "df.shape"
   ]
  },
  {
   "cell_type": "markdown",
   "id": "bbb9a424",
   "metadata": {},
   "source": [
    "# Data Cleaning & Wrangling"
   ]
  },
  {
   "cell_type": "code",
   "execution_count": 5,
   "id": "e47a7d80",
   "metadata": {},
   "outputs": [
    {
     "data": {
      "text/plain": [
       "Index(['customer_number', 'offer_accepted', 'reward', 'mailer_type',\n",
       "       'income_level', 'bank_accounts_open', 'overdraft_protection',\n",
       "       'credit_rating', 'credit_cards_held', 'homes_owned', 'household_size',\n",
       "       'own_your_home', 'average_balance', 'q1_balance', 'q2_balance',\n",
       "       'q3_balance', 'q4_balance'],\n",
       "      dtype='object')"
      ]
     },
     "execution_count": 5,
     "metadata": {},
     "output_type": "execute_result"
    }
   ],
   "source": [
    "# Standarize header names\n",
    "\n",
    "df.columns = [df.columns[col_name].lower().replace(' ','_').replace('#_','') for col_name in range(len(df.columns))]\n",
    "df.columns"
   ]
  },
  {
   "cell_type": "code",
   "execution_count": 6,
   "id": "e457ae99",
   "metadata": {},
   "outputs": [
    {
     "data": {
      "text/html": [
       "<div>\n",
       "<style scoped>\n",
       "    .dataframe tbody tr th:only-of-type {\n",
       "        vertical-align: middle;\n",
       "    }\n",
       "\n",
       "    .dataframe tbody tr th {\n",
       "        vertical-align: top;\n",
       "    }\n",
       "\n",
       "    .dataframe thead th {\n",
       "        text-align: right;\n",
       "    }\n",
       "</style>\n",
       "<table border=\"1\" class=\"dataframe\">\n",
       "  <thead>\n",
       "    <tr style=\"text-align: right;\">\n",
       "      <th></th>\n",
       "      <th>offer_accepted</th>\n",
       "      <th>reward</th>\n",
       "      <th>mailer_type</th>\n",
       "      <th>income_level</th>\n",
       "      <th>bank_accounts_open</th>\n",
       "      <th>overdraft_protection</th>\n",
       "      <th>credit_rating</th>\n",
       "      <th>credit_cards_held</th>\n",
       "      <th>homes_owned</th>\n",
       "      <th>household_size</th>\n",
       "      <th>own_your_home</th>\n",
       "      <th>average_balance</th>\n",
       "      <th>q1_balance</th>\n",
       "      <th>q2_balance</th>\n",
       "      <th>q3_balance</th>\n",
       "      <th>q4_balance</th>\n",
       "    </tr>\n",
       "    <tr>\n",
       "      <th>customer_number</th>\n",
       "      <th></th>\n",
       "      <th></th>\n",
       "      <th></th>\n",
       "      <th></th>\n",
       "      <th></th>\n",
       "      <th></th>\n",
       "      <th></th>\n",
       "      <th></th>\n",
       "      <th></th>\n",
       "      <th></th>\n",
       "      <th></th>\n",
       "      <th></th>\n",
       "      <th></th>\n",
       "      <th></th>\n",
       "      <th></th>\n",
       "      <th></th>\n",
       "    </tr>\n",
       "  </thead>\n",
       "  <tbody>\n",
       "    <tr>\n",
       "      <th>1</th>\n",
       "      <td>No</td>\n",
       "      <td>Air Miles</td>\n",
       "      <td>Letter</td>\n",
       "      <td>High</td>\n",
       "      <td>1</td>\n",
       "      <td>No</td>\n",
       "      <td>High</td>\n",
       "      <td>2</td>\n",
       "      <td>1</td>\n",
       "      <td>4</td>\n",
       "      <td>No</td>\n",
       "      <td>1160.75</td>\n",
       "      <td>1669.0</td>\n",
       "      <td>877.0</td>\n",
       "      <td>1095.0</td>\n",
       "      <td>1002.0</td>\n",
       "    </tr>\n",
       "    <tr>\n",
       "      <th>2</th>\n",
       "      <td>No</td>\n",
       "      <td>Air Miles</td>\n",
       "      <td>Letter</td>\n",
       "      <td>Medium</td>\n",
       "      <td>1</td>\n",
       "      <td>No</td>\n",
       "      <td>Medium</td>\n",
       "      <td>2</td>\n",
       "      <td>2</td>\n",
       "      <td>5</td>\n",
       "      <td>Yes</td>\n",
       "      <td>147.25</td>\n",
       "      <td>39.0</td>\n",
       "      <td>106.0</td>\n",
       "      <td>78.0</td>\n",
       "      <td>366.0</td>\n",
       "    </tr>\n",
       "    <tr>\n",
       "      <th>3</th>\n",
       "      <td>No</td>\n",
       "      <td>Air Miles</td>\n",
       "      <td>Postcard</td>\n",
       "      <td>High</td>\n",
       "      <td>2</td>\n",
       "      <td>No</td>\n",
       "      <td>Medium</td>\n",
       "      <td>2</td>\n",
       "      <td>1</td>\n",
       "      <td>2</td>\n",
       "      <td>Yes</td>\n",
       "      <td>276.50</td>\n",
       "      <td>367.0</td>\n",
       "      <td>352.0</td>\n",
       "      <td>145.0</td>\n",
       "      <td>242.0</td>\n",
       "    </tr>\n",
       "    <tr>\n",
       "      <th>4</th>\n",
       "      <td>No</td>\n",
       "      <td>Air Miles</td>\n",
       "      <td>Letter</td>\n",
       "      <td>Medium</td>\n",
       "      <td>2</td>\n",
       "      <td>No</td>\n",
       "      <td>High</td>\n",
       "      <td>1</td>\n",
       "      <td>1</td>\n",
       "      <td>4</td>\n",
       "      <td>No</td>\n",
       "      <td>1219.00</td>\n",
       "      <td>1578.0</td>\n",
       "      <td>1760.0</td>\n",
       "      <td>1119.0</td>\n",
       "      <td>419.0</td>\n",
       "    </tr>\n",
       "    <tr>\n",
       "      <th>5</th>\n",
       "      <td>No</td>\n",
       "      <td>Air Miles</td>\n",
       "      <td>Letter</td>\n",
       "      <td>Medium</td>\n",
       "      <td>1</td>\n",
       "      <td>No</td>\n",
       "      <td>Medium</td>\n",
       "      <td>2</td>\n",
       "      <td>1</td>\n",
       "      <td>6</td>\n",
       "      <td>Yes</td>\n",
       "      <td>1211.00</td>\n",
       "      <td>2140.0</td>\n",
       "      <td>1357.0</td>\n",
       "      <td>982.0</td>\n",
       "      <td>365.0</td>\n",
       "    </tr>\n",
       "    <tr>\n",
       "      <th>6</th>\n",
       "      <td>No</td>\n",
       "      <td>Air Miles</td>\n",
       "      <td>Letter</td>\n",
       "      <td>Medium</td>\n",
       "      <td>1</td>\n",
       "      <td>No</td>\n",
       "      <td>High</td>\n",
       "      <td>3</td>\n",
       "      <td>1</td>\n",
       "      <td>4</td>\n",
       "      <td>No</td>\n",
       "      <td>1114.75</td>\n",
       "      <td>1847.0</td>\n",
       "      <td>1365.0</td>\n",
       "      <td>750.0</td>\n",
       "      <td>497.0</td>\n",
       "    </tr>\n",
       "    <tr>\n",
       "      <th>7</th>\n",
       "      <td>No</td>\n",
       "      <td>Air Miles</td>\n",
       "      <td>Letter</td>\n",
       "      <td>Medium</td>\n",
       "      <td>1</td>\n",
       "      <td>No</td>\n",
       "      <td>Medium</td>\n",
       "      <td>2</td>\n",
       "      <td>1</td>\n",
       "      <td>3</td>\n",
       "      <td>No</td>\n",
       "      <td>283.75</td>\n",
       "      <td>468.0</td>\n",
       "      <td>188.0</td>\n",
       "      <td>347.0</td>\n",
       "      <td>132.0</td>\n",
       "    </tr>\n",
       "    <tr>\n",
       "      <th>8</th>\n",
       "      <td>No</td>\n",
       "      <td>Cash Back</td>\n",
       "      <td>Postcard</td>\n",
       "      <td>Low</td>\n",
       "      <td>1</td>\n",
       "      <td>No</td>\n",
       "      <td>Medium</td>\n",
       "      <td>4</td>\n",
       "      <td>1</td>\n",
       "      <td>4</td>\n",
       "      <td>Yes</td>\n",
       "      <td>278.50</td>\n",
       "      <td>132.0</td>\n",
       "      <td>391.0</td>\n",
       "      <td>285.0</td>\n",
       "      <td>306.0</td>\n",
       "    </tr>\n",
       "    <tr>\n",
       "      <th>9</th>\n",
       "      <td>No</td>\n",
       "      <td>Air Miles</td>\n",
       "      <td>Postcard</td>\n",
       "      <td>Medium</td>\n",
       "      <td>1</td>\n",
       "      <td>No</td>\n",
       "      <td>Low</td>\n",
       "      <td>2</td>\n",
       "      <td>1</td>\n",
       "      <td>4</td>\n",
       "      <td>Yes</td>\n",
       "      <td>1005.00</td>\n",
       "      <td>894.0</td>\n",
       "      <td>891.0</td>\n",
       "      <td>882.0</td>\n",
       "      <td>1353.0</td>\n",
       "    </tr>\n",
       "    <tr>\n",
       "      <th>10</th>\n",
       "      <td>No</td>\n",
       "      <td>Air Miles</td>\n",
       "      <td>Letter</td>\n",
       "      <td>High</td>\n",
       "      <td>2</td>\n",
       "      <td>No</td>\n",
       "      <td>Low</td>\n",
       "      <td>3</td>\n",
       "      <td>2</td>\n",
       "      <td>4</td>\n",
       "      <td>Yes</td>\n",
       "      <td>974.25</td>\n",
       "      <td>1814.0</td>\n",
       "      <td>1454.0</td>\n",
       "      <td>514.0</td>\n",
       "      <td>115.0</td>\n",
       "    </tr>\n",
       "  </tbody>\n",
       "</table>\n",
       "</div>"
      ],
      "text/plain": [
       "                offer_accepted     reward mailer_type income_level  \\\n",
       "customer_number                                                      \n",
       "1                           No  Air Miles      Letter         High   \n",
       "2                           No  Air Miles      Letter       Medium   \n",
       "3                           No  Air Miles    Postcard         High   \n",
       "4                           No  Air Miles      Letter       Medium   \n",
       "5                           No  Air Miles      Letter       Medium   \n",
       "6                           No  Air Miles      Letter       Medium   \n",
       "7                           No  Air Miles      Letter       Medium   \n",
       "8                           No  Cash Back    Postcard          Low   \n",
       "9                           No  Air Miles    Postcard       Medium   \n",
       "10                          No  Air Miles      Letter         High   \n",
       "\n",
       "                 bank_accounts_open overdraft_protection credit_rating  \\\n",
       "customer_number                                                          \n",
       "1                                 1                   No          High   \n",
       "2                                 1                   No        Medium   \n",
       "3                                 2                   No        Medium   \n",
       "4                                 2                   No          High   \n",
       "5                                 1                   No        Medium   \n",
       "6                                 1                   No          High   \n",
       "7                                 1                   No        Medium   \n",
       "8                                 1                   No        Medium   \n",
       "9                                 1                   No           Low   \n",
       "10                                2                   No           Low   \n",
       "\n",
       "                 credit_cards_held  homes_owned  household_size own_your_home  \\\n",
       "customer_number                                                                 \n",
       "1                                2            1               4            No   \n",
       "2                                2            2               5           Yes   \n",
       "3                                2            1               2           Yes   \n",
       "4                                1            1               4            No   \n",
       "5                                2            1               6           Yes   \n",
       "6                                3            1               4            No   \n",
       "7                                2            1               3            No   \n",
       "8                                4            1               4           Yes   \n",
       "9                                2            1               4           Yes   \n",
       "10                               3            2               4           Yes   \n",
       "\n",
       "                 average_balance  q1_balance  q2_balance  q3_balance  \\\n",
       "customer_number                                                        \n",
       "1                        1160.75      1669.0       877.0      1095.0   \n",
       "2                         147.25        39.0       106.0        78.0   \n",
       "3                         276.50       367.0       352.0       145.0   \n",
       "4                        1219.00      1578.0      1760.0      1119.0   \n",
       "5                        1211.00      2140.0      1357.0       982.0   \n",
       "6                        1114.75      1847.0      1365.0       750.0   \n",
       "7                         283.75       468.0       188.0       347.0   \n",
       "8                         278.50       132.0       391.0       285.0   \n",
       "9                        1005.00       894.0       891.0       882.0   \n",
       "10                        974.25      1814.0      1454.0       514.0   \n",
       "\n",
       "                 q4_balance  \n",
       "customer_number              \n",
       "1                    1002.0  \n",
       "2                     366.0  \n",
       "3                     242.0  \n",
       "4                     419.0  \n",
       "5                     365.0  \n",
       "6                     497.0  \n",
       "7                     132.0  \n",
       "8                     306.0  \n",
       "9                    1353.0  \n",
       "10                    115.0  "
      ]
     },
     "execution_count": 6,
     "metadata": {},
     "output_type": "execute_result"
    }
   ],
   "source": [
    "# Set customer ID as dataframe index, as this column is intended to serve as so\n",
    "\n",
    "df.set_index('customer_number', inplace=True)\n",
    "df.head(10)"
   ]
  },
  {
   "cell_type": "code",
   "execution_count": 7,
   "id": "bb23fd9d",
   "metadata": {},
   "outputs": [
    {
     "data": {
      "text/plain": [
       "offer_accepted           0\n",
       "reward                   0\n",
       "mailer_type              0\n",
       "income_level             0\n",
       "bank_accounts_open       0\n",
       "overdraft_protection     0\n",
       "credit_rating            0\n",
       "credit_cards_held        0\n",
       "homes_owned              0\n",
       "household_size           0\n",
       "own_your_home            0\n",
       "average_balance         24\n",
       "q1_balance              24\n",
       "q2_balance              24\n",
       "q3_balance              24\n",
       "q4_balance              24\n",
       "dtype: int64"
      ]
     },
     "execution_count": 7,
     "metadata": {},
     "output_type": "execute_result"
    }
   ],
   "source": [
    "# Check for NaN values\n",
    "\n",
    "df.isna().sum() "
   ]
  },
  {
   "cell_type": "code",
   "execution_count": 8,
   "id": "6637f9bd",
   "metadata": {},
   "outputs": [
    {
     "data": {
      "text/plain": [
       "No     16977\n",
       "Yes     1023\n",
       "Name: offer_accepted, dtype: int64"
      ]
     },
     "metadata": {},
     "output_type": "display_data"
    },
    {
     "data": {
      "text/plain": [
       "No     16955\n",
       "Yes     1021\n",
       "Name: offer_accepted, dtype: int64"
      ]
     },
     "metadata": {},
     "output_type": "display_data"
    }
   ],
   "source": [
    "# We lack some data about account balances. If we dropped NaNs, how would this affect our very imbalanced target variable?\n",
    "\n",
    "df_dummy = df.dropna()\n",
    "\n",
    "display(df[\"offer_accepted\"].value_counts())\n",
    "display(df_dummy[\"offer_accepted\"].value_counts()) # Only 2 'Yes' values are lost"
   ]
  },
  {
   "cell_type": "code",
   "execution_count": 9,
   "id": "31307bf9",
   "metadata": {},
   "outputs": [
    {
     "name": "stdout",
     "output_type": "stream",
     "text": [
      "<class 'pandas.core.frame.DataFrame'>\n",
      "Int64Index: 17976 entries, 1 to 18000\n",
      "Data columns (total 16 columns):\n",
      " #   Column                Non-Null Count  Dtype  \n",
      "---  ------                --------------  -----  \n",
      " 0   offer_accepted        17976 non-null  object \n",
      " 1   reward                17976 non-null  object \n",
      " 2   mailer_type           17976 non-null  object \n",
      " 3   income_level          17976 non-null  object \n",
      " 4   bank_accounts_open    17976 non-null  int64  \n",
      " 5   overdraft_protection  17976 non-null  object \n",
      " 6   credit_rating         17976 non-null  object \n",
      " 7   credit_cards_held     17976 non-null  int64  \n",
      " 8   homes_owned           17976 non-null  int64  \n",
      " 9   household_size        17976 non-null  int64  \n",
      " 10  own_your_home         17976 non-null  object \n",
      " 11  average_balance       17976 non-null  float64\n",
      " 12  q1_balance            17976 non-null  float64\n",
      " 13  q2_balance            17976 non-null  float64\n",
      " 14  q3_balance            17976 non-null  float64\n",
      " 15  q4_balance            17976 non-null  float64\n",
      "dtypes: float64(5), int64(4), object(7)\n",
      "memory usage: 2.3+ MB\n"
     ]
    }
   ],
   "source": [
    "# Drop NaNs, we consider it save\n",
    "\n",
    "df.dropna(inplace=True)\n",
    "df.info()"
   ]
  },
  {
   "cell_type": "code",
   "execution_count": 10,
   "id": "aef6632f",
   "metadata": {},
   "outputs": [
    {
     "name": "stdout",
     "output_type": "stream",
     "text": [
      "Unique entires for OFFER_ACCEPTED are: ['No' 'Yes']\n",
      "Unique entires for REWARD are: ['Air Miles' 'Cash Back' 'Points']\n",
      "Unique entires for MAILER_TYPE are: ['Letter' 'Postcard']\n",
      "Unique entires for INCOME_LEVEL are: ['High' 'Medium' 'Low']\n",
      "Unique entires for OVERDRAFT_PROTECTION are: ['No' 'Yes']\n",
      "Unique entires for CREDIT_RATING are: ['High' 'Medium' 'Low']\n",
      "Unique entires for OWN_YOUR_HOME are: ['No' 'Yes']\n"
     ]
    }
   ],
   "source": [
    "# Check the consistency of categorical values\n",
    "\n",
    "for col in df.select_dtypes(np.object).columns:\n",
    "    print(\"Unique entires for\", col.upper(), \"are:\", df[col].unique()) # Consistent categories, no corrections needed"
   ]
  },
  {
   "cell_type": "code",
   "execution_count": 11,
   "id": "d3426dfb",
   "metadata": {},
   "outputs": [
    {
     "name": "stdout",
     "output_type": "stream",
     "text": [
      "<class 'pandas.core.frame.DataFrame'>\n",
      "Int64Index: 17976 entries, 1 to 18000\n",
      "Data columns (total 16 columns):\n",
      " #   Column                Non-Null Count  Dtype  \n",
      "---  ------                --------------  -----  \n",
      " 0   offer_accepted        17976 non-null  object \n",
      " 1   reward                17976 non-null  object \n",
      " 2   mailer_type           17976 non-null  object \n",
      " 3   income_level          17976 non-null  int64  \n",
      " 4   bank_accounts_open    17976 non-null  int64  \n",
      " 5   overdraft_protection  17976 non-null  object \n",
      " 6   credit_rating         17976 non-null  int64  \n",
      " 7   credit_cards_held     17976 non-null  int64  \n",
      " 8   homes_owned           17976 non-null  int64  \n",
      " 9   household_size        17976 non-null  int64  \n",
      " 10  own_your_home         17976 non-null  object \n",
      " 11  average_balance       17976 non-null  float64\n",
      " 12  q1_balance            17976 non-null  float64\n",
      " 13  q2_balance            17976 non-null  float64\n",
      " 14  q3_balance            17976 non-null  float64\n",
      " 15  q4_balance            17976 non-null  float64\n",
      "dtypes: float64(5), int64(6), object(5)\n",
      "memory usage: 2.3+ MB\n"
     ]
    }
   ],
   "source": [
    "# Encode ORDINALS now, so we can check for correlations during the EDA\n",
    "\n",
    "df[\"income_level\"] = df[\"income_level\"].map({\"Low\" : 0, \"Medium\" : 1, \"High\" : 2})\n",
    "df[\"credit_rating\"] = df[\"credit_rating\"].map({\"Low\" : 0, \"Medium\" : 1, \"High\" : 2})\n",
    "df.info()"
   ]
  },
  {
   "cell_type": "markdown",
   "id": "a3870c94",
   "metadata": {},
   "source": [
    "# EDA"
   ]
  },
  {
   "cell_type": "markdown",
   "id": "bcda0dfa",
   "metadata": {},
   "source": [
    "## Numerical variables"
   ]
  },
  {
   "cell_type": "code",
   "execution_count": 12,
   "id": "713331fd",
   "metadata": {
    "scrolled": true
   },
   "outputs": [
    {
     "data": {
      "text/html": [
       "<div>\n",
       "<style scoped>\n",
       "    .dataframe tbody tr th:only-of-type {\n",
       "        vertical-align: middle;\n",
       "    }\n",
       "\n",
       "    .dataframe tbody tr th {\n",
       "        vertical-align: top;\n",
       "    }\n",
       "\n",
       "    .dataframe thead th {\n",
       "        text-align: right;\n",
       "    }\n",
       "</style>\n",
       "<table border=\"1\" class=\"dataframe\">\n",
       "  <thead>\n",
       "    <tr style=\"text-align: right;\">\n",
       "      <th></th>\n",
       "      <th>income_level</th>\n",
       "      <th>bank_accounts_open</th>\n",
       "      <th>credit_rating</th>\n",
       "      <th>credit_cards_held</th>\n",
       "      <th>homes_owned</th>\n",
       "      <th>household_size</th>\n",
       "      <th>average_balance</th>\n",
       "      <th>q1_balance</th>\n",
       "      <th>q2_balance</th>\n",
       "      <th>q3_balance</th>\n",
       "      <th>q4_balance</th>\n",
       "    </tr>\n",
       "  </thead>\n",
       "  <tbody>\n",
       "    <tr>\n",
       "      <th>count</th>\n",
       "      <td>17976.00</td>\n",
       "      <td>17976.00</td>\n",
       "      <td>17976.00</td>\n",
       "      <td>17976.0</td>\n",
       "      <td>17976.00</td>\n",
       "      <td>17976.00</td>\n",
       "      <td>17976.00</td>\n",
       "      <td>17976.00</td>\n",
       "      <td>17976.00</td>\n",
       "      <td>17976.00</td>\n",
       "      <td>17976.00</td>\n",
       "    </tr>\n",
       "    <tr>\n",
       "      <th>mean</th>\n",
       "      <td>1.00</td>\n",
       "      <td>1.26</td>\n",
       "      <td>1.01</td>\n",
       "      <td>1.9</td>\n",
       "      <td>1.20</td>\n",
       "      <td>3.50</td>\n",
       "      <td>940.52</td>\n",
       "      <td>910.45</td>\n",
       "      <td>999.39</td>\n",
       "      <td>1042.03</td>\n",
       "      <td>810.19</td>\n",
       "    </tr>\n",
       "    <tr>\n",
       "      <th>std</th>\n",
       "      <td>0.71</td>\n",
       "      <td>0.47</td>\n",
       "      <td>0.82</td>\n",
       "      <td>0.8</td>\n",
       "      <td>0.43</td>\n",
       "      <td>1.11</td>\n",
       "      <td>350.30</td>\n",
       "      <td>620.08</td>\n",
       "      <td>457.40</td>\n",
       "      <td>553.45</td>\n",
       "      <td>559.00</td>\n",
       "    </tr>\n",
       "    <tr>\n",
       "      <th>min</th>\n",
       "      <td>0.00</td>\n",
       "      <td>1.00</td>\n",
       "      <td>0.00</td>\n",
       "      <td>1.0</td>\n",
       "      <td>1.00</td>\n",
       "      <td>1.00</td>\n",
       "      <td>48.25</td>\n",
       "      <td>0.00</td>\n",
       "      <td>0.00</td>\n",
       "      <td>0.00</td>\n",
       "      <td>0.00</td>\n",
       "    </tr>\n",
       "    <tr>\n",
       "      <th>25%</th>\n",
       "      <td>1.00</td>\n",
       "      <td>1.00</td>\n",
       "      <td>0.00</td>\n",
       "      <td>1.0</td>\n",
       "      <td>1.00</td>\n",
       "      <td>3.00</td>\n",
       "      <td>787.50</td>\n",
       "      <td>392.75</td>\n",
       "      <td>663.00</td>\n",
       "      <td>633.00</td>\n",
       "      <td>363.00</td>\n",
       "    </tr>\n",
       "    <tr>\n",
       "      <th>50%</th>\n",
       "      <td>1.00</td>\n",
       "      <td>1.00</td>\n",
       "      <td>1.00</td>\n",
       "      <td>2.0</td>\n",
       "      <td>1.00</td>\n",
       "      <td>3.00</td>\n",
       "      <td>1007.00</td>\n",
       "      <td>772.00</td>\n",
       "      <td>1032.00</td>\n",
       "      <td>945.50</td>\n",
       "      <td>703.00</td>\n",
       "    </tr>\n",
       "    <tr>\n",
       "      <th>75%</th>\n",
       "      <td>2.00</td>\n",
       "      <td>1.00</td>\n",
       "      <td>2.00</td>\n",
       "      <td>2.0</td>\n",
       "      <td>1.00</td>\n",
       "      <td>4.00</td>\n",
       "      <td>1153.25</td>\n",
       "      <td>1521.00</td>\n",
       "      <td>1342.00</td>\n",
       "      <td>1463.00</td>\n",
       "      <td>1212.00</td>\n",
       "    </tr>\n",
       "    <tr>\n",
       "      <th>max</th>\n",
       "      <td>2.00</td>\n",
       "      <td>3.00</td>\n",
       "      <td>2.00</td>\n",
       "      <td>4.0</td>\n",
       "      <td>3.00</td>\n",
       "      <td>9.00</td>\n",
       "      <td>3366.25</td>\n",
       "      <td>3450.00</td>\n",
       "      <td>3421.00</td>\n",
       "      <td>3823.00</td>\n",
       "      <td>4215.00</td>\n",
       "    </tr>\n",
       "  </tbody>\n",
       "</table>\n",
       "</div>"
      ],
      "text/plain": [
       "       income_level  bank_accounts_open  credit_rating  credit_cards_held  \\\n",
       "count      17976.00            17976.00       17976.00            17976.0   \n",
       "mean           1.00                1.26           1.01                1.9   \n",
       "std            0.71                0.47           0.82                0.8   \n",
       "min            0.00                1.00           0.00                1.0   \n",
       "25%            1.00                1.00           0.00                1.0   \n",
       "50%            1.00                1.00           1.00                2.0   \n",
       "75%            2.00                1.00           2.00                2.0   \n",
       "max            2.00                3.00           2.00                4.0   \n",
       "\n",
       "       homes_owned  household_size  average_balance  q1_balance  q2_balance  \\\n",
       "count     17976.00        17976.00         17976.00    17976.00    17976.00   \n",
       "mean          1.20            3.50           940.52      910.45      999.39   \n",
       "std           0.43            1.11           350.30      620.08      457.40   \n",
       "min           1.00            1.00            48.25        0.00        0.00   \n",
       "25%           1.00            3.00           787.50      392.75      663.00   \n",
       "50%           1.00            3.00          1007.00      772.00     1032.00   \n",
       "75%           1.00            4.00          1153.25     1521.00     1342.00   \n",
       "max           3.00            9.00          3366.25     3450.00     3421.00   \n",
       "\n",
       "       q3_balance  q4_balance  \n",
       "count    17976.00    17976.00  \n",
       "mean      1042.03      810.19  \n",
       "std        553.45      559.00  \n",
       "min          0.00        0.00  \n",
       "25%        633.00      363.00  \n",
       "50%        945.50      703.00  \n",
       "75%       1463.00     1212.00  \n",
       "max       3823.00     4215.00  "
      ]
     },
     "execution_count": 12,
     "metadata": {},
     "output_type": "execute_result"
    }
   ],
   "source": [
    "df.describe().round(2)"
   ]
  },
  {
   "cell_type": "code",
   "execution_count": 13,
   "id": "64493264",
   "metadata": {},
   "outputs": [
    {
     "data": {
      "image/png": "[encoded data removed]",
      "text/plain": [
       "<Figure size 432x288 with 1 Axes>"
      ]
     },
     "metadata": {
      "needs_background": "light"
     },
     "output_type": "display_data"
    },
    {
     "data": {
      "image/png": "[encoded data removed]",
      "text/plain": [
       "<Figure size 432x288 with 1 Axes>"
      ]
     },
     "metadata": {
      "needs_background": "light"
     },
     "output_type": "display_data"
    },
    {
     "data": {
      "image/png": "[encoded data removed]",
      "text/plain": [
       "<Figure size 432x288 with 1 Axes>"
      ]
     },
     "metadata": {
      "needs_background": "light"
     },
     "output_type": "display_data"
    },
    {
     "data": {
      "image/png": "[encoded data removed]",
      "text/plain": [
       "<Figure size 432x288 with 1 Axes>"
      ]
     },
     "metadata": {
      "needs_background": "light"
     },
     "output_type": "display_data"
    },
    {
     "data": {
      "image/png": "[encoded data removed]",
      "text/plain": [
       "<Figure size 432x288 with 1 Axes>"
      ]
     },
     "metadata": {
      "needs_background": "light"
     },
     "output_type": "display_data"
    },
    {
     "data": {
      "image/png": "[encoded data removed]",
      "text/plain": [
       "<Figure size 432x288 with 1 Axes>"
      ]
     },
     "metadata": {
      "needs_background": "light"
     },
     "output_type": "display_data"
    },
    {
     "data": {
      "image/png": "[encoded data removed]",
      "text/plain": [
       "<Figure size 432x288 with 1 Axes>"
      ]
     },
     "metadata": {
      "needs_background": "light"
     },
     "output_type": "display_data"
    },
    {
     "data": {
      "image/png": "[encoded data removed]",
      "text/plain": [
       "<Figure size 432x288 with 1 Axes>"
      ]
     },
     "metadata": {
      "needs_background": "light"
     },
     "output_type": "display_data"
    },
    {
     "data": {
      "image/png": "[encoded data removed]",
      "text/plain": [
       "<Figure size 432x288 with 1 Axes>"
      ]
     },
     "metadata": {
      "needs_background": "light"
     },
     "output_type": "display_data"
    },
    {
     "data": {
      "image/png": "[encoded data removed]",
      "text/plain": [
       "<Figure size 432x288 with 1 Axes>"
      ]
     },
     "metadata": {
      "needs_background": "light"
     },
     "output_type": "display_data"
    },
    {
     "data": {
      "image/png": "[encoded data removed]",
      "text/plain": [
       "<Figure size 432x288 with 1 Axes>"
      ]
     },
     "metadata": {
      "needs_background": "light"
     },
     "output_type": "display_data"
    }
   ],
   "source": [
    "for column in df.select_dtypes(np.number).columns:\n",
    "    sns.distplot(df[column])\n",
    "    plt.show()"
   ]
  },
  {
   "cell_type": "markdown",
   "id": "e609c434",
   "metadata": {},
   "source": [
    "## Categorical data"
   ]
  },
  {
   "cell_type": "code",
   "execution_count": 14,
   "id": "7bc749da",
   "metadata": {},
   "outputs": [
    {
     "data": {
      "image/png": "[encoded data removed]",
      "text/plain": [
       "<Figure size 432x288 with 1 Axes>"
      ]
     },
     "metadata": {
      "needs_background": "light"
     },
     "output_type": "display_data"
    },
    {
     "data": {
      "image/png": "[encoded data removed]",
      "text/plain": [
       "<Figure size 432x288 with 1 Axes>"
      ]
     },
     "metadata": {
      "needs_background": "light"
     },
     "output_type": "display_data"
    },
    {
     "data": {
      "image/png": "[encoded data removed]",
      "text/plain": [
       "<Figure size 432x288 with 1 Axes>"
      ]
     },
     "metadata": {
      "needs_background": "light"
     },
     "output_type": "display_data"
    },
    {
     "data": {
      "image/png": "[encoded data removed]",
      "text/plain": [
       "<Figure size 432x288 with 1 Axes>"
      ]
     },
     "metadata": {
      "needs_background": "light"
     },
     "output_type": "display_data"
    },
    {
     "data": {
      "image/png": "[encoded data removed]",
      "text/plain": [
       "<Figure size 432x288 with 1 Axes>"
      ]
     },
     "metadata": {
      "needs_background": "light"
     },
     "output_type": "display_data"
    }
   ],
   "source": [
    "for col in df.select_dtypes(np.object).columns:\n",
    "    sns.countplot(x=df[col]) #, hue=df['education']\n",
    "    plt.show() # There is a GREAT imbalance in our target variable: \"offer_accepted\""
   ]
  },
  {
   "cell_type": "code",
   "execution_count": 15,
   "id": "4549e0e0",
   "metadata": {},
   "outputs": [
    {
     "data": {
      "text/html": [
       "<div>\n",
       "<style scoped>\n",
       "    .dataframe tbody tr th:only-of-type {\n",
       "        vertical-align: middle;\n",
       "    }\n",
       "\n",
       "    .dataframe tbody tr th {\n",
       "        vertical-align: top;\n",
       "    }\n",
       "\n",
       "    .dataframe thead th {\n",
       "        text-align: right;\n",
       "    }\n",
       "</style>\n",
       "<table border=\"1\" class=\"dataframe\">\n",
       "  <thead>\n",
       "    <tr style=\"text-align: right;\">\n",
       "      <th></th>\n",
       "      <th>income_level</th>\n",
       "      <th>bank_accounts_open</th>\n",
       "      <th>credit_rating</th>\n",
       "      <th>credit_cards_held</th>\n",
       "      <th>homes_owned</th>\n",
       "      <th>household_size</th>\n",
       "      <th>average_balance</th>\n",
       "      <th>q1_balance</th>\n",
       "      <th>q2_balance</th>\n",
       "      <th>q3_balance</th>\n",
       "      <th>q4_balance</th>\n",
       "    </tr>\n",
       "  </thead>\n",
       "  <tbody>\n",
       "    <tr>\n",
       "      <th>income_level</th>\n",
       "      <td>1.000000</td>\n",
       "      <td>0.010299</td>\n",
       "      <td>-0.011006</td>\n",
       "      <td>0.000987</td>\n",
       "      <td>-0.000372</td>\n",
       "      <td>-0.000813</td>\n",
       "      <td>0.005185</td>\n",
       "      <td>0.008745</td>\n",
       "      <td>-0.007705</td>\n",
       "      <td>-0.000361</td>\n",
       "      <td>0.009934</td>\n",
       "    </tr>\n",
       "    <tr>\n",
       "      <th>bank_accounts_open</th>\n",
       "      <td>0.010299</td>\n",
       "      <td>1.000000</td>\n",
       "      <td>-0.013232</td>\n",
       "      <td>-0.004510</td>\n",
       "      <td>0.006153</td>\n",
       "      <td>0.007355</td>\n",
       "      <td>-0.005248</td>\n",
       "      <td>-0.003958</td>\n",
       "      <td>-0.011090</td>\n",
       "      <td>-0.000382</td>\n",
       "      <td>0.000332</td>\n",
       "    </tr>\n",
       "    <tr>\n",
       "      <th>credit_rating</th>\n",
       "      <td>-0.011006</td>\n",
       "      <td>-0.013232</td>\n",
       "      <td>1.000000</td>\n",
       "      <td>-0.004013</td>\n",
       "      <td>0.002239</td>\n",
       "      <td>-0.004966</td>\n",
       "      <td>0.002559</td>\n",
       "      <td>0.018383</td>\n",
       "      <td>-0.005143</td>\n",
       "      <td>-0.007172</td>\n",
       "      <td>0.001801</td>\n",
       "    </tr>\n",
       "    <tr>\n",
       "      <th>credit_cards_held</th>\n",
       "      <td>0.000987</td>\n",
       "      <td>-0.004510</td>\n",
       "      <td>-0.004013</td>\n",
       "      <td>1.000000</td>\n",
       "      <td>0.000072</td>\n",
       "      <td>-0.003067</td>\n",
       "      <td>0.000790</td>\n",
       "      <td>-0.012297</td>\n",
       "      <td>-0.008478</td>\n",
       "      <td>-0.004966</td>\n",
       "      <td>0.011782</td>\n",
       "    </tr>\n",
       "    <tr>\n",
       "      <th>homes_owned</th>\n",
       "      <td>-0.000372</td>\n",
       "      <td>0.006153</td>\n",
       "      <td>0.002239</td>\n",
       "      <td>0.000072</td>\n",
       "      <td>1.000000</td>\n",
       "      <td>0.004484</td>\n",
       "      <td>0.021020</td>\n",
       "      <td>0.015796</td>\n",
       "      <td>0.010874</td>\n",
       "      <td>0.007531</td>\n",
       "      <td>0.008495</td>\n",
       "    </tr>\n",
       "    <tr>\n",
       "      <th>household_size</th>\n",
       "      <td>-0.000813</td>\n",
       "      <td>0.007355</td>\n",
       "      <td>-0.004966</td>\n",
       "      <td>-0.003067</td>\n",
       "      <td>0.004484</td>\n",
       "      <td>1.000000</td>\n",
       "      <td>0.000992</td>\n",
       "      <td>-0.005210</td>\n",
       "      <td>-0.006198</td>\n",
       "      <td>0.003824</td>\n",
       "      <td>-0.000456</td>\n",
       "    </tr>\n",
       "    <tr>\n",
       "      <th>average_balance</th>\n",
       "      <td>0.005185</td>\n",
       "      <td>-0.005248</td>\n",
       "      <td>0.002559</td>\n",
       "      <td>0.000790</td>\n",
       "      <td>0.021020</td>\n",
       "      <td>0.000992</td>\n",
       "      <td>1.000000</td>\n",
       "      <td>0.423116</td>\n",
       "      <td>0.722968</td>\n",
       "      <td>0.742163</td>\n",
       "      <td>0.560612</td>\n",
       "    </tr>\n",
       "    <tr>\n",
       "      <th>q1_balance</th>\n",
       "      <td>0.008745</td>\n",
       "      <td>-0.003958</td>\n",
       "      <td>0.018383</td>\n",
       "      <td>-0.012297</td>\n",
       "      <td>0.015796</td>\n",
       "      <td>-0.005210</td>\n",
       "      <td>0.423116</td>\n",
       "      <td>1.000000</td>\n",
       "      <td>0.459766</td>\n",
       "      <td>-0.020361</td>\n",
       "      <td>-0.182255</td>\n",
       "    </tr>\n",
       "    <tr>\n",
       "      <th>q2_balance</th>\n",
       "      <td>-0.007705</td>\n",
       "      <td>-0.011090</td>\n",
       "      <td>-0.005143</td>\n",
       "      <td>-0.008478</td>\n",
       "      <td>0.010874</td>\n",
       "      <td>-0.006198</td>\n",
       "      <td>0.722968</td>\n",
       "      <td>0.459766</td>\n",
       "      <td>1.000000</td>\n",
       "      <td>0.451610</td>\n",
       "      <td>0.143334</td>\n",
       "    </tr>\n",
       "    <tr>\n",
       "      <th>q3_balance</th>\n",
       "      <td>-0.000361</td>\n",
       "      <td>-0.000382</td>\n",
       "      <td>-0.007172</td>\n",
       "      <td>-0.004966</td>\n",
       "      <td>0.007531</td>\n",
       "      <td>0.003824</td>\n",
       "      <td>0.742163</td>\n",
       "      <td>-0.020361</td>\n",
       "      <td>0.451610</td>\n",
       "      <td>1.000000</td>\n",
       "      <td>0.625952</td>\n",
       "    </tr>\n",
       "    <tr>\n",
       "      <th>q4_balance</th>\n",
       "      <td>0.009934</td>\n",
       "      <td>0.000332</td>\n",
       "      <td>0.001801</td>\n",
       "      <td>0.011782</td>\n",
       "      <td>0.008495</td>\n",
       "      <td>-0.000456</td>\n",
       "      <td>0.560612</td>\n",
       "      <td>-0.182255</td>\n",
       "      <td>0.143334</td>\n",
       "      <td>0.625952</td>\n",
       "      <td>1.000000</td>\n",
       "    </tr>\n",
       "  </tbody>\n",
       "</table>\n",
       "</div>"
      ],
      "text/plain": [
       "                    income_level  bank_accounts_open  credit_rating  \\\n",
       "income_level            1.000000            0.010299      -0.011006   \n",
       "bank_accounts_open      0.010299            1.000000      -0.013232   \n",
       "credit_rating          -0.011006           -0.013232       1.000000   \n",
       "credit_cards_held       0.000987           -0.004510      -0.004013   \n",
       "homes_owned            -0.000372            0.006153       0.002239   \n",
       "household_size         -0.000813            0.007355      -0.004966   \n",
       "average_balance         0.005185           -0.005248       0.002559   \n",
       "q1_balance              0.008745           -0.003958       0.018383   \n",
       "q2_balance             -0.007705           -0.011090      -0.005143   \n",
       "q3_balance             -0.000361           -0.000382      -0.007172   \n",
       "q4_balance              0.009934            0.000332       0.001801   \n",
       "\n",
       "                    credit_cards_held  homes_owned  household_size  \\\n",
       "income_level                 0.000987    -0.000372       -0.000813   \n",
       "bank_accounts_open          -0.004510     0.006153        0.007355   \n",
       "credit_rating               -0.004013     0.002239       -0.004966   \n",
       "credit_cards_held            1.000000     0.000072       -0.003067   \n",
       "homes_owned                  0.000072     1.000000        0.004484   \n",
       "household_size              -0.003067     0.004484        1.000000   \n",
       "average_balance              0.000790     0.021020        0.000992   \n",
       "q1_balance                  -0.012297     0.015796       -0.005210   \n",
       "q2_balance                  -0.008478     0.010874       -0.006198   \n",
       "q3_balance                  -0.004966     0.007531        0.003824   \n",
       "q4_balance                   0.011782     0.008495       -0.000456   \n",
       "\n",
       "                    average_balance  q1_balance  q2_balance  q3_balance  \\\n",
       "income_level               0.005185    0.008745   -0.007705   -0.000361   \n",
       "bank_accounts_open        -0.005248   -0.003958   -0.011090   -0.000382   \n",
       "credit_rating              0.002559    0.018383   -0.005143   -0.007172   \n",
       "credit_cards_held          0.000790   -0.012297   -0.008478   -0.004966   \n",
       "homes_owned                0.021020    0.015796    0.010874    0.007531   \n",
       "household_size             0.000992   -0.005210   -0.006198    0.003824   \n",
       "average_balance            1.000000    0.423116    0.722968    0.742163   \n",
       "q1_balance                 0.423116    1.000000    0.459766   -0.020361   \n",
       "q2_balance                 0.722968    0.459766    1.000000    0.451610   \n",
       "q3_balance                 0.742163   -0.020361    0.451610    1.000000   \n",
       "q4_balance                 0.560612   -0.182255    0.143334    0.625952   \n",
       "\n",
       "                    q4_balance  \n",
       "income_level          0.009934  \n",
       "bank_accounts_open    0.000332  \n",
       "credit_rating         0.001801  \n",
       "credit_cards_held     0.011782  \n",
       "homes_owned           0.008495  \n",
       "household_size       -0.000456  \n",
       "average_balance       0.560612  \n",
       "q1_balance           -0.182255  \n",
       "q2_balance            0.143334  \n",
       "q3_balance            0.625952  \n",
       "q4_balance            1.000000  "
      ]
     },
     "execution_count": 15,
     "metadata": {},
     "output_type": "execute_result"
    }
   ],
   "source": [
    "# Correlation matrix\n",
    "\n",
    "corr_mat = df.corr(method='spearman')\n",
    "corr_mat"
   ]
  },
  {
   "cell_type": "code",
   "execution_count": 16,
   "id": "319e575f",
   "metadata": {},
   "outputs": [
    {
     "data": {
      "image/png": "[encoded data removed]",
      "text/plain": [
       "<Figure size 1008x864 with 2 Axes>"
      ]
     },
     "metadata": {
      "needs_background": "light"
     },
     "output_type": "display_data"
    }
   ],
   "source": [
    "# Plot a correlation matrix to locate possible correlation right away\n",
    "\n",
    "mask = np.zeros_like(corr_mat)\n",
    "mask[np.triu_indices_from(mask)] = True # Mask to hide the repeated half of the matrix\n",
    "\n",
    "fig, ax = plt.subplots(figsize=(14, 12)) # this will set the width and height of the plot\n",
    "sns.set_context('paper') #This affects things like the size of the labels, lines, and other elements of the plot\n",
    "ax = sns.heatmap(corr_mat, mask=mask, annot=True, cmap='jet') # Heatmap declaration\n",
    "ax.set_title('Multi-collinearity of customer features') #Title for the graph\n",
    "plt.show()\n",
    "# plt.savefig('heatmap.png') "
   ]
  },
  {
   "cell_type": "markdown",
   "id": "1f84592e",
   "metadata": {},
   "source": [
    "# Data cleaning and wrangling"
   ]
  },
  {
   "cell_type": "code",
   "execution_count": 17,
   "id": "b4d52f14",
   "metadata": {},
   "outputs": [
    {
     "data": {
      "image/png": "[encoded data removed]",
      "text/plain": [
       "<Figure size 432x288 with 1 Axes>"
      ]
     },
     "metadata": {
      "needs_background": "light"
     },
     "output_type": "display_data"
    },
    {
     "data": {
      "image/png": "[encoded data removed]",
      "text/plain": [
       "<Figure size 432x288 with 1 Axes>"
      ]
     },
     "metadata": {
      "needs_background": "light"
     },
     "output_type": "display_data"
    },
    {
     "data": {
      "image/png": "[encoded data removed]",
      "text/plain": [
       "<Figure size 432x288 with 1 Axes>"
      ]
     },
     "metadata": {
      "needs_background": "light"
     },
     "output_type": "display_data"
    },
    {
     "data": {
      "image/png": "[encoded data removed]",
      "text/plain": [
       "<Figure size 432x288 with 1 Axes>"
      ]
     },
     "metadata": {
      "needs_background": "light"
     },
     "output_type": "display_data"
    },
    {
     "data": {
      "image/png": "[encoded data removed]",
      "text/plain": [
       "<Figure size 432x288 with 1 Axes>"
      ]
     },
     "metadata": {
      "needs_background": "light"
     },
     "output_type": "display_data"
    },
    {
     "data": {
      "image/png": "[encoded data removed]",
      "text/plain": [
       "<Figure size 432x288 with 1 Axes>"
      ]
     },
     "metadata": {
      "needs_background": "light"
     },
     "output_type": "display_data"
    },
    {
     "data": {
      "image/png": "[encoded data removed]",
      "text/plain": [
       "<Figure size 432x288 with 1 Axes>"
      ]
     },
     "metadata": {
      "needs_background": "light"
     },
     "output_type": "display_data"
    },
    {
     "data": {
      "image/png": "[encoded data removed]",
      "text/plain": [
       "<Figure size 432x288 with 1 Axes>"
      ]
     },
     "metadata": {
      "needs_background": "light"
     },
     "output_type": "display_data"
    },
    {
     "data": {
      "image/png": "[encoded data removed]",
      "text/plain": [
       "<Figure size 432x288 with 1 Axes>"
      ]
     },
     "metadata": {
      "needs_background": "light"
     },
     "output_type": "display_data"
    },
    {
     "data": {
      "image/png": "[encoded data removed]",
      "text/plain": [
       "<Figure size 432x288 with 1 Axes>"
      ]
     },
     "metadata": {
      "needs_background": "light"
     },
     "output_type": "display_data"
    },
    {
     "data": {
      "image/png": "[encoded data removed]",
      "text/plain": [
       "<Figure size 432x288 with 1 Axes>"
      ]
     },
     "metadata": {
      "needs_background": "light"
     },
     "output_type": "display_data"
    }
   ],
   "source": [
    "# Show outliers\n",
    "\n",
    "for column in df.select_dtypes(include='number').columns:\n",
    "    sns.boxplot(df[column])\n",
    "    plt.show()"
   ]
  },
  {
   "cell_type": "code",
   "execution_count": 18,
   "id": "63530ce2",
   "metadata": {},
   "outputs": [],
   "source": [
    "# Remove outliers\n",
    "\n",
    "def remove_outliers(df, threshold=1.5, in_columns=df.select_dtypes(include='number').columns, skip_columns=[]):\n",
    "    for column in in_columns:\n",
    "        if column not in skip_columns:\n",
    "            upper = np.percentile(df[column],75)\n",
    "            lower = np.percentile(df[column],25)\n",
    "            iqr = upper - lower\n",
    "            upper_limit = upper + threshold * iqr\n",
    "            lower_limit = lower - threshold * iqr\n",
    "            df = df[(df[column]>=lower_limit) & (df[column]<=upper_limit)]\n",
    "    return df"
   ]
  },
  {
   "cell_type": "code",
   "execution_count": 19,
   "id": "100f34cd",
   "metadata": {},
   "outputs": [
    {
     "name": "stdout",
     "output_type": "stream",
     "text": [
      "17976 original columns\n",
      "17972 columns after removing outliers\n",
      "0.0 % of data lost\n"
     ]
    }
   ],
   "source": [
    "# Do not reduce your data too much, but play with the parameters, \n",
    "# so after a better analysis you can choose which columns to drop outliers from\n",
    "\n",
    "print(len(df), \"original columns\")\n",
    "\n",
    "df1 = df.copy()\n",
    "\n",
    "df1 = remove_outliers(df1, threshold=3, skip_columns=['average_balance', 'bank_accounts_open', 'homes_owned'])\n",
    "\n",
    "# df1 = remove_outliers(df1, skip_columns=['number_of_open_complaints'])\n",
    "\n",
    "print(len(df1), \"columns after removing outliers\")\n",
    "print(round((1-(len(df1)/len(df)))*100,1), \"% of data lost\")"
   ]
  },
  {
   "cell_type": "code",
   "execution_count": 20,
   "id": "3158ac82",
   "metadata": {},
   "outputs": [
    {
     "name": "stdout",
     "output_type": "stream",
     "text": [
      "17976 original columns\n",
      "17964 columns after removing outliers\n",
      "0.1 % of total data loss\n"
     ]
    }
   ],
   "source": [
    "# Filter outliers on the most important columns with a tighter threshold\n",
    "\n",
    "print(len(df), \"original columns\")\n",
    "\n",
    "df2 = remove_outliers(df1, threshold=2.5, in_columns=['average_balance'])\n",
    "# now filter the outliers on the more important columns with a tighter threshold\n",
    "\n",
    "print(len(df2), \"columns after removing outliers\")\n",
    "print(round((1-(len(df2)/len(df)))*100,1), \"% of total data loss\")"
   ]
  },
  {
   "cell_type": "markdown",
   "id": "3ba725c6",
   "metadata": {},
   "source": [
    "# Feature engineering"
   ]
  },
  {
   "cell_type": "code",
   "execution_count": 21,
   "id": "c254b6c3",
   "metadata": {},
   "outputs": [
    {
     "data": {
      "text/plain": [
       "Index(['reward', 'mailer_type', 'income_level', 'bank_accounts_open',\n",
       "       'overdraft_protection', 'credit_rating', 'credit_cards_held',\n",
       "       'homes_owned', 'household_size', 'own_your_home', 'average_balance',\n",
       "       'q1_balance', 'q2_balance', 'q3_balance', 'q4_balance'],\n",
       "      dtype='object')"
      ]
     },
     "execution_count": 21,
     "metadata": {},
     "output_type": "execute_result"
    }
   ],
   "source": [
    "# X-y Split\n",
    "\n",
    "y = df2['offer_accepted'] # place df1 or df2 if you want to use filtered datasets\n",
    "X = df2.drop(['offer_accepted'], axis=1)\n",
    "X.columns"
   ]
  },
  {
   "cell_type": "code",
   "execution_count": 22,
   "id": "db696644",
   "metadata": {},
   "outputs": [],
   "source": [
    "# Separate numerical and categorical values\n",
    "\n",
    "X_num = X.select_dtypes(include='number')\n",
    "X_cat = X.select_dtypes(exclude='number')"
   ]
  },
  {
   "cell_type": "code",
   "execution_count": 23,
   "id": "747cbd87",
   "metadata": {},
   "outputs": [
    {
     "data": {
      "text/plain": [
       "array([[0., 0., 0., 0., 0.],\n",
       "       [0., 0., 0., 0., 1.],\n",
       "       [0., 0., 1., 0., 1.],\n",
       "       ...,\n",
       "       [1., 0., 0., 0., 0.],\n",
       "       [1., 0., 0., 0., 1.],\n",
       "       [1., 0., 0., 0., 0.]])"
      ]
     },
     "execution_count": 23,
     "metadata": {},
     "output_type": "execute_result"
    }
   ],
   "source": [
    "# One Hot Encoding categorical variables\n",
    "\n",
    "encoder = OneHotEncoder(handle_unknown='error', drop='first') #drop one column for efficiency. It can be deduced\n",
    "X_cat_encoded = encoder.fit_transform(X_cat).toarray()\n",
    "X_cat_encoded"
   ]
  },
  {
   "cell_type": "code",
   "execution_count": 24,
   "id": "ac3d464e",
   "metadata": {},
   "outputs": [
    {
     "data": {
      "text/html": [
       "<div>\n",
       "<style scoped>\n",
       "    .dataframe tbody tr th:only-of-type {\n",
       "        vertical-align: middle;\n",
       "    }\n",
       "\n",
       "    .dataframe tbody tr th {\n",
       "        vertical-align: top;\n",
       "    }\n",
       "\n",
       "    .dataframe thead th {\n",
       "        text-align: right;\n",
       "    }\n",
       "</style>\n",
       "<table border=\"1\" class=\"dataframe\">\n",
       "  <thead>\n",
       "    <tr style=\"text-align: right;\">\n",
       "      <th></th>\n",
       "      <th>income_level</th>\n",
       "      <th>bank_accounts_open</th>\n",
       "      <th>credit_rating</th>\n",
       "      <th>credit_cards_held</th>\n",
       "      <th>homes_owned</th>\n",
       "      <th>household_size</th>\n",
       "      <th>average_balance</th>\n",
       "      <th>q1_balance</th>\n",
       "      <th>q2_balance</th>\n",
       "      <th>q3_balance</th>\n",
       "      <th>q4_balance</th>\n",
       "      <th>x0_Cash Back</th>\n",
       "      <th>x0_Points</th>\n",
       "      <th>x1_Postcard</th>\n",
       "      <th>x2_Yes</th>\n",
       "      <th>x3_Yes</th>\n",
       "    </tr>\n",
       "    <tr>\n",
       "      <th>customer_number</th>\n",
       "      <th></th>\n",
       "      <th></th>\n",
       "      <th></th>\n",
       "      <th></th>\n",
       "      <th></th>\n",
       "      <th></th>\n",
       "      <th></th>\n",
       "      <th></th>\n",
       "      <th></th>\n",
       "      <th></th>\n",
       "      <th></th>\n",
       "      <th></th>\n",
       "      <th></th>\n",
       "      <th></th>\n",
       "      <th></th>\n",
       "      <th></th>\n",
       "    </tr>\n",
       "  </thead>\n",
       "  <tbody>\n",
       "    <tr>\n",
       "      <th>4623</th>\n",
       "      <td>1.0</td>\n",
       "      <td>2.0</td>\n",
       "      <td>1.0</td>\n",
       "      <td>2.0</td>\n",
       "      <td>1.0</td>\n",
       "      <td>5.0</td>\n",
       "      <td>1281.75</td>\n",
       "      <td>696.0</td>\n",
       "      <td>1311.0</td>\n",
       "      <td>1650.0</td>\n",
       "      <td>1470.0</td>\n",
       "      <td>1.0</td>\n",
       "      <td>0.0</td>\n",
       "      <td>0.0</td>\n",
       "      <td>0.0</td>\n",
       "      <td>1.0</td>\n",
       "    </tr>\n",
       "    <tr>\n",
       "      <th>4628</th>\n",
       "      <td>1.0</td>\n",
       "      <td>1.0</td>\n",
       "      <td>2.0</td>\n",
       "      <td>2.0</td>\n",
       "      <td>1.0</td>\n",
       "      <td>2.0</td>\n",
       "      <td>1385.25</td>\n",
       "      <td>1873.0</td>\n",
       "      <td>1628.0</td>\n",
       "      <td>1256.0</td>\n",
       "      <td>784.0</td>\n",
       "      <td>0.0</td>\n",
       "      <td>0.0</td>\n",
       "      <td>1.0</td>\n",
       "      <td>0.0</td>\n",
       "      <td>0.0</td>\n",
       "    </tr>\n",
       "    <tr>\n",
       "      <th>17601</th>\n",
       "      <td>2.0</td>\n",
       "      <td>2.0</td>\n",
       "      <td>0.0</td>\n",
       "      <td>1.0</td>\n",
       "      <td>1.0</td>\n",
       "      <td>3.0</td>\n",
       "      <td>684.75</td>\n",
       "      <td>545.0</td>\n",
       "      <td>896.0</td>\n",
       "      <td>660.0</td>\n",
       "      <td>638.0</td>\n",
       "      <td>0.0</td>\n",
       "      <td>1.0</td>\n",
       "      <td>0.0</td>\n",
       "      <td>0.0</td>\n",
       "      <td>1.0</td>\n",
       "    </tr>\n",
       "    <tr>\n",
       "      <th>2467</th>\n",
       "      <td>2.0</td>\n",
       "      <td>2.0</td>\n",
       "      <td>1.0</td>\n",
       "      <td>3.0</td>\n",
       "      <td>1.0</td>\n",
       "      <td>1.0</td>\n",
       "      <td>246.00</td>\n",
       "      <td>426.0</td>\n",
       "      <td>337.0</td>\n",
       "      <td>80.0</td>\n",
       "      <td>141.0</td>\n",
       "      <td>0.0</td>\n",
       "      <td>0.0</td>\n",
       "      <td>0.0</td>\n",
       "      <td>0.0</td>\n",
       "      <td>0.0</td>\n",
       "    </tr>\n",
       "    <tr>\n",
       "      <th>9815</th>\n",
       "      <td>1.0</td>\n",
       "      <td>2.0</td>\n",
       "      <td>2.0</td>\n",
       "      <td>2.0</td>\n",
       "      <td>1.0</td>\n",
       "      <td>3.0</td>\n",
       "      <td>757.50</td>\n",
       "      <td>669.0</td>\n",
       "      <td>877.0</td>\n",
       "      <td>906.0</td>\n",
       "      <td>578.0</td>\n",
       "      <td>0.0</td>\n",
       "      <td>1.0</td>\n",
       "      <td>0.0</td>\n",
       "      <td>0.0</td>\n",
       "      <td>1.0</td>\n",
       "    </tr>\n",
       "  </tbody>\n",
       "</table>\n",
       "</div>"
      ],
      "text/plain": [
       "                 income_level  bank_accounts_open  credit_rating  \\\n",
       "customer_number                                                    \n",
       "4623                      1.0                 2.0            1.0   \n",
       "4628                      1.0                 1.0            2.0   \n",
       "17601                     2.0                 2.0            0.0   \n",
       "2467                      2.0                 2.0            1.0   \n",
       "9815                      1.0                 2.0            2.0   \n",
       "\n",
       "                 credit_cards_held  homes_owned  household_size  \\\n",
       "customer_number                                                   \n",
       "4623                           2.0          1.0             5.0   \n",
       "4628                           2.0          1.0             2.0   \n",
       "17601                          1.0          1.0             3.0   \n",
       "2467                           3.0          1.0             1.0   \n",
       "9815                           2.0          1.0             3.0   \n",
       "\n",
       "                 average_balance  q1_balance  q2_balance  q3_balance  \\\n",
       "customer_number                                                        \n",
       "4623                     1281.75       696.0      1311.0      1650.0   \n",
       "4628                     1385.25      1873.0      1628.0      1256.0   \n",
       "17601                     684.75       545.0       896.0       660.0   \n",
       "2467                      246.00       426.0       337.0        80.0   \n",
       "9815                      757.50       669.0       877.0       906.0   \n",
       "\n",
       "                 q4_balance  x0_Cash Back  x0_Points  x1_Postcard  x2_Yes  \\\n",
       "customer_number                                                             \n",
       "4623                 1470.0           1.0        0.0          0.0     0.0   \n",
       "4628                  784.0           0.0        0.0          1.0     0.0   \n",
       "17601                 638.0           0.0        1.0          0.0     0.0   \n",
       "2467                  141.0           0.0        0.0          0.0     0.0   \n",
       "9815                  578.0           0.0        1.0          0.0     0.0   \n",
       "\n",
       "                 x3_Yes  \n",
       "customer_number          \n",
       "4623                1.0  \n",
       "4628                0.0  \n",
       "17601               1.0  \n",
       "2467                0.0  \n",
       "9815                1.0  "
      ]
     },
     "execution_count": 24,
     "metadata": {},
     "output_type": "execute_result"
    }
   ],
   "source": [
    "# Concat DataFrames\n",
    "\n",
    "column_names = list(X_num.columns) # get list of numerical column names\n",
    "column_names.extend(list(encoder.get_feature_names())) # add list of dummified categorical column names\n",
    "\n",
    "X_numcat = np.concatenate([X_num, X_cat_encoded], axis=1)\n",
    "X_ready = pd.DataFrame(data=X_numcat, index=X.index, columns=column_names)\n",
    "X_ready.sample(5)"
   ]
  },
  {
   "cell_type": "code",
   "execution_count": 25,
   "id": "a5079fa5",
   "metadata": {},
   "outputs": [],
   "source": [
    "# TRAIN-TEST SPLIT\n",
    "\n",
    "X_train, X_test, y_train, y_test = train_test_split(X_ready, y, test_size=0.3, random_state=42)"
   ]
  },
  {
   "cell_type": "code",
   "execution_count": 26,
   "id": "18383078",
   "metadata": {},
   "outputs": [],
   "source": [
    "# MinMaxScaler: use it only after the train-test split!\n",
    "\n",
    "MMscaler = MinMaxScaler().fit(X_train) # initialize MinMaxScaler and fit TRAIN data to compute minimum and maximum of X"
   ]
  },
  {
   "cell_type": "code",
   "execution_count": 27,
   "id": "226be3a0",
   "metadata": {},
   "outputs": [
    {
     "data": {
      "text/html": [
       "<div>\n",
       "<style scoped>\n",
       "    .dataframe tbody tr th:only-of-type {\n",
       "        vertical-align: middle;\n",
       "    }\n",
       "\n",
       "    .dataframe tbody tr th {\n",
       "        vertical-align: top;\n",
       "    }\n",
       "\n",
       "    .dataframe thead th {\n",
       "        text-align: right;\n",
       "    }\n",
       "</style>\n",
       "<table border=\"1\" class=\"dataframe\">\n",
       "  <thead>\n",
       "    <tr style=\"text-align: right;\">\n",
       "      <th></th>\n",
       "      <th>income_level</th>\n",
       "      <th>bank_accounts_open</th>\n",
       "      <th>credit_rating</th>\n",
       "      <th>credit_cards_held</th>\n",
       "      <th>homes_owned</th>\n",
       "      <th>household_size</th>\n",
       "      <th>average_balance</th>\n",
       "      <th>q1_balance</th>\n",
       "      <th>q2_balance</th>\n",
       "      <th>q3_balance</th>\n",
       "      <th>q4_balance</th>\n",
       "      <th>x0_Cash Back</th>\n",
       "      <th>x0_Points</th>\n",
       "      <th>x1_Postcard</th>\n",
       "      <th>x2_Yes</th>\n",
       "      <th>x3_Yes</th>\n",
       "    </tr>\n",
       "    <tr>\n",
       "      <th>customer_number</th>\n",
       "      <th></th>\n",
       "      <th></th>\n",
       "      <th></th>\n",
       "      <th></th>\n",
       "      <th></th>\n",
       "      <th></th>\n",
       "      <th></th>\n",
       "      <th></th>\n",
       "      <th></th>\n",
       "      <th></th>\n",
       "      <th></th>\n",
       "      <th></th>\n",
       "      <th></th>\n",
       "      <th></th>\n",
       "      <th></th>\n",
       "      <th></th>\n",
       "    </tr>\n",
       "  </thead>\n",
       "  <tbody>\n",
       "    <tr>\n",
       "      <th>9762</th>\n",
       "      <td>0.5</td>\n",
       "      <td>0.0</td>\n",
       "      <td>1.0</td>\n",
       "      <td>0.333333</td>\n",
       "      <td>0.0</td>\n",
       "      <td>0.6</td>\n",
       "      <td>0.113603</td>\n",
       "      <td>0.196364</td>\n",
       "      <td>0.244122</td>\n",
       "      <td>0.001305</td>\n",
       "      <td>0.039155</td>\n",
       "      <td>0.0</td>\n",
       "      <td>0.0</td>\n",
       "      <td>0.0</td>\n",
       "      <td>0.0</td>\n",
       "      <td>1.0</td>\n",
       "    </tr>\n",
       "    <tr>\n",
       "      <th>3328</th>\n",
       "      <td>0.5</td>\n",
       "      <td>0.0</td>\n",
       "      <td>0.0</td>\n",
       "      <td>0.000000</td>\n",
       "      <td>0.0</td>\n",
       "      <td>0.4</td>\n",
       "      <td>0.555674</td>\n",
       "      <td>0.148636</td>\n",
       "      <td>0.627814</td>\n",
       "      <td>0.937364</td>\n",
       "      <td>0.199814</td>\n",
       "      <td>0.0</td>\n",
       "      <td>1.0</td>\n",
       "      <td>1.0</td>\n",
       "      <td>0.0</td>\n",
       "      <td>1.0</td>\n",
       "    </tr>\n",
       "    <tr>\n",
       "      <th>6462</th>\n",
       "      <td>0.5</td>\n",
       "      <td>0.0</td>\n",
       "      <td>0.0</td>\n",
       "      <td>0.333333</td>\n",
       "      <td>0.5</td>\n",
       "      <td>0.4</td>\n",
       "      <td>0.463835</td>\n",
       "      <td>0.806818</td>\n",
       "      <td>0.524762</td>\n",
       "      <td>0.345803</td>\n",
       "      <td>0.021442</td>\n",
       "      <td>1.0</td>\n",
       "      <td>0.0</td>\n",
       "      <td>0.0</td>\n",
       "      <td>0.0</td>\n",
       "      <td>0.0</td>\n",
       "    </tr>\n",
       "    <tr>\n",
       "      <th>15969</th>\n",
       "      <td>0.5</td>\n",
       "      <td>0.0</td>\n",
       "      <td>0.0</td>\n",
       "      <td>0.000000</td>\n",
       "      <td>0.0</td>\n",
       "      <td>0.4</td>\n",
       "      <td>0.532316</td>\n",
       "      <td>0.065909</td>\n",
       "      <td>0.279140</td>\n",
       "      <td>0.599826</td>\n",
       "      <td>0.659416</td>\n",
       "      <td>0.0</td>\n",
       "      <td>1.0</td>\n",
       "      <td>1.0</td>\n",
       "      <td>0.0</td>\n",
       "      <td>1.0</td>\n",
       "    </tr>\n",
       "    <tr>\n",
       "      <th>9518</th>\n",
       "      <td>0.5</td>\n",
       "      <td>0.0</td>\n",
       "      <td>0.5</td>\n",
       "      <td>0.666667</td>\n",
       "      <td>0.0</td>\n",
       "      <td>0.6</td>\n",
       "      <td>0.777306</td>\n",
       "      <td>0.520000</td>\n",
       "      <td>0.778389</td>\n",
       "      <td>0.928230</td>\n",
       "      <td>0.377874</td>\n",
       "      <td>1.0</td>\n",
       "      <td>0.0</td>\n",
       "      <td>1.0</td>\n",
       "      <td>0.0</td>\n",
       "      <td>0.0</td>\n",
       "    </tr>\n",
       "  </tbody>\n",
       "</table>\n",
       "</div>"
      ],
      "text/plain": [
       "                 income_level  bank_accounts_open  credit_rating  \\\n",
       "customer_number                                                    \n",
       "9762                      0.5                 0.0            1.0   \n",
       "3328                      0.5                 0.0            0.0   \n",
       "6462                      0.5                 0.0            0.0   \n",
       "15969                     0.5                 0.0            0.0   \n",
       "9518                      0.5                 0.0            0.5   \n",
       "\n",
       "                 credit_cards_held  homes_owned  household_size  \\\n",
       "customer_number                                                   \n",
       "9762                      0.333333          0.0             0.6   \n",
       "3328                      0.000000          0.0             0.4   \n",
       "6462                      0.333333          0.5             0.4   \n",
       "15969                     0.000000          0.0             0.4   \n",
       "9518                      0.666667          0.0             0.6   \n",
       "\n",
       "                 average_balance  q1_balance  q2_balance  q3_balance  \\\n",
       "customer_number                                                        \n",
       "9762                    0.113603    0.196364    0.244122    0.001305   \n",
       "3328                    0.555674    0.148636    0.627814    0.937364   \n",
       "6462                    0.463835    0.806818    0.524762    0.345803   \n",
       "15969                   0.532316    0.065909    0.279140    0.599826   \n",
       "9518                    0.777306    0.520000    0.778389    0.928230   \n",
       "\n",
       "                 q4_balance  x0_Cash Back  x0_Points  x1_Postcard  x2_Yes  \\\n",
       "customer_number                                                             \n",
       "9762               0.039155           0.0        0.0          0.0     0.0   \n",
       "3328               0.199814           0.0        1.0          1.0     0.0   \n",
       "6462               0.021442           1.0        0.0          0.0     0.0   \n",
       "15969              0.659416           0.0        1.0          1.0     0.0   \n",
       "9518               0.377874           1.0        0.0          1.0     0.0   \n",
       "\n",
       "                 x3_Yes  \n",
       "customer_number          \n",
       "9762                1.0  \n",
       "3328                1.0  \n",
       "6462                0.0  \n",
       "15969               1.0  \n",
       "9518                0.0  "
      ]
     },
     "execution_count": 27,
     "metadata": {},
     "output_type": "execute_result"
    }
   ],
   "source": [
    "# Transform TRAIN data with the scaler\n",
    "\n",
    "X_train_MMscaled = pd.DataFrame( # convert np array returned by scaler.transform() into a pd dataframe\n",
    "    data=MMscaler.transform(X_train), # use scaler to put all numerical values between 0 (X_train min) and 1 (X_train max)\n",
    "    index=X_train.index, columns=X_train.columns) # set index and column names of the new dataframe\n",
    "X_train_MMscaled.sample(5)"
   ]
  },
  {
   "cell_type": "code",
   "execution_count": 28,
   "id": "66b7a473",
   "metadata": {},
   "outputs": [
    {
     "data": {
      "text/html": [
       "<div>\n",
       "<style scoped>\n",
       "    .dataframe tbody tr th:only-of-type {\n",
       "        vertical-align: middle;\n",
       "    }\n",
       "\n",
       "    .dataframe tbody tr th {\n",
       "        vertical-align: top;\n",
       "    }\n",
       "\n",
       "    .dataframe thead th {\n",
       "        text-align: right;\n",
       "    }\n",
       "</style>\n",
       "<table border=\"1\" class=\"dataframe\">\n",
       "  <thead>\n",
       "    <tr style=\"text-align: right;\">\n",
       "      <th></th>\n",
       "      <th>income_level</th>\n",
       "      <th>bank_accounts_open</th>\n",
       "      <th>credit_rating</th>\n",
       "      <th>credit_cards_held</th>\n",
       "      <th>homes_owned</th>\n",
       "      <th>household_size</th>\n",
       "      <th>average_balance</th>\n",
       "      <th>q1_balance</th>\n",
       "      <th>q2_balance</th>\n",
       "      <th>q3_balance</th>\n",
       "      <th>q4_balance</th>\n",
       "      <th>x0_Cash Back</th>\n",
       "      <th>x0_Points</th>\n",
       "      <th>x1_Postcard</th>\n",
       "      <th>x2_Yes</th>\n",
       "      <th>x3_Yes</th>\n",
       "    </tr>\n",
       "    <tr>\n",
       "      <th>customer_number</th>\n",
       "      <th></th>\n",
       "      <th></th>\n",
       "      <th></th>\n",
       "      <th></th>\n",
       "      <th></th>\n",
       "      <th></th>\n",
       "      <th></th>\n",
       "      <th></th>\n",
       "      <th></th>\n",
       "      <th></th>\n",
       "      <th></th>\n",
       "      <th></th>\n",
       "      <th></th>\n",
       "      <th></th>\n",
       "      <th></th>\n",
       "      <th></th>\n",
       "    </tr>\n",
       "  </thead>\n",
       "  <tbody>\n",
       "    <tr>\n",
       "      <th>7758</th>\n",
       "      <td>0.5</td>\n",
       "      <td>0.0</td>\n",
       "      <td>0.0</td>\n",
       "      <td>0.333333</td>\n",
       "      <td>0.0</td>\n",
       "      <td>0.2</td>\n",
       "      <td>0.582880</td>\n",
       "      <td>0.679545</td>\n",
       "      <td>0.597299</td>\n",
       "      <td>0.550674</td>\n",
       "      <td>0.195774</td>\n",
       "      <td>1.0</td>\n",
       "      <td>0.0</td>\n",
       "      <td>1.0</td>\n",
       "      <td>0.0</td>\n",
       "      <td>1.0</td>\n",
       "    </tr>\n",
       "    <tr>\n",
       "      <th>3631</th>\n",
       "      <td>0.0</td>\n",
       "      <td>0.0</td>\n",
       "      <td>0.5</td>\n",
       "      <td>0.000000</td>\n",
       "      <td>0.5</td>\n",
       "      <td>0.6</td>\n",
       "      <td>0.427870</td>\n",
       "      <td>0.609091</td>\n",
       "      <td>0.573787</td>\n",
       "      <td>0.192692</td>\n",
       "      <td>0.151336</td>\n",
       "      <td>0.0</td>\n",
       "      <td>0.0</td>\n",
       "      <td>1.0</td>\n",
       "      <td>0.0</td>\n",
       "      <td>0.0</td>\n",
       "    </tr>\n",
       "    <tr>\n",
       "      <th>1170</th>\n",
       "      <td>1.0</td>\n",
       "      <td>0.0</td>\n",
       "      <td>0.0</td>\n",
       "      <td>0.000000</td>\n",
       "      <td>0.0</td>\n",
       "      <td>0.6</td>\n",
       "      <td>0.405176</td>\n",
       "      <td>0.425909</td>\n",
       "      <td>0.492746</td>\n",
       "      <td>0.258373</td>\n",
       "      <td>0.226849</td>\n",
       "      <td>0.0</td>\n",
       "      <td>1.0</td>\n",
       "      <td>1.0</td>\n",
       "      <td>0.0</td>\n",
       "      <td>1.0</td>\n",
       "    </tr>\n",
       "    <tr>\n",
       "      <th>840</th>\n",
       "      <td>0.5</td>\n",
       "      <td>0.0</td>\n",
       "      <td>1.0</td>\n",
       "      <td>0.333333</td>\n",
       "      <td>0.0</td>\n",
       "      <td>0.6</td>\n",
       "      <td>0.028135</td>\n",
       "      <td>0.015909</td>\n",
       "      <td>0.098549</td>\n",
       "      <td>0.029143</td>\n",
       "      <td>0.032940</td>\n",
       "      <td>0.0</td>\n",
       "      <td>0.0</td>\n",
       "      <td>1.0</td>\n",
       "      <td>0.0</td>\n",
       "      <td>1.0</td>\n",
       "    </tr>\n",
       "    <tr>\n",
       "      <th>14611</th>\n",
       "      <td>1.0</td>\n",
       "      <td>0.0</td>\n",
       "      <td>1.0</td>\n",
       "      <td>0.000000</td>\n",
       "      <td>0.5</td>\n",
       "      <td>0.2</td>\n",
       "      <td>0.766821</td>\n",
       "      <td>0.678636</td>\n",
       "      <td>0.889445</td>\n",
       "      <td>0.615485</td>\n",
       "      <td>0.399316</td>\n",
       "      <td>1.0</td>\n",
       "      <td>0.0</td>\n",
       "      <td>1.0</td>\n",
       "      <td>0.0</td>\n",
       "      <td>0.0</td>\n",
       "    </tr>\n",
       "  </tbody>\n",
       "</table>\n",
       "</div>"
      ],
      "text/plain": [
       "                 income_level  bank_accounts_open  credit_rating  \\\n",
       "customer_number                                                    \n",
       "7758                      0.5                 0.0            0.0   \n",
       "3631                      0.0                 0.0            0.5   \n",
       "1170                      1.0                 0.0            0.0   \n",
       "840                       0.5                 0.0            1.0   \n",
       "14611                     1.0                 0.0            1.0   \n",
       "\n",
       "                 credit_cards_held  homes_owned  household_size  \\\n",
       "customer_number                                                   \n",
       "7758                      0.333333          0.0             0.2   \n",
       "3631                      0.000000          0.5             0.6   \n",
       "1170                      0.000000          0.0             0.6   \n",
       "840                       0.333333          0.0             0.6   \n",
       "14611                     0.000000          0.5             0.2   \n",
       "\n",
       "                 average_balance  q1_balance  q2_balance  q3_balance  \\\n",
       "customer_number                                                        \n",
       "7758                    0.582880    0.679545    0.597299    0.550674   \n",
       "3631                    0.427870    0.609091    0.573787    0.192692   \n",
       "1170                    0.405176    0.425909    0.492746    0.258373   \n",
       "840                     0.028135    0.015909    0.098549    0.029143   \n",
       "14611                   0.766821    0.678636    0.889445    0.615485   \n",
       "\n",
       "                 q4_balance  x0_Cash Back  x0_Points  x1_Postcard  x2_Yes  \\\n",
       "customer_number                                                             \n",
       "7758               0.195774           1.0        0.0          1.0     0.0   \n",
       "3631               0.151336           0.0        0.0          1.0     0.0   \n",
       "1170               0.226849           0.0        1.0          1.0     0.0   \n",
       "840                0.032940           0.0        0.0          1.0     0.0   \n",
       "14611              0.399316           1.0        0.0          1.0     0.0   \n",
       "\n",
       "                 x3_Yes  \n",
       "customer_number          \n",
       "7758                1.0  \n",
       "3631                0.0  \n",
       "1170                1.0  \n",
       "840                 1.0  \n",
       "14611               0.0  "
      ]
     },
     "execution_count": 28,
     "metadata": {},
     "output_type": "execute_result"
    }
   ],
   "source": [
    "# Transform TEST data with the scaler\n",
    "\n",
    "X_test_MMscaled = pd.DataFrame( # convert np array returned by scaler.transform() into a pd dataframe\n",
    "    data=MMscaler.transform(X_test), # use scaler to put all numerical values between 0 (X_train min) and 1 (X_train max)\n",
    "    index=X_test.index, columns=X_test.columns) # set index and column names of the new dataframe\n",
    "X_test_MMscaled.sample(5)"
   ]
  },
  {
   "cell_type": "markdown",
   "id": "8117e302",
   "metadata": {},
   "source": [
    "# Balancing"
   ]
  },
  {
   "cell_type": "code",
   "execution_count": 29,
   "id": "54d8dce4",
   "metadata": {},
   "outputs": [
    {
     "name": "stdout",
     "output_type": "stream",
     "text": [
      "No     16944\n",
      "Yes     1020\n",
      "Name: offer_accepted, dtype: int64\n",
      "The NO:YES ratio is 17.0\n"
     ]
    }
   ],
   "source": [
    "balance_1=df2['offer_accepted'].value_counts() #value counts of the target directly from the dataset\n",
    "print(balance_1)\n",
    "print(\"The NO:YES ratio is\",round(balance_1.array[0]/balance_1.array[1], 0))"
   ]
  },
  {
   "cell_type": "markdown",
   "id": "889ece8c",
   "metadata": {},
   "source": [
    "## 1 - TOMEK Links undersampling"
   ]
  },
  {
   "cell_type": "markdown",
   "id": "2e44088d",
   "metadata": {},
   "source": [
    "First, we apply an undersampling technique to the X/y train dataframes from the X/y train/test split. This will serve to \"soften\" the clusters of each category."
   ]
  },
  {
   "cell_type": "code",
   "execution_count": 30,
   "id": "ea5a5d79",
   "metadata": {},
   "outputs": [
    {
     "data": {
      "text/plain": [
       "No     11522\n",
       "Yes      726\n",
       "Name: offer_accepted, dtype: int64"
      ]
     },
     "metadata": {},
     "output_type": "display_data"
    },
    {
     "name": "stdout",
     "output_type": "stream",
     "text": [
      "The NO:YES ratio is 16.0\n"
     ]
    }
   ],
   "source": [
    "from imblearn.under_sampling import TomekLinks\n",
    "tl = TomekLinks(sampling_strategy='not minority') # initialize Tomek Links\n",
    "\n",
    "#Apply undersampling to X_train and y_train\n",
    "X_train_tl_1, y_train_tl_1 = tl.fit_resample(X_train_MMscaled, y_train)  #X_train and y_train after TL 1\n",
    "display(y_train_tl_1.value_counts())\n",
    "balance_2=y_train_tl_1.value_counts() #value counts of the target after TL 1\n",
    "print(\"The NO:YES ratio is\",round(balance_2.array[0]/balance_2.array[1], 0))"
   ]
  },
  {
   "cell_type": "markdown",
   "id": "12ba4fd8",
   "metadata": {},
   "source": [
    "The imbalancing has improved, but it is not balanced enough yet. We next apply oversampling with SMOTE."
   ]
  },
  {
   "cell_type": "markdown",
   "id": "fc043e53",
   "metadata": {},
   "source": [
    "## 2 - SMOTE oversampling"
   ]
  },
  {
   "cell_type": "code",
   "execution_count": 31,
   "id": "0b69282b",
   "metadata": {},
   "outputs": [
    {
     "data": {
      "text/plain": [
       "Yes    11522\n",
       "No     11522\n",
       "Name: offer_accepted, dtype: int64"
      ]
     },
     "metadata": {},
     "output_type": "display_data"
    },
    {
     "name": "stdout",
     "output_type": "stream",
     "text": [
      "The NO:YES ratio is 1.0\n"
     ]
    }
   ],
   "source": [
    "from imblearn.over_sampling import SMOTE\n",
    "smote = SMOTE()\n",
    "X_train_sm, y_train_sm = smote.fit_resample(X_train_tl_1, y_train_tl_1)  #X_train and y_train after SMOTE\n",
    "display(y_train_sm.value_counts())\n",
    "balance_3=y_train_sm.value_counts() #value counts of the target after SMOTE\n",
    "print(\"The NO:YES ratio is\",round(balance_3.array[0]/balance_3.array[1], 0))"
   ]
  },
  {
   "cell_type": "markdown",
   "id": "fb96c2d3",
   "metadata": {},
   "source": [
    "As expected, the oversampling has completely balanced the values in the y_train dataset. However, this is not real: many \"fake\" values have been added, and this could generate artificial predictions from our model."
   ]
  },
  {
   "cell_type": "markdown",
   "id": "1b0d3904",
   "metadata": {},
   "source": [
    "## 3 - TOMEK Links polishing"
   ]
  },
  {
   "cell_type": "code",
   "execution_count": 32,
   "id": "749705d3",
   "metadata": {},
   "outputs": [
    {
     "data": {
      "text/plain": [
       "No     11522\n",
       "Yes    11511\n",
       "Name: offer_accepted, dtype: int64"
      ]
     },
     "metadata": {},
     "output_type": "display_data"
    },
    {
     "name": "stdout",
     "output_type": "stream",
     "text": [
      "The NO:YES ratio is 1.0\n"
     ]
    }
   ],
   "source": [
    "#Apply undersampling again to X_train_sm and y_train_sm\n",
    "X_train_tl_2, y_train_tl_2 = tl.fit_resample(X_train_sm, y_train_sm)  #X_train and y_train after TL 1\n",
    "display(y_train_tl_2.value_counts())\n",
    "balance_4=y_train_tl_2.value_counts() #value counts of the target after TL 1\n",
    "print(\"The NO:YES ratio is\",round(balance_4.array[0]/balance_4.array[1], 1))"
   ]
  },
  {
   "cell_type": "markdown",
   "id": "3dbffe5e",
   "metadata": {},
   "source": [
    "The balance of our data is seemingly good now. We proceed to train our model and make predictions."
   ]
  },
  {
   "cell_type": "markdown",
   "id": "0293f824",
   "metadata": {},
   "source": [
    "# Modeling"
   ]
  },
  {
   "cell_type": "code",
   "execution_count": 33,
   "id": "364c732c",
   "metadata": {},
   "outputs": [],
   "source": [
    "# Apply logistic regression: initialize Logistic Regression and fit scaled TRAIN X and TRAIN y data (target)\n",
    "\n",
    "classification = LogisticRegression(random_state=42, max_iter=1000).fit(X_train_tl_2, y_train_tl_2)"
   ]
  },
  {
   "cell_type": "markdown",
   "id": "51a2966c",
   "metadata": {},
   "source": [
    "# Model Evaluation"
   ]
  },
  {
   "cell_type": "code",
   "execution_count": 34,
   "id": "9f311e77",
   "metadata": {},
   "outputs": [
    {
     "name": "stdout",
     "output_type": "stream",
     "text": [
      "Score = 0.672\n"
     ]
    },
    {
     "data": {
      "text/plain": [
       "No     3510\n",
       "Yes    1880\n",
       "dtype: int64"
      ]
     },
     "metadata": {},
     "output_type": "display_data"
    },
    {
     "data": {
      "text/plain": [
       "No     5096\n",
       "Yes     294\n",
       "Name: offer_accepted, dtype: int64"
      ]
     },
     "metadata": {},
     "output_type": "display_data"
    },
    {
     "data": {
      "image/png": "[encoded data removed]",
      "text/plain": [
       "<Figure size 432x288 with 2 Axes>"
      ]
     },
     "metadata": {
      "needs_background": "light"
     },
     "output_type": "display_data"
    },
    {
     "data": {
      "image/png": "[encoded data removed]",
      "text/plain": [
       "<Figure size 432x288 with 2 Axes>"
      ]
     },
     "metadata": {
      "needs_background": "light"
     },
     "output_type": "display_data"
    },
    {
     "name": "stdout",
     "output_type": "stream",
     "text": [
      "              precision    recall  f1-score   support\n",
      "\n",
      "          No       0.97      0.67      0.79      5096\n",
      "         Yes       0.11      0.69      0.19       294\n",
      "\n",
      "    accuracy                           0.67      5390\n",
      "   macro avg       0.54      0.68      0.49      5390\n",
      "weighted avg       0.93      0.67      0.76      5390\n",
      "\n"
     ]
    }
   ],
   "source": [
    "#Score and predictions\n",
    "print(\"Score =\",round(classification.score(X_test_MMscaled, y_test), 3))\n",
    "predictions = classification.predict(X_test_MMscaled)\n",
    "display(pd.Series(predictions).value_counts())\n",
    "display(y_test.value_counts())\n",
    "\n",
    "#Confusion matrices\n",
    "confusion_matrix(y_test, predictions)\n",
    "cf_matrix = confusion_matrix(y_test, predictions)\n",
    "group_names = ['True No', 'False Yes', 'False No', 'True Yes']\n",
    "\n",
    "group_counts = [\"{0:0.0f}\".format(value) for value in cf_matrix.flatten()]\n",
    "group_percentages = [\"{0:.2%}\".format(value) for value in cf_matrix.flatten()/np.sum(cf_matrix)]\n",
    "labels = [f\"{v1}\\n{v2}\\n{v3}\" for v1, v2, v3 in zip(group_names,group_counts,group_percentages)]\n",
    "labels = np.asarray(labels).reshape(2,2) #Modify this accordingly\n",
    "sns.heatmap(cf_matrix, annot=labels, fmt='', cmap='Blues')\n",
    "\n",
    "from sklearn.metrics import plot_confusion_matrix\n",
    "from sklearn.metrics import classification_report\n",
    "plot_confusion_matrix(classification, X_test_MMscaled, y_test, cmap='Blues')\n",
    "plt.show()\n",
    "print(classification_report(y_test, predictions))"
   ]
  },
  {
   "cell_type": "code",
   "execution_count": 35,
   "id": "333f26ba",
   "metadata": {},
   "outputs": [
    {
     "data": {
      "text/plain": [
       "array([[-1.22232203, -0.69383775, -2.22685341, -0.21109086, -0.29512032,\n",
       "        -0.10913801, -0.09391965, -0.36950194,  0.4115691 , -0.22928436,\n",
       "         0.02630502, -1.18352835, -0.50574183,  0.9814277 , -0.15752556,\n",
       "         0.13777804]])"
      ]
     },
     "execution_count": 35,
     "metadata": {},
     "output_type": "execute_result"
    }
   ],
   "source": [
    "classification.coef_"
   ]
  },
  {
   "cell_type": "code",
   "execution_count": 36,
   "id": "17519040",
   "metadata": {},
   "outputs": [
    {
     "ename": "AttributeError",
     "evalue": "'LogisticRegression' object has no attribute 'feature_names_in_'",
     "output_type": "error",
     "traceback": [
      "\u001b[1;31m---------------------------------------------------------------------------\u001b[0m",
      "\u001b[1;31mAttributeError\u001b[0m                            Traceback (most recent call last)",
      "\u001b[1;32m<ipython-input-36-071f126ff1d4>\u001b[0m in \u001b[0;36m<module>\u001b[1;34m\u001b[0m\n\u001b[1;32m----> 1\u001b[1;33m \u001b[0mclassification\u001b[0m\u001b[1;33m.\u001b[0m\u001b[0mfeature_names_in_\u001b[0m \u001b[1;31m# It's in documentation and it should be working for this version. Ask TA\u001b[0m\u001b[1;33m\u001b[0m\u001b[1;33m\u001b[0m\u001b[0m\n\u001b[0m",
      "\u001b[1;31mAttributeError\u001b[0m: 'LogisticRegression' object has no attribute 'feature_names_in_'"
     ]
    }
   ],
   "source": [
    "#classification.feature_names_in_ # ERROR! It's in documentation and it should be working for this version. Ask TA"
   ]
  },
  {
   "cell_type": "code",
   "execution_count": 37,
   "id": "7e55a2eb",
   "metadata": {},
   "outputs": [
    {
     "data": {
      "text/plain": [
       "['income_level',\n",
       " 'bank_accounts_open',\n",
       " 'credit_rating',\n",
       " 'credit_cards_held',\n",
       " 'homes_owned',\n",
       " 'household_size',\n",
       " 'average_balance',\n",
       " 'q1_balance',\n",
       " 'q2_balance',\n",
       " 'q3_balance',\n",
       " 'q4_balance',\n",
       " 'x0_Cash Back',\n",
       " 'x0_Points',\n",
       " 'x1_Postcard',\n",
       " 'x2_Yes',\n",
       " 'x3_Yes']"
      ]
     },
     "execution_count": 37,
     "metadata": {},
     "output_type": "execute_result"
    }
   ],
   "source": [
    "column_names"
   ]
  },
  {
   "cell_type": "code",
   "execution_count": 38,
   "id": "8f825264",
   "metadata": {},
   "outputs": [
    {
     "data": {
      "text/html": [
       "<div>\n",
       "<style scoped>\n",
       "    .dataframe tbody tr th:only-of-type {\n",
       "        vertical-align: middle;\n",
       "    }\n",
       "\n",
       "    .dataframe tbody tr th {\n",
       "        vertical-align: top;\n",
       "    }\n",
       "\n",
       "    .dataframe thead th {\n",
       "        text-align: right;\n",
       "    }\n",
       "</style>\n",
       "<table border=\"1\" class=\"dataframe\">\n",
       "  <thead>\n",
       "    <tr style=\"text-align: right;\">\n",
       "      <th></th>\n",
       "      <th>income_level</th>\n",
       "      <th>bank_accounts_open</th>\n",
       "      <th>credit_rating</th>\n",
       "      <th>credit_cards_held</th>\n",
       "      <th>homes_owned</th>\n",
       "      <th>household_size</th>\n",
       "      <th>average_balance</th>\n",
       "      <th>q1_balance</th>\n",
       "      <th>q2_balance</th>\n",
       "      <th>q3_balance</th>\n",
       "      <th>q4_balance</th>\n",
       "      <th>x0_Cash Back</th>\n",
       "      <th>x0_Points</th>\n",
       "      <th>x1_Postcard</th>\n",
       "      <th>x2_Yes</th>\n",
       "      <th>x3_Yes</th>\n",
       "    </tr>\n",
       "  </thead>\n",
       "  <tbody>\n",
       "    <tr>\n",
       "      <th>0</th>\n",
       "      <td>-1.222322</td>\n",
       "      <td>-0.693838</td>\n",
       "      <td>-2.226853</td>\n",
       "      <td>-0.211091</td>\n",
       "      <td>-0.29512</td>\n",
       "      <td>-0.109138</td>\n",
       "      <td>-0.09392</td>\n",
       "      <td>-0.369502</td>\n",
       "      <td>0.411569</td>\n",
       "      <td>-0.229284</td>\n",
       "      <td>0.026305</td>\n",
       "      <td>-1.183528</td>\n",
       "      <td>-0.505742</td>\n",
       "      <td>0.981428</td>\n",
       "      <td>-0.157526</td>\n",
       "      <td>0.137778</td>\n",
       "    </tr>\n",
       "  </tbody>\n",
       "</table>\n",
       "</div>"
      ],
      "text/plain": [
       "   income_level  bank_accounts_open  credit_rating  credit_cards_held  \\\n",
       "0     -1.222322           -0.693838      -2.226853          -0.211091   \n",
       "\n",
       "   homes_owned  household_size  average_balance  q1_balance  q2_balance  \\\n",
       "0     -0.29512       -0.109138         -0.09392   -0.369502    0.411569   \n",
       "\n",
       "   q3_balance  q4_balance  x0_Cash Back  x0_Points  x1_Postcard    x2_Yes  \\\n",
       "0   -0.229284    0.026305     -1.183528  -0.505742     0.981428 -0.157526   \n",
       "\n",
       "     x3_Yes  \n",
       "0  0.137778  "
      ]
     },
     "execution_count": 38,
     "metadata": {},
     "output_type": "execute_result"
    }
   ],
   "source": [
    "pd.DataFrame(data=classification.coef_, columns=column_names)"
   ]
  },
  {
   "cell_type": "markdown",
   "id": "bd2131db",
   "metadata": {},
   "source": [
    "# Report\n",
    "\n",
    "\n",
    "### About scaling\n",
    "The MinMax scaling technique seems to offer some improvement in the classification model regarding 'Yes' predictions.\n",
    "The precision is the same with or without using a scaler, being quite low for 'Yes' values (0.12). However, the recall does change in each case:\n",
    "- Without scaler: Score = 0.685 | 'No' recall = 0.68 | 'Yes' recall = 0.72\n",
    "- BoxCox scaler: Score = 0.677 | 'No' recall = 0.67 | 'Yes' recall = 0.73\n",
    "- MinMax scaler: Score = 0.674 | 'No' recall = 0.67 | 'Yes' recall = 0.75\n",
    "\n",
    "\n",
    "### Removing outliers\n",
    "After an exhaustive exporation, discarding outliers has proven to offer an improvement on 'Yes' prediction improvements under the following parameters:\n",
    "\n",
    "- For all columns: Threshold = 3 \n",
    "- For 'average_balance' column: Threshold = 2.5\n",
    "\n",
    "\n",
    "Data loss = 38.6% | Score = 0.672 | 'Yes' precision = 0.13 | 'No' recall = 0.66 | 'Yes' recall = 0.79\n",
    "\n",
    "Almost all of this data loss can be accounted for outlier removal in columns 'bank_accounts_open' and 'homes_owned'. Please consider if the data loss is worth it. The model will be more prone to failure when trying to predict clients with more than 1 bank account or more than 1 home owned.\n",
    "\n",
    "### About features\n",
    "\n",
    "The variables that seem to influence the classification model the most are the following:\n",
    "- 'income_level'\n",
    "- 'credit_rating'\n",
    "- 'reward'\n",
    "- 'mailer_type'\n",
    "\n",
    "Information about balance seems to provide virtually no decisive information to the classification model. The rest of the variables are barely informative.\n",
    "\n",
    "Preserving only the most influencial variables increases the efficiency of the model, while predictions improve without the need of scalers and without any row losses:\n",
    "- Discarding account balances: Score = 0.688 | 'No' precision = 0.97 | 'Yes' precision = 0.12 | 'No' recall = 0.69 | 'Yes' recall = 0.71\n",
    "- 4 most influencial variables (4I): Score = 0.680 | 'No' precision = 0.98 | 'Yes' precision = 0.12 | 'No' recall = 0.68 | 'Yes' recall = 0.74\n",
    "- 4I + 'homes_owned': Score = 0.683 | 'No' precision = 0.98 | 'Yes' precision = 0.12 | 'No' recall = 0.68 | 'Yes' recall = 0.74\n",
    "- 4I + 'credit_cards_held': Score = 0.678 | 'No' precision = 0.98 | 'Yes' precision = 0.12 | 'No' recall = 0.67 | 'Yes' recall = 0.75"
   ]
  },
  {
   "cell_type": "code",
   "execution_count": null,
   "id": "14b2e01e",
   "metadata": {},
   "outputs": [],
   "source": []
  }
 ],
 "metadata": {
  "kernelspec": {
   "display_name": "Python 3",
   "language": "python",
   "name": "python3"
  },
  "language_info": {
   "codemirror_mode": {
    "name": "ipython",
    "version": 3
   },
   "file_extension": ".py",
   "mimetype": "text/x-python",
   "name": "python",
   "nbconvert_exporter": "python",
   "pygments_lexer": "ipython3",
   "version": "3.8.8"
  }
 },
 "nbformat": 4,
 "nbformat_minor": 5
}
