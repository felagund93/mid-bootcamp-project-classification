{
 "cells": [
  {
   "cell_type": "markdown",
   "id": "91a3def8",
   "metadata": {},
   "source": [
    "# Mid Bootcamp Project | *Case Study: Classification*\n"
   ]
  },
  {
   "cell_type": "markdown",
   "id": "3694a8bd",
   "metadata": {},
   "source": [
    "## Project details\n",
    "\n",
    "**Background**: You are working as a risk analyst with a bank. Apart from the other banking and loan services, the bank also provides credit card services which is a very important source of revenue for the bank. The bank wants to understand the demographics and other characteristics of its customers that accept a credit card offer and that do not accept a credit card.\n",
    "Usually the observational data for these kinds of problems is somewhat limited in that often the company sees only those who respond to an offer. To get around this, the bank designs a focused marketing study, with 18,000 current bank customers. This focused approach allows the bank to know who does and does not respond to the offer, and to use existing demographic data that is already available on each customer.\n",
    "\n",
    "**Objective**: The task is to build a model that will provide insight into why some bank customers accept credit card offers. There are also other potential areas of opportunities that the bank wants to understand from the data.\n",
    "Your senior management has also posted these other questions that will help them better understand their customers.\n",
    "\n",
    "**Data**: The data set consists of information on 18,000 current bank customers in the study. These are the definitions of data points provided:\n",
    "\n",
    "- **Customer Number**: A sequential number assigned to the customers (this column is hidden and excluded – this unique identifier will not be used directly).\n",
    "- **Offer Accepted**: Did the customer accept (Yes) or reject (No) the offer. \n",
    "- **Reward**: The type of reward program offered for the card.\n",
    "- **Mailer Type**: Letter or postcard.\n",
    "- **Income Level**: Low, Medium or High.\n",
    "- **#Bank Accounts Open**: How many non-credit-card accounts are held by the customer.\n",
    "- **Overdraft Protection**: Does the customer have overdraft protection on their checking account(s) (Yes or No).\n",
    "- **Credit Rating**: Low, Medium or High.\n",
    "- **#Credit Cards Held**: The number of credit cards held at the bank.\n",
    "- **#Homes Owned**: The number of homes owned by the customer.\n",
    "- **Household Size**: Number of individuals in the family.\n",
    "- **Own Your Home**: Does the customer own their home? (Yes or No).\n",
    "- **Average Balance**: Average account balance (across all accounts over time). **Q1, Q2, Q3 and Q4**\n",
    "- **Balance**: Average balance for each quarter in the last year\n",
    "\n",
    "### Exploring the data\n",
    "\n",
    "We encourage you to thoroughly understand your data and take the necessary steps to prepare your data for modeling before building exploratory or predictive models. Since this is a classification model, you can use logistic regression for classification for building a model. You are also encouraged to use other models in your project including KNN classifiers, decision trees.\n",
    "To explore the data, you can use the techniques that have been discussed in class. Some of them include using the describe method, checking null values, using _matplotlib_ and _seaborn_ for developing visualizations.\n",
    "The data has a number of categorical and numerical variables. Explore the nature of data for these variables before you start with the data cleaning process and then data pre-processing (scaling numerical variables and encoding categorical variables).\n",
    "For the target variable (Offer accepted – Yes/No), it is also important to check the data imbalance ie the number of people who responded with a yes vs the number of people who responded with a no.\n",
    "You will also use tableau to visually explore the data further. You will deep dive in the data for customers who accepted the offer vs the customers who did not and check their characteristics. For e.g., we select the **Yes** level in **Offer Accepted** and then examine the distribution of accepted offers across the other variables in our data set and similarly for people who did not accept the offer.\n",
    "\n",
    "### Model\n",
    "\n",
    "Use different models to compare the accuracies and find the model that best fits your data. You can use the measures of accuracies that have been discussed in class. Please note that while comparing different models, make sure you use the same measure of accuracy as a benchmark.\n"
   ]
  },
  {
   "cell_type": "markdown",
   "id": "4b1450c3",
   "metadata": {},
   "source": [
    "# Getting the data"
   ]
  },
  {
   "cell_type": "code",
   "execution_count": 1,
   "id": "41305798",
   "metadata": {},
   "outputs": [
    {
     "name": "stdout",
     "output_type": "stream",
     "text": [
      "········\n"
     ]
    }
   ],
   "source": [
    "# Prepare toolbox\n",
    "\n",
    "import pandas as pd\n",
    "import numpy as np\n",
    "import datetime\n",
    "import warnings\n",
    "import matplotlib.pyplot as plt\n",
    "import seaborn as sns\n",
    "import re\n",
    "\n",
    "from sklearn.preprocessing import OneHotEncoder, StandardScaler, MinMaxScaler, Normalizer\n",
    "from sklearn.metrics import confusion_matrix, classification_report\n",
    "from sklearn.model_selection import train_test_split\n",
    "from sklearn.linear_model import LogisticRegression\n",
    "\n",
    "pd.set_option('display.max_columns', None)\n",
    "warnings.filterwarnings('ignore')\n",
    "\n",
    "import pymysql\n",
    "from sqlalchemy import create_engine\n",
    "\n",
    "import getpass  # to get the password without showing the input\n",
    "password = getpass.getpass()\n",
    "\n",
    "connection_string = 'mysql+pymysql://root:' + password + '@localhost/bank'\n",
    "engine = create_engine(connection_string)"
   ]
  },
  {
   "cell_type": "code",
   "execution_count": 2,
   "id": "9837b5d2",
   "metadata": {},
   "outputs": [],
   "source": [
    "# Write a query to get relevant information from the SQL database and import it into a dataframe.\n",
    "\n",
    "query = '''\n",
    "SELECT *\n",
    "FROM credit_card_classification.credit_card_data\n",
    "WHERE (`Credit Rating` <> 'Low' \n",
    "AND `# Credit Cards Held` <= 2 \n",
    "AND `Own Your Home` = 'Yes' \n",
    "AND `Household Size` >=3\n",
    ");\n",
    "'''"
   ]
  },
  {
   "cell_type": "code",
   "execution_count": 3,
   "id": "c8822182",
   "metadata": {},
   "outputs": [
    {
     "data": {
      "text/html": [
       "<div>\n",
       "<style scoped>\n",
       "    .dataframe tbody tr th:only-of-type {\n",
       "        vertical-align: middle;\n",
       "    }\n",
       "\n",
       "    .dataframe tbody tr th {\n",
       "        vertical-align: top;\n",
       "    }\n",
       "\n",
       "    .dataframe thead th {\n",
       "        text-align: right;\n",
       "    }\n",
       "</style>\n",
       "<table border=\"1\" class=\"dataframe\">\n",
       "  <thead>\n",
       "    <tr style=\"text-align: right;\">\n",
       "      <th></th>\n",
       "      <th>Customer Number</th>\n",
       "      <th>Offer Accepted</th>\n",
       "      <th>Reward</th>\n",
       "      <th>Mailer Type</th>\n",
       "      <th>Income Level</th>\n",
       "      <th># Bank Accounts Open</th>\n",
       "      <th>Overdraft Protection</th>\n",
       "      <th>Credit Rating</th>\n",
       "      <th># Credit Cards Held</th>\n",
       "      <th># Homes Owned</th>\n",
       "      <th>Household Size</th>\n",
       "      <th>Own Your Home</th>\n",
       "      <th>Average Balance</th>\n",
       "      <th>Q1 Balance</th>\n",
       "      <th>Q2 Balance</th>\n",
       "      <th>Q3 Balance</th>\n",
       "      <th>Q4 Balance</th>\n",
       "    </tr>\n",
       "  </thead>\n",
       "  <tbody>\n",
       "    <tr>\n",
       "      <th>0</th>\n",
       "      <td>2</td>\n",
       "      <td>No</td>\n",
       "      <td>Air Miles</td>\n",
       "      <td>Letter</td>\n",
       "      <td>Medium</td>\n",
       "      <td>1</td>\n",
       "      <td>No</td>\n",
       "      <td>Medium</td>\n",
       "      <td>2</td>\n",
       "      <td>2</td>\n",
       "      <td>5</td>\n",
       "      <td>Yes</td>\n",
       "      <td>147.25</td>\n",
       "      <td>39.0</td>\n",
       "      <td>106.0</td>\n",
       "      <td>78.0</td>\n",
       "      <td>366.0</td>\n",
       "    </tr>\n",
       "    <tr>\n",
       "      <th>1</th>\n",
       "      <td>5</td>\n",
       "      <td>No</td>\n",
       "      <td>Air Miles</td>\n",
       "      <td>Letter</td>\n",
       "      <td>Medium</td>\n",
       "      <td>1</td>\n",
       "      <td>No</td>\n",
       "      <td>Medium</td>\n",
       "      <td>2</td>\n",
       "      <td>1</td>\n",
       "      <td>6</td>\n",
       "      <td>Yes</td>\n",
       "      <td>1211.00</td>\n",
       "      <td>2140.0</td>\n",
       "      <td>1357.0</td>\n",
       "      <td>982.0</td>\n",
       "      <td>365.0</td>\n",
       "    </tr>\n",
       "    <tr>\n",
       "      <th>2</th>\n",
       "      <td>17</td>\n",
       "      <td>No</td>\n",
       "      <td>Points</td>\n",
       "      <td>Postcard</td>\n",
       "      <td>Low</td>\n",
       "      <td>2</td>\n",
       "      <td>No</td>\n",
       "      <td>Medium</td>\n",
       "      <td>1</td>\n",
       "      <td>1</td>\n",
       "      <td>4</td>\n",
       "      <td>Yes</td>\n",
       "      <td>1217.00</td>\n",
       "      <td>567.0</td>\n",
       "      <td>1161.0</td>\n",
       "      <td>966.0</td>\n",
       "      <td>2174.0</td>\n",
       "    </tr>\n",
       "    <tr>\n",
       "      <th>3</th>\n",
       "      <td>18</td>\n",
       "      <td>No</td>\n",
       "      <td>Air Miles</td>\n",
       "      <td>Postcard</td>\n",
       "      <td>Low</td>\n",
       "      <td>2</td>\n",
       "      <td>No</td>\n",
       "      <td>High</td>\n",
       "      <td>2</td>\n",
       "      <td>1</td>\n",
       "      <td>4</td>\n",
       "      <td>Yes</td>\n",
       "      <td>1185.25</td>\n",
       "      <td>272.0</td>\n",
       "      <td>1523.0</td>\n",
       "      <td>2042.0</td>\n",
       "      <td>904.0</td>\n",
       "    </tr>\n",
       "    <tr>\n",
       "      <th>4</th>\n",
       "      <td>20</td>\n",
       "      <td>No</td>\n",
       "      <td>Cash Back</td>\n",
       "      <td>Letter</td>\n",
       "      <td>Medium</td>\n",
       "      <td>1</td>\n",
       "      <td>No</td>\n",
       "      <td>High</td>\n",
       "      <td>2</td>\n",
       "      <td>1</td>\n",
       "      <td>5</td>\n",
       "      <td>Yes</td>\n",
       "      <td>1086.75</td>\n",
       "      <td>764.0</td>\n",
       "      <td>997.0</td>\n",
       "      <td>921.0</td>\n",
       "      <td>1665.0</td>\n",
       "    </tr>\n",
       "    <tr>\n",
       "      <th>5</th>\n",
       "      <td>21</td>\n",
       "      <td>No</td>\n",
       "      <td>Points</td>\n",
       "      <td>Postcard</td>\n",
       "      <td>Low</td>\n",
       "      <td>1</td>\n",
       "      <td>No</td>\n",
       "      <td>High</td>\n",
       "      <td>2</td>\n",
       "      <td>1</td>\n",
       "      <td>4</td>\n",
       "      <td>Yes</td>\n",
       "      <td>1175.25</td>\n",
       "      <td>1234.0</td>\n",
       "      <td>1102.0</td>\n",
       "      <td>1423.0</td>\n",
       "      <td>942.0</td>\n",
       "    </tr>\n",
       "    <tr>\n",
       "      <th>6</th>\n",
       "      <td>23</td>\n",
       "      <td>No</td>\n",
       "      <td>Cash Back</td>\n",
       "      <td>Letter</td>\n",
       "      <td>High</td>\n",
       "      <td>1</td>\n",
       "      <td>No</td>\n",
       "      <td>High</td>\n",
       "      <td>1</td>\n",
       "      <td>1</td>\n",
       "      <td>3</td>\n",
       "      <td>Yes</td>\n",
       "      <td>1754.00</td>\n",
       "      <td>1876.0</td>\n",
       "      <td>1717.0</td>\n",
       "      <td>1507.0</td>\n",
       "      <td>1916.0</td>\n",
       "    </tr>\n",
       "    <tr>\n",
       "      <th>7</th>\n",
       "      <td>34</td>\n",
       "      <td>No</td>\n",
       "      <td>Air Miles</td>\n",
       "      <td>Postcard</td>\n",
       "      <td>Low</td>\n",
       "      <td>3</td>\n",
       "      <td>No</td>\n",
       "      <td>Medium</td>\n",
       "      <td>1</td>\n",
       "      <td>1</td>\n",
       "      <td>4</td>\n",
       "      <td>Yes</td>\n",
       "      <td>659.50</td>\n",
       "      <td>715.0</td>\n",
       "      <td>626.0</td>\n",
       "      <td>746.0</td>\n",
       "      <td>551.0</td>\n",
       "    </tr>\n",
       "    <tr>\n",
       "      <th>8</th>\n",
       "      <td>36</td>\n",
       "      <td>No</td>\n",
       "      <td>Points</td>\n",
       "      <td>Letter</td>\n",
       "      <td>High</td>\n",
       "      <td>1</td>\n",
       "      <td>No</td>\n",
       "      <td>High</td>\n",
       "      <td>2</td>\n",
       "      <td>1</td>\n",
       "      <td>4</td>\n",
       "      <td>Yes</td>\n",
       "      <td>875.25</td>\n",
       "      <td>995.0</td>\n",
       "      <td>693.0</td>\n",
       "      <td>946.0</td>\n",
       "      <td>867.0</td>\n",
       "    </tr>\n",
       "    <tr>\n",
       "      <th>9</th>\n",
       "      <td>40</td>\n",
       "      <td>No</td>\n",
       "      <td>Air Miles</td>\n",
       "      <td>Postcard</td>\n",
       "      <td>Low</td>\n",
       "      <td>1</td>\n",
       "      <td>Yes</td>\n",
       "      <td>Medium</td>\n",
       "      <td>2</td>\n",
       "      <td>1</td>\n",
       "      <td>3</td>\n",
       "      <td>Yes</td>\n",
       "      <td>1079.25</td>\n",
       "      <td>1832.0</td>\n",
       "      <td>1021.0</td>\n",
       "      <td>764.0</td>\n",
       "      <td>700.0</td>\n",
       "    </tr>\n",
       "  </tbody>\n",
       "</table>\n",
       "</div>"
      ],
      "text/plain": [
       "   Customer Number Offer Accepted     Reward Mailer Type Income Level  \\\n",
       "0                2             No  Air Miles      Letter       Medium   \n",
       "1                5             No  Air Miles      Letter       Medium   \n",
       "2               17             No     Points    Postcard          Low   \n",
       "3               18             No  Air Miles    Postcard          Low   \n",
       "4               20             No  Cash Back      Letter       Medium   \n",
       "5               21             No     Points    Postcard          Low   \n",
       "6               23             No  Cash Back      Letter         High   \n",
       "7               34             No  Air Miles    Postcard          Low   \n",
       "8               36             No     Points      Letter         High   \n",
       "9               40             No  Air Miles    Postcard          Low   \n",
       "\n",
       "   # Bank Accounts Open Overdraft Protection Credit Rating  \\\n",
       "0                     1                   No        Medium   \n",
       "1                     1                   No        Medium   \n",
       "2                     2                   No        Medium   \n",
       "3                     2                   No          High   \n",
       "4                     1                   No          High   \n",
       "5                     1                   No          High   \n",
       "6                     1                   No          High   \n",
       "7                     3                   No        Medium   \n",
       "8                     1                   No          High   \n",
       "9                     1                  Yes        Medium   \n",
       "\n",
       "   # Credit Cards Held  # Homes Owned  Household Size Own Your Home  \\\n",
       "0                    2              2               5           Yes   \n",
       "1                    2              1               6           Yes   \n",
       "2                    1              1               4           Yes   \n",
       "3                    2              1               4           Yes   \n",
       "4                    2              1               5           Yes   \n",
       "5                    2              1               4           Yes   \n",
       "6                    1              1               3           Yes   \n",
       "7                    1              1               4           Yes   \n",
       "8                    2              1               4           Yes   \n",
       "9                    2              1               3           Yes   \n",
       "\n",
       "   Average Balance  Q1 Balance  Q2 Balance  Q3 Balance  Q4 Balance  \n",
       "0           147.25        39.0       106.0        78.0       366.0  \n",
       "1          1211.00      2140.0      1357.0       982.0       365.0  \n",
       "2          1217.00       567.0      1161.0       966.0      2174.0  \n",
       "3          1185.25       272.0      1523.0      2042.0       904.0  \n",
       "4          1086.75       764.0       997.0       921.0      1665.0  \n",
       "5          1175.25      1234.0      1102.0      1423.0       942.0  \n",
       "6          1754.00      1876.0      1717.0      1507.0      1916.0  \n",
       "7           659.50       715.0       626.0       746.0       551.0  \n",
       "8           875.25       995.0       693.0       946.0       867.0  \n",
       "9          1079.25      1832.0      1021.0       764.0       700.0  "
      ]
     },
     "execution_count": 3,
     "metadata": {},
     "output_type": "execute_result"
    }
   ],
   "source": [
    "# Import dataframe\n",
    "\n",
    "df = pd.read_sql_query(query, engine)\n",
    "df.head(10)"
   ]
  },
  {
   "cell_type": "code",
   "execution_count": 4,
   "id": "86ef79e9",
   "metadata": {},
   "outputs": [
    {
     "name": "stdout",
     "output_type": "stream",
     "text": [
      "<class 'pandas.core.frame.DataFrame'>\n",
      "RangeIndex: 4949 entries, 0 to 4948\n",
      "Data columns (total 17 columns):\n",
      " #   Column                Non-Null Count  Dtype  \n",
      "---  ------                --------------  -----  \n",
      " 0   Customer Number       4949 non-null   int64  \n",
      " 1   Offer Accepted        4949 non-null   object \n",
      " 2   Reward                4949 non-null   object \n",
      " 3   Mailer Type           4949 non-null   object \n",
      " 4   Income Level          4949 non-null   object \n",
      " 5   # Bank Accounts Open  4949 non-null   int64  \n",
      " 6   Overdraft Protection  4949 non-null   object \n",
      " 7   Credit Rating         4949 non-null   object \n",
      " 8   # Credit Cards Held   4949 non-null   int64  \n",
      " 9   # Homes Owned         4949 non-null   int64  \n",
      " 10  Household Size        4949 non-null   int64  \n",
      " 11  Own Your Home         4949 non-null   object \n",
      " 12  Average Balance       4949 non-null   float64\n",
      " 13  Q1 Balance            4949 non-null   float64\n",
      " 14  Q2 Balance            4949 non-null   float64\n",
      " 15  Q3 Balance            4949 non-null   float64\n",
      " 16  Q4 Balance            4949 non-null   float64\n",
      "dtypes: float64(5), int64(5), object(7)\n",
      "memory usage: 657.4+ KB\n"
     ]
    }
   ],
   "source": [
    "# Take a first peek\n",
    "\n",
    "df.info()"
   ]
  },
  {
   "cell_type": "code",
   "execution_count": 5,
   "id": "44cc0e8a",
   "metadata": {},
   "outputs": [
    {
     "data": {
      "text/plain": [
       "(4949, 17)"
      ]
     },
     "execution_count": 5,
     "metadata": {},
     "output_type": "execute_result"
    }
   ],
   "source": [
    "df.shape"
   ]
  },
  {
   "cell_type": "markdown",
   "id": "bbb9a424",
   "metadata": {},
   "source": [
    "# Data Cleaning & Wrangling"
   ]
  },
  {
   "cell_type": "code",
   "execution_count": 6,
   "id": "e47a7d80",
   "metadata": {},
   "outputs": [
    {
     "data": {
      "text/plain": [
       "Index(['customer_number', 'offer_accepted', 'reward', 'mailer_type',\n",
       "       'income_level', 'bank_accounts_open', 'overdraft_protection',\n",
       "       'credit_rating', 'credit_cards_held', 'homes_owned', 'household_size',\n",
       "       'own_your_home', 'average_balance', 'q1_balance', 'q2_balance',\n",
       "       'q3_balance', 'q4_balance'],\n",
       "      dtype='object')"
      ]
     },
     "execution_count": 6,
     "metadata": {},
     "output_type": "execute_result"
    }
   ],
   "source": [
    "# Standarize header names\n",
    "\n",
    "df.columns = [df.columns[col_name].lower().replace(' ','_').replace('#_','') for col_name in range(len(df.columns))]\n",
    "df.columns"
   ]
  },
  {
   "cell_type": "code",
   "execution_count": 7,
   "id": "e457ae99",
   "metadata": {},
   "outputs": [
    {
     "data": {
      "text/html": [
       "<div>\n",
       "<style scoped>\n",
       "    .dataframe tbody tr th:only-of-type {\n",
       "        vertical-align: middle;\n",
       "    }\n",
       "\n",
       "    .dataframe tbody tr th {\n",
       "        vertical-align: top;\n",
       "    }\n",
       "\n",
       "    .dataframe thead th {\n",
       "        text-align: right;\n",
       "    }\n",
       "</style>\n",
       "<table border=\"1\" class=\"dataframe\">\n",
       "  <thead>\n",
       "    <tr style=\"text-align: right;\">\n",
       "      <th></th>\n",
       "      <th>offer_accepted</th>\n",
       "      <th>reward</th>\n",
       "      <th>mailer_type</th>\n",
       "      <th>income_level</th>\n",
       "      <th>bank_accounts_open</th>\n",
       "      <th>overdraft_protection</th>\n",
       "      <th>credit_rating</th>\n",
       "      <th>credit_cards_held</th>\n",
       "      <th>homes_owned</th>\n",
       "      <th>household_size</th>\n",
       "      <th>own_your_home</th>\n",
       "      <th>average_balance</th>\n",
       "      <th>q1_balance</th>\n",
       "      <th>q2_balance</th>\n",
       "      <th>q3_balance</th>\n",
       "      <th>q4_balance</th>\n",
       "    </tr>\n",
       "    <tr>\n",
       "      <th>customer_number</th>\n",
       "      <th></th>\n",
       "      <th></th>\n",
       "      <th></th>\n",
       "      <th></th>\n",
       "      <th></th>\n",
       "      <th></th>\n",
       "      <th></th>\n",
       "      <th></th>\n",
       "      <th></th>\n",
       "      <th></th>\n",
       "      <th></th>\n",
       "      <th></th>\n",
       "      <th></th>\n",
       "      <th></th>\n",
       "      <th></th>\n",
       "      <th></th>\n",
       "    </tr>\n",
       "  </thead>\n",
       "  <tbody>\n",
       "    <tr>\n",
       "      <th>2</th>\n",
       "      <td>No</td>\n",
       "      <td>Air Miles</td>\n",
       "      <td>Letter</td>\n",
       "      <td>Medium</td>\n",
       "      <td>1</td>\n",
       "      <td>No</td>\n",
       "      <td>Medium</td>\n",
       "      <td>2</td>\n",
       "      <td>2</td>\n",
       "      <td>5</td>\n",
       "      <td>Yes</td>\n",
       "      <td>147.25</td>\n",
       "      <td>39.0</td>\n",
       "      <td>106.0</td>\n",
       "      <td>78.0</td>\n",
       "      <td>366.0</td>\n",
       "    </tr>\n",
       "    <tr>\n",
       "      <th>5</th>\n",
       "      <td>No</td>\n",
       "      <td>Air Miles</td>\n",
       "      <td>Letter</td>\n",
       "      <td>Medium</td>\n",
       "      <td>1</td>\n",
       "      <td>No</td>\n",
       "      <td>Medium</td>\n",
       "      <td>2</td>\n",
       "      <td>1</td>\n",
       "      <td>6</td>\n",
       "      <td>Yes</td>\n",
       "      <td>1211.00</td>\n",
       "      <td>2140.0</td>\n",
       "      <td>1357.0</td>\n",
       "      <td>982.0</td>\n",
       "      <td>365.0</td>\n",
       "    </tr>\n",
       "    <tr>\n",
       "      <th>17</th>\n",
       "      <td>No</td>\n",
       "      <td>Points</td>\n",
       "      <td>Postcard</td>\n",
       "      <td>Low</td>\n",
       "      <td>2</td>\n",
       "      <td>No</td>\n",
       "      <td>Medium</td>\n",
       "      <td>1</td>\n",
       "      <td>1</td>\n",
       "      <td>4</td>\n",
       "      <td>Yes</td>\n",
       "      <td>1217.00</td>\n",
       "      <td>567.0</td>\n",
       "      <td>1161.0</td>\n",
       "      <td>966.0</td>\n",
       "      <td>2174.0</td>\n",
       "    </tr>\n",
       "    <tr>\n",
       "      <th>18</th>\n",
       "      <td>No</td>\n",
       "      <td>Air Miles</td>\n",
       "      <td>Postcard</td>\n",
       "      <td>Low</td>\n",
       "      <td>2</td>\n",
       "      <td>No</td>\n",
       "      <td>High</td>\n",
       "      <td>2</td>\n",
       "      <td>1</td>\n",
       "      <td>4</td>\n",
       "      <td>Yes</td>\n",
       "      <td>1185.25</td>\n",
       "      <td>272.0</td>\n",
       "      <td>1523.0</td>\n",
       "      <td>2042.0</td>\n",
       "      <td>904.0</td>\n",
       "    </tr>\n",
       "    <tr>\n",
       "      <th>20</th>\n",
       "      <td>No</td>\n",
       "      <td>Cash Back</td>\n",
       "      <td>Letter</td>\n",
       "      <td>Medium</td>\n",
       "      <td>1</td>\n",
       "      <td>No</td>\n",
       "      <td>High</td>\n",
       "      <td>2</td>\n",
       "      <td>1</td>\n",
       "      <td>5</td>\n",
       "      <td>Yes</td>\n",
       "      <td>1086.75</td>\n",
       "      <td>764.0</td>\n",
       "      <td>997.0</td>\n",
       "      <td>921.0</td>\n",
       "      <td>1665.0</td>\n",
       "    </tr>\n",
       "    <tr>\n",
       "      <th>21</th>\n",
       "      <td>No</td>\n",
       "      <td>Points</td>\n",
       "      <td>Postcard</td>\n",
       "      <td>Low</td>\n",
       "      <td>1</td>\n",
       "      <td>No</td>\n",
       "      <td>High</td>\n",
       "      <td>2</td>\n",
       "      <td>1</td>\n",
       "      <td>4</td>\n",
       "      <td>Yes</td>\n",
       "      <td>1175.25</td>\n",
       "      <td>1234.0</td>\n",
       "      <td>1102.0</td>\n",
       "      <td>1423.0</td>\n",
       "      <td>942.0</td>\n",
       "    </tr>\n",
       "    <tr>\n",
       "      <th>23</th>\n",
       "      <td>No</td>\n",
       "      <td>Cash Back</td>\n",
       "      <td>Letter</td>\n",
       "      <td>High</td>\n",
       "      <td>1</td>\n",
       "      <td>No</td>\n",
       "      <td>High</td>\n",
       "      <td>1</td>\n",
       "      <td>1</td>\n",
       "      <td>3</td>\n",
       "      <td>Yes</td>\n",
       "      <td>1754.00</td>\n",
       "      <td>1876.0</td>\n",
       "      <td>1717.0</td>\n",
       "      <td>1507.0</td>\n",
       "      <td>1916.0</td>\n",
       "    </tr>\n",
       "    <tr>\n",
       "      <th>34</th>\n",
       "      <td>No</td>\n",
       "      <td>Air Miles</td>\n",
       "      <td>Postcard</td>\n",
       "      <td>Low</td>\n",
       "      <td>3</td>\n",
       "      <td>No</td>\n",
       "      <td>Medium</td>\n",
       "      <td>1</td>\n",
       "      <td>1</td>\n",
       "      <td>4</td>\n",
       "      <td>Yes</td>\n",
       "      <td>659.50</td>\n",
       "      <td>715.0</td>\n",
       "      <td>626.0</td>\n",
       "      <td>746.0</td>\n",
       "      <td>551.0</td>\n",
       "    </tr>\n",
       "    <tr>\n",
       "      <th>36</th>\n",
       "      <td>No</td>\n",
       "      <td>Points</td>\n",
       "      <td>Letter</td>\n",
       "      <td>High</td>\n",
       "      <td>1</td>\n",
       "      <td>No</td>\n",
       "      <td>High</td>\n",
       "      <td>2</td>\n",
       "      <td>1</td>\n",
       "      <td>4</td>\n",
       "      <td>Yes</td>\n",
       "      <td>875.25</td>\n",
       "      <td>995.0</td>\n",
       "      <td>693.0</td>\n",
       "      <td>946.0</td>\n",
       "      <td>867.0</td>\n",
       "    </tr>\n",
       "    <tr>\n",
       "      <th>40</th>\n",
       "      <td>No</td>\n",
       "      <td>Air Miles</td>\n",
       "      <td>Postcard</td>\n",
       "      <td>Low</td>\n",
       "      <td>1</td>\n",
       "      <td>Yes</td>\n",
       "      <td>Medium</td>\n",
       "      <td>2</td>\n",
       "      <td>1</td>\n",
       "      <td>3</td>\n",
       "      <td>Yes</td>\n",
       "      <td>1079.25</td>\n",
       "      <td>1832.0</td>\n",
       "      <td>1021.0</td>\n",
       "      <td>764.0</td>\n",
       "      <td>700.0</td>\n",
       "    </tr>\n",
       "  </tbody>\n",
       "</table>\n",
       "</div>"
      ],
      "text/plain": [
       "                offer_accepted     reward mailer_type income_level  \\\n",
       "customer_number                                                      \n",
       "2                           No  Air Miles      Letter       Medium   \n",
       "5                           No  Air Miles      Letter       Medium   \n",
       "17                          No     Points    Postcard          Low   \n",
       "18                          No  Air Miles    Postcard          Low   \n",
       "20                          No  Cash Back      Letter       Medium   \n",
       "21                          No     Points    Postcard          Low   \n",
       "23                          No  Cash Back      Letter         High   \n",
       "34                          No  Air Miles    Postcard          Low   \n",
       "36                          No     Points      Letter         High   \n",
       "40                          No  Air Miles    Postcard          Low   \n",
       "\n",
       "                 bank_accounts_open overdraft_protection credit_rating  \\\n",
       "customer_number                                                          \n",
       "2                                 1                   No        Medium   \n",
       "5                                 1                   No        Medium   \n",
       "17                                2                   No        Medium   \n",
       "18                                2                   No          High   \n",
       "20                                1                   No          High   \n",
       "21                                1                   No          High   \n",
       "23                                1                   No          High   \n",
       "34                                3                   No        Medium   \n",
       "36                                1                   No          High   \n",
       "40                                1                  Yes        Medium   \n",
       "\n",
       "                 credit_cards_held  homes_owned  household_size own_your_home  \\\n",
       "customer_number                                                                 \n",
       "2                                2            2               5           Yes   \n",
       "5                                2            1               6           Yes   \n",
       "17                               1            1               4           Yes   \n",
       "18                               2            1               4           Yes   \n",
       "20                               2            1               5           Yes   \n",
       "21                               2            1               4           Yes   \n",
       "23                               1            1               3           Yes   \n",
       "34                               1            1               4           Yes   \n",
       "36                               2            1               4           Yes   \n",
       "40                               2            1               3           Yes   \n",
       "\n",
       "                 average_balance  q1_balance  q2_balance  q3_balance  \\\n",
       "customer_number                                                        \n",
       "2                         147.25        39.0       106.0        78.0   \n",
       "5                        1211.00      2140.0      1357.0       982.0   \n",
       "17                       1217.00       567.0      1161.0       966.0   \n",
       "18                       1185.25       272.0      1523.0      2042.0   \n",
       "20                       1086.75       764.0       997.0       921.0   \n",
       "21                       1175.25      1234.0      1102.0      1423.0   \n",
       "23                       1754.00      1876.0      1717.0      1507.0   \n",
       "34                        659.50       715.0       626.0       746.0   \n",
       "36                        875.25       995.0       693.0       946.0   \n",
       "40                       1079.25      1832.0      1021.0       764.0   \n",
       "\n",
       "                 q4_balance  \n",
       "customer_number              \n",
       "2                     366.0  \n",
       "5                     365.0  \n",
       "17                   2174.0  \n",
       "18                    904.0  \n",
       "20                   1665.0  \n",
       "21                    942.0  \n",
       "23                   1916.0  \n",
       "34                    551.0  \n",
       "36                    867.0  \n",
       "40                    700.0  "
      ]
     },
     "execution_count": 7,
     "metadata": {},
     "output_type": "execute_result"
    }
   ],
   "source": [
    "# Set customer ID as dataframe index, as this column is intended to serve as so\n",
    "\n",
    "df.set_index('customer_number', inplace=True)\n",
    "df.head(10)"
   ]
  },
  {
   "cell_type": "code",
   "execution_count": 8,
   "id": "bb23fd9d",
   "metadata": {},
   "outputs": [
    {
     "data": {
      "text/plain": [
       "offer_accepted          0\n",
       "reward                  0\n",
       "mailer_type             0\n",
       "income_level            0\n",
       "bank_accounts_open      0\n",
       "overdraft_protection    0\n",
       "credit_rating           0\n",
       "credit_cards_held       0\n",
       "homes_owned             0\n",
       "household_size          0\n",
       "own_your_home           0\n",
       "average_balance         0\n",
       "q1_balance              0\n",
       "q2_balance              0\n",
       "q3_balance              0\n",
       "q4_balance              0\n",
       "dtype: int64"
      ]
     },
     "execution_count": 8,
     "metadata": {},
     "output_type": "execute_result"
    }
   ],
   "source": [
    "# Check for NaN values\n",
    "\n",
    "df.isna().sum() "
   ]
  },
  {
   "cell_type": "code",
   "execution_count": 9,
   "id": "6637f9bd",
   "metadata": {},
   "outputs": [
    {
     "data": {
      "text/plain": [
       "No     4782\n",
       "Yes     167\n",
       "Name: offer_accepted, dtype: int64"
      ]
     },
     "metadata": {},
     "output_type": "display_data"
    },
    {
     "data": {
      "text/plain": [
       "No     4782\n",
       "Yes     167\n",
       "Name: offer_accepted, dtype: int64"
      ]
     },
     "metadata": {},
     "output_type": "display_data"
    }
   ],
   "source": [
    "# We lack some data about account balances. If we dropped NaNs, how would this affect our very imbalanced target variable?\n",
    "\n",
    "df_dummy = df.dropna()\n",
    "\n",
    "display(df[\"offer_accepted\"].value_counts())\n",
    "display(df_dummy[\"offer_accepted\"].value_counts()) # Only 2 'Yes' values are lost"
   ]
  },
  {
   "cell_type": "code",
   "execution_count": 10,
   "id": "31307bf9",
   "metadata": {},
   "outputs": [
    {
     "name": "stdout",
     "output_type": "stream",
     "text": [
      "<class 'pandas.core.frame.DataFrame'>\n",
      "Int64Index: 4949 entries, 2 to 17991\n",
      "Data columns (total 16 columns):\n",
      " #   Column                Non-Null Count  Dtype  \n",
      "---  ------                --------------  -----  \n",
      " 0   offer_accepted        4949 non-null   object \n",
      " 1   reward                4949 non-null   object \n",
      " 2   mailer_type           4949 non-null   object \n",
      " 3   income_level          4949 non-null   object \n",
      " 4   bank_accounts_open    4949 non-null   int64  \n",
      " 5   overdraft_protection  4949 non-null   object \n",
      " 6   credit_rating         4949 non-null   object \n",
      " 7   credit_cards_held     4949 non-null   int64  \n",
      " 8   homes_owned           4949 non-null   int64  \n",
      " 9   household_size        4949 non-null   int64  \n",
      " 10  own_your_home         4949 non-null   object \n",
      " 11  average_balance       4949 non-null   float64\n",
      " 12  q1_balance            4949 non-null   float64\n",
      " 13  q2_balance            4949 non-null   float64\n",
      " 14  q3_balance            4949 non-null   float64\n",
      " 15  q4_balance            4949 non-null   float64\n",
      "dtypes: float64(5), int64(4), object(7)\n",
      "memory usage: 657.3+ KB\n"
     ]
    }
   ],
   "source": [
    "# Drop NaNs, we consider it save\n",
    "\n",
    "df.dropna(inplace=True)\n",
    "df.info()"
   ]
  },
  {
   "cell_type": "code",
   "execution_count": 11,
   "id": "aef6632f",
   "metadata": {},
   "outputs": [
    {
     "name": "stdout",
     "output_type": "stream",
     "text": [
      "Unique entires for OFFER_ACCEPTED are: ['No' 'Yes']\n",
      "Unique entires for REWARD are: ['Air Miles' 'Points' 'Cash Back']\n",
      "Unique entires for MAILER_TYPE are: ['Letter' 'Postcard']\n",
      "Unique entires for INCOME_LEVEL are: ['Medium' 'Low' 'High']\n",
      "Unique entires for OVERDRAFT_PROTECTION are: ['No' 'Yes']\n",
      "Unique entires for CREDIT_RATING are: ['Medium' 'High']\n",
      "Unique entires for OWN_YOUR_HOME are: ['Yes']\n"
     ]
    }
   ],
   "source": [
    "# Check the consistency of categorical values\n",
    "\n",
    "for col in df.select_dtypes(np.object).columns:\n",
    "    print(\"Unique entires for\", col.upper(), \"are:\", df[col].unique()) # Consistent categories, no corrections needed"
   ]
  },
  {
   "cell_type": "code",
   "execution_count": 12,
   "id": "d3426dfb",
   "metadata": {},
   "outputs": [
    {
     "name": "stdout",
     "output_type": "stream",
     "text": [
      "<class 'pandas.core.frame.DataFrame'>\n",
      "Int64Index: 4949 entries, 2 to 17991\n",
      "Data columns (total 16 columns):\n",
      " #   Column                Non-Null Count  Dtype  \n",
      "---  ------                --------------  -----  \n",
      " 0   offer_accepted        4949 non-null   object \n",
      " 1   reward                4949 non-null   object \n",
      " 2   mailer_type           4949 non-null   object \n",
      " 3   income_level          4949 non-null   int64  \n",
      " 4   bank_accounts_open    4949 non-null   int64  \n",
      " 5   overdraft_protection  4949 non-null   object \n",
      " 6   credit_rating         4949 non-null   int64  \n",
      " 7   credit_cards_held     4949 non-null   int64  \n",
      " 8   homes_owned           4949 non-null   int64  \n",
      " 9   household_size        4949 non-null   int64  \n",
      " 10  own_your_home         4949 non-null   object \n",
      " 11  average_balance       4949 non-null   float64\n",
      " 12  q1_balance            4949 non-null   float64\n",
      " 13  q2_balance            4949 non-null   float64\n",
      " 14  q3_balance            4949 non-null   float64\n",
      " 15  q4_balance            4949 non-null   float64\n",
      "dtypes: float64(5), int64(6), object(5)\n",
      "memory usage: 657.3+ KB\n"
     ]
    }
   ],
   "source": [
    "# Encode ORDINALS now, so we can check for correlations during the EDA\n",
    "\n",
    "df[\"income_level\"] = df[\"income_level\"].map({\"Low\" : 0, \"Medium\" : 1, \"High\" : 2})\n",
    "df[\"credit_rating\"] = df[\"credit_rating\"].map({\"Low\" : 0, \"Medium\" : 1, \"High\" : 2})\n",
    "df.info()"
   ]
  },
  {
   "cell_type": "markdown",
   "id": "a3870c94",
   "metadata": {},
   "source": [
    "# EDA"
   ]
  },
  {
   "cell_type": "markdown",
   "id": "bcda0dfa",
   "metadata": {},
   "source": [
    "## Numerical variables"
   ]
  },
  {
   "cell_type": "code",
   "execution_count": 13,
   "id": "713331fd",
   "metadata": {
    "scrolled": true
   },
   "outputs": [
    {
     "data": {
      "text/html": [
       "<div>\n",
       "<style scoped>\n",
       "    .dataframe tbody tr th:only-of-type {\n",
       "        vertical-align: middle;\n",
       "    }\n",
       "\n",
       "    .dataframe tbody tr th {\n",
       "        vertical-align: top;\n",
       "    }\n",
       "\n",
       "    .dataframe thead th {\n",
       "        text-align: right;\n",
       "    }\n",
       "</style>\n",
       "<table border=\"1\" class=\"dataframe\">\n",
       "  <thead>\n",
       "    <tr style=\"text-align: right;\">\n",
       "      <th></th>\n",
       "      <th>income_level</th>\n",
       "      <th>bank_accounts_open</th>\n",
       "      <th>credit_rating</th>\n",
       "      <th>credit_cards_held</th>\n",
       "      <th>homes_owned</th>\n",
       "      <th>household_size</th>\n",
       "      <th>average_balance</th>\n",
       "      <th>q1_balance</th>\n",
       "      <th>q2_balance</th>\n",
       "      <th>q3_balance</th>\n",
       "      <th>q4_balance</th>\n",
       "    </tr>\n",
       "  </thead>\n",
       "  <tbody>\n",
       "    <tr>\n",
       "      <th>count</th>\n",
       "      <td>4949.00</td>\n",
       "      <td>4949.00</td>\n",
       "      <td>4949.00</td>\n",
       "      <td>4949.00</td>\n",
       "      <td>4949.00</td>\n",
       "      <td>4949.00</td>\n",
       "      <td>4949.00</td>\n",
       "      <td>4949.00</td>\n",
       "      <td>4949.00</td>\n",
       "      <td>4949.00</td>\n",
       "      <td>4949.00</td>\n",
       "    </tr>\n",
       "    <tr>\n",
       "      <th>mean</th>\n",
       "      <td>0.99</td>\n",
       "      <td>1.25</td>\n",
       "      <td>1.51</td>\n",
       "      <td>1.56</td>\n",
       "      <td>1.21</td>\n",
       "      <td>3.87</td>\n",
       "      <td>940.57</td>\n",
       "      <td>902.96</td>\n",
       "      <td>994.81</td>\n",
       "      <td>1044.63</td>\n",
       "      <td>819.87</td>\n",
       "    </tr>\n",
       "    <tr>\n",
       "      <th>std</th>\n",
       "      <td>0.71</td>\n",
       "      <td>0.47</td>\n",
       "      <td>0.50</td>\n",
       "      <td>0.50</td>\n",
       "      <td>0.43</td>\n",
       "      <td>0.85</td>\n",
       "      <td>346.95</td>\n",
       "      <td>613.71</td>\n",
       "      <td>451.74</td>\n",
       "      <td>556.34</td>\n",
       "      <td>555.92</td>\n",
       "    </tr>\n",
       "    <tr>\n",
       "      <th>min</th>\n",
       "      <td>0.00</td>\n",
       "      <td>1.00</td>\n",
       "      <td>1.00</td>\n",
       "      <td>1.00</td>\n",
       "      <td>1.00</td>\n",
       "      <td>3.00</td>\n",
       "      <td>48.25</td>\n",
       "      <td>0.00</td>\n",
       "      <td>1.00</td>\n",
       "      <td>3.00</td>\n",
       "      <td>0.00</td>\n",
       "    </tr>\n",
       "    <tr>\n",
       "      <th>25%</th>\n",
       "      <td>0.00</td>\n",
       "      <td>1.00</td>\n",
       "      <td>1.00</td>\n",
       "      <td>1.00</td>\n",
       "      <td>1.00</td>\n",
       "      <td>3.00</td>\n",
       "      <td>789.00</td>\n",
       "      <td>394.00</td>\n",
       "      <td>668.00</td>\n",
       "      <td>629.00</td>\n",
       "      <td>377.00</td>\n",
       "    </tr>\n",
       "    <tr>\n",
       "      <th>50%</th>\n",
       "      <td>1.00</td>\n",
       "      <td>1.00</td>\n",
       "      <td>2.00</td>\n",
       "      <td>2.00</td>\n",
       "      <td>1.00</td>\n",
       "      <td>4.00</td>\n",
       "      <td>1010.00</td>\n",
       "      <td>764.00</td>\n",
       "      <td>1024.00</td>\n",
       "      <td>947.00</td>\n",
       "      <td>718.00</td>\n",
       "    </tr>\n",
       "    <tr>\n",
       "      <th>75%</th>\n",
       "      <td>1.00</td>\n",
       "      <td>1.00</td>\n",
       "      <td>2.00</td>\n",
       "      <td>2.00</td>\n",
       "      <td>1.00</td>\n",
       "      <td>4.00</td>\n",
       "      <td>1155.75</td>\n",
       "      <td>1504.00</td>\n",
       "      <td>1332.00</td>\n",
       "      <td>1465.00</td>\n",
       "      <td>1232.00</td>\n",
       "    </tr>\n",
       "    <tr>\n",
       "      <th>max</th>\n",
       "      <td>2.00</td>\n",
       "      <td>3.00</td>\n",
       "      <td>2.00</td>\n",
       "      <td>2.00</td>\n",
       "      <td>3.00</td>\n",
       "      <td>6.00</td>\n",
       "      <td>2430.00</td>\n",
       "      <td>2435.00</td>\n",
       "      <td>2234.00</td>\n",
       "      <td>2576.00</td>\n",
       "      <td>2475.00</td>\n",
       "    </tr>\n",
       "  </tbody>\n",
       "</table>\n",
       "</div>"
      ],
      "text/plain": [
       "       income_level  bank_accounts_open  credit_rating  credit_cards_held  \\\n",
       "count       4949.00             4949.00        4949.00            4949.00   \n",
       "mean           0.99                1.25           1.51               1.56   \n",
       "std            0.71                0.47           0.50               0.50   \n",
       "min            0.00                1.00           1.00               1.00   \n",
       "25%            0.00                1.00           1.00               1.00   \n",
       "50%            1.00                1.00           2.00               2.00   \n",
       "75%            1.00                1.00           2.00               2.00   \n",
       "max            2.00                3.00           2.00               2.00   \n",
       "\n",
       "       homes_owned  household_size  average_balance  q1_balance  q2_balance  \\\n",
       "count      4949.00         4949.00          4949.00     4949.00     4949.00   \n",
       "mean          1.21            3.87           940.57      902.96      994.81   \n",
       "std           0.43            0.85           346.95      613.71      451.74   \n",
       "min           1.00            3.00            48.25        0.00        1.00   \n",
       "25%           1.00            3.00           789.00      394.00      668.00   \n",
       "50%           1.00            4.00          1010.00      764.00     1024.00   \n",
       "75%           1.00            4.00          1155.75     1504.00     1332.00   \n",
       "max           3.00            6.00          2430.00     2435.00     2234.00   \n",
       "\n",
       "       q3_balance  q4_balance  \n",
       "count     4949.00     4949.00  \n",
       "mean      1044.63      819.87  \n",
       "std        556.34      555.92  \n",
       "min          3.00        0.00  \n",
       "25%        629.00      377.00  \n",
       "50%        947.00      718.00  \n",
       "75%       1465.00     1232.00  \n",
       "max       2576.00     2475.00  "
      ]
     },
     "execution_count": 13,
     "metadata": {},
     "output_type": "execute_result"
    }
   ],
   "source": [
    "df.describe().round(2)"
   ]
  },
  {
   "cell_type": "code",
   "execution_count": 14,
   "id": "64493264",
   "metadata": {},
   "outputs": [
    {
     "data": {
      "image/png": "[encoded data removed]",
      "text/plain": [
       "<Figure size 432x288 with 1 Axes>"
      ]
     },
     "metadata": {
      "needs_background": "light"
     },
     "output_type": "display_data"
    },
    {
     "data": {
      "image/png": "[encoded data removed]",
      "text/plain": [
       "<Figure size 432x288 with 1 Axes>"
      ]
     },
     "metadata": {
      "needs_background": "light"
     },
     "output_type": "display_data"
    },
    {
     "data": {
      "image/png": "[encoded data removed]",
      "text/plain": [
       "<Figure size 432x288 with 1 Axes>"
      ]
     },
     "metadata": {
      "needs_background": "light"
     },
     "output_type": "display_data"
    },
    {
     "data": {
      "image/png": "[encoded data removed]",
      "text/plain": [
       "<Figure size 432x288 with 1 Axes>"
      ]
     },
     "metadata": {
      "needs_background": "light"
     },
     "output_type": "display_data"
    },
    {
     "data": {
      "image/png": "[encoded data removed]",
      "text/plain": [
       "<Figure size 432x288 with 1 Axes>"
      ]
     },
     "metadata": {
      "needs_background": "light"
     },
     "output_type": "display_data"
    },
    {
     "data": {
      "image/png": "[encoded data removed]",
      "text/plain": [
       "<Figure size 432x288 with 1 Axes>"
      ]
     },
     "metadata": {
      "needs_background": "light"
     },
     "output_type": "display_data"
    },
    {
     "data": {
      "image/png": "[encoded data removed]",
      "text/plain": [
       "<Figure size 432x288 with 1 Axes>"
      ]
     },
     "metadata": {
      "needs_background": "light"
     },
     "output_type": "display_data"
    },
    {
     "data": {
      "image/png": "[encoded data removed]",
      "text/plain": [
       "<Figure size 432x288 with 1 Axes>"
      ]
     },
     "metadata": {
      "needs_background": "light"
     },
     "output_type": "display_data"
    },
    {
     "data": {
      "image/png": "[encoded data removed]",
      "text/plain": [
       "<Figure size 432x288 with 1 Axes>"
      ]
     },
     "metadata": {
      "needs_background": "light"
     },
     "output_type": "display_data"
    },
    {
     "data": {
      "image/png": "[encoded data removed]",
      "text/plain": [
       "<Figure size 432x288 with 1 Axes>"
      ]
     },
     "metadata": {
      "needs_background": "light"
     },
     "output_type": "display_data"
    },
    {
     "data": {
      "image/png": "[encoded data removed]",
      "text/plain": [
       "<Figure size 432x288 with 1 Axes>"
      ]
     },
     "metadata": {
      "needs_background": "light"
     },
     "output_type": "display_data"
    }
   ],
   "source": [
    "for column in df.select_dtypes(np.number).columns:\n",
    "    sns.distplot(df[column])\n",
    "    plt.show()"
   ]
  },
  {
   "cell_type": "markdown",
   "id": "e609c434",
   "metadata": {},
   "source": [
    "## Categorical data"
   ]
  },
  {
   "cell_type": "code",
   "execution_count": 15,
   "id": "7bc749da",
   "metadata": {},
   "outputs": [
    {
     "data": {
      "image/png": "[encoded data removed]",
      "text/plain": [
       "<Figure size 432x288 with 1 Axes>"
      ]
     },
     "metadata": {
      "needs_background": "light"
     },
     "output_type": "display_data"
    },
    {
     "data": {
      "image/png": "[encoded data removed]",
      "text/plain": [
       "<Figure size 432x288 with 1 Axes>"
      ]
     },
     "metadata": {
      "needs_background": "light"
     },
     "output_type": "display_data"
    },
    {
     "data": {
      "image/png": "[encoded data removed]",
      "text/plain": [
       "<Figure size 432x288 with 1 Axes>"
      ]
     },
     "metadata": {
      "needs_background": "light"
     },
     "output_type": "display_data"
    },
    {
     "data": {
      "image/png": "[encoded data removed]",
      "text/plain": [
       "<Figure size 432x288 with 1 Axes>"
      ]
     },
     "metadata": {
      "needs_background": "light"
     },
     "output_type": "display_data"
    },
    {
     "data": {
      "image/png": "[encoded data removed]",
      "text/plain": [
       "<Figure size 432x288 with 1 Axes>"
      ]
     },
     "metadata": {
      "needs_background": "light"
     },
     "output_type": "display_data"
    }
   ],
   "source": [
    "for col in df.select_dtypes(np.object).columns:\n",
    "    sns.countplot(x=df[col], hue=df['offer_accepted']) #, hue=df['education']\n",
    "    plt.show() # There is a GREAT imbalance in our target variable: \"offer_accepted\""
   ]
  },
  {
   "cell_type": "code",
   "execution_count": 16,
   "id": "4549e0e0",
   "metadata": {},
   "outputs": [
    {
     "data": {
      "text/html": [
       "<div>\n",
       "<style scoped>\n",
       "    .dataframe tbody tr th:only-of-type {\n",
       "        vertical-align: middle;\n",
       "    }\n",
       "\n",
       "    .dataframe tbody tr th {\n",
       "        vertical-align: top;\n",
       "    }\n",
       "\n",
       "    .dataframe thead th {\n",
       "        text-align: right;\n",
       "    }\n",
       "</style>\n",
       "<table border=\"1\" class=\"dataframe\">\n",
       "  <thead>\n",
       "    <tr style=\"text-align: right;\">\n",
       "      <th></th>\n",
       "      <th>income_level</th>\n",
       "      <th>bank_accounts_open</th>\n",
       "      <th>credit_rating</th>\n",
       "      <th>credit_cards_held</th>\n",
       "      <th>homes_owned</th>\n",
       "      <th>household_size</th>\n",
       "      <th>average_balance</th>\n",
       "      <th>q1_balance</th>\n",
       "      <th>q2_balance</th>\n",
       "      <th>q3_balance</th>\n",
       "      <th>q4_balance</th>\n",
       "    </tr>\n",
       "  </thead>\n",
       "  <tbody>\n",
       "    <tr>\n",
       "      <th>income_level</th>\n",
       "      <td>1.000000</td>\n",
       "      <td>0.002375</td>\n",
       "      <td>-0.005814</td>\n",
       "      <td>-0.006825</td>\n",
       "      <td>-0.019497</td>\n",
       "      <td>-0.035507</td>\n",
       "      <td>0.031049</td>\n",
       "      <td>0.029655</td>\n",
       "      <td>0.014528</td>\n",
       "      <td>0.014002</td>\n",
       "      <td>0.016086</td>\n",
       "    </tr>\n",
       "    <tr>\n",
       "      <th>bank_accounts_open</th>\n",
       "      <td>0.002375</td>\n",
       "      <td>1.000000</td>\n",
       "      <td>0.004187</td>\n",
       "      <td>-0.002418</td>\n",
       "      <td>-0.010672</td>\n",
       "      <td>-0.013242</td>\n",
       "      <td>-0.026736</td>\n",
       "      <td>-0.019220</td>\n",
       "      <td>-0.027899</td>\n",
       "      <td>-0.017135</td>\n",
       "      <td>0.002450</td>\n",
       "    </tr>\n",
       "    <tr>\n",
       "      <th>credit_rating</th>\n",
       "      <td>-0.005814</td>\n",
       "      <td>0.004187</td>\n",
       "      <td>1.000000</td>\n",
       "      <td>0.000011</td>\n",
       "      <td>0.016165</td>\n",
       "      <td>0.013213</td>\n",
       "      <td>0.015241</td>\n",
       "      <td>0.038897</td>\n",
       "      <td>0.016775</td>\n",
       "      <td>-0.008446</td>\n",
       "      <td>-0.001168</td>\n",
       "    </tr>\n",
       "    <tr>\n",
       "      <th>credit_cards_held</th>\n",
       "      <td>-0.006825</td>\n",
       "      <td>-0.002418</td>\n",
       "      <td>0.000011</td>\n",
       "      <td>1.000000</td>\n",
       "      <td>0.008437</td>\n",
       "      <td>0.000423</td>\n",
       "      <td>-0.021155</td>\n",
       "      <td>-0.011768</td>\n",
       "      <td>-0.039971</td>\n",
       "      <td>-0.003093</td>\n",
       "      <td>-0.000897</td>\n",
       "    </tr>\n",
       "    <tr>\n",
       "      <th>homes_owned</th>\n",
       "      <td>-0.019497</td>\n",
       "      <td>-0.010672</td>\n",
       "      <td>0.016165</td>\n",
       "      <td>0.008437</td>\n",
       "      <td>1.000000</td>\n",
       "      <td>-0.017378</td>\n",
       "      <td>0.033997</td>\n",
       "      <td>0.004657</td>\n",
       "      <td>0.013059</td>\n",
       "      <td>0.015815</td>\n",
       "      <td>0.025650</td>\n",
       "    </tr>\n",
       "    <tr>\n",
       "      <th>household_size</th>\n",
       "      <td>-0.035507</td>\n",
       "      <td>-0.013242</td>\n",
       "      <td>0.013213</td>\n",
       "      <td>0.000423</td>\n",
       "      <td>-0.017378</td>\n",
       "      <td>1.000000</td>\n",
       "      <td>-0.020911</td>\n",
       "      <td>-0.010428</td>\n",
       "      <td>-0.022216</td>\n",
       "      <td>-0.002773</td>\n",
       "      <td>-0.019043</td>\n",
       "    </tr>\n",
       "    <tr>\n",
       "      <th>average_balance</th>\n",
       "      <td>0.031049</td>\n",
       "      <td>-0.026736</td>\n",
       "      <td>0.015241</td>\n",
       "      <td>-0.021155</td>\n",
       "      <td>0.033997</td>\n",
       "      <td>-0.020911</td>\n",
       "      <td>1.000000</td>\n",
       "      <td>0.409300</td>\n",
       "      <td>0.717813</td>\n",
       "      <td>0.748276</td>\n",
       "      <td>0.568896</td>\n",
       "    </tr>\n",
       "    <tr>\n",
       "      <th>q1_balance</th>\n",
       "      <td>0.029655</td>\n",
       "      <td>-0.019220</td>\n",
       "      <td>0.038897</td>\n",
       "      <td>-0.011768</td>\n",
       "      <td>0.004657</td>\n",
       "      <td>-0.010428</td>\n",
       "      <td>0.409300</td>\n",
       "      <td>1.000000</td>\n",
       "      <td>0.447058</td>\n",
       "      <td>-0.025519</td>\n",
       "      <td>-0.183359</td>\n",
       "    </tr>\n",
       "    <tr>\n",
       "      <th>q2_balance</th>\n",
       "      <td>0.014528</td>\n",
       "      <td>-0.027899</td>\n",
       "      <td>0.016775</td>\n",
       "      <td>-0.039971</td>\n",
       "      <td>0.013059</td>\n",
       "      <td>-0.022216</td>\n",
       "      <td>0.717813</td>\n",
       "      <td>0.447058</td>\n",
       "      <td>1.000000</td>\n",
       "      <td>0.452565</td>\n",
       "      <td>0.144878</td>\n",
       "    </tr>\n",
       "    <tr>\n",
       "      <th>q3_balance</th>\n",
       "      <td>0.014002</td>\n",
       "      <td>-0.017135</td>\n",
       "      <td>-0.008446</td>\n",
       "      <td>-0.003093</td>\n",
       "      <td>0.015815</td>\n",
       "      <td>-0.002773</td>\n",
       "      <td>0.748276</td>\n",
       "      <td>-0.025519</td>\n",
       "      <td>0.452565</td>\n",
       "      <td>1.000000</td>\n",
       "      <td>0.629233</td>\n",
       "    </tr>\n",
       "    <tr>\n",
       "      <th>q4_balance</th>\n",
       "      <td>0.016086</td>\n",
       "      <td>0.002450</td>\n",
       "      <td>-0.001168</td>\n",
       "      <td>-0.000897</td>\n",
       "      <td>0.025650</td>\n",
       "      <td>-0.019043</td>\n",
       "      <td>0.568896</td>\n",
       "      <td>-0.183359</td>\n",
       "      <td>0.144878</td>\n",
       "      <td>0.629233</td>\n",
       "      <td>1.000000</td>\n",
       "    </tr>\n",
       "  </tbody>\n",
       "</table>\n",
       "</div>"
      ],
      "text/plain": [
       "                    income_level  bank_accounts_open  credit_rating  \\\n",
       "income_level            1.000000            0.002375      -0.005814   \n",
       "bank_accounts_open      0.002375            1.000000       0.004187   \n",
       "credit_rating          -0.005814            0.004187       1.000000   \n",
       "credit_cards_held      -0.006825           -0.002418       0.000011   \n",
       "homes_owned            -0.019497           -0.010672       0.016165   \n",
       "household_size         -0.035507           -0.013242       0.013213   \n",
       "average_balance         0.031049           -0.026736       0.015241   \n",
       "q1_balance              0.029655           -0.019220       0.038897   \n",
       "q2_balance              0.014528           -0.027899       0.016775   \n",
       "q3_balance              0.014002           -0.017135      -0.008446   \n",
       "q4_balance              0.016086            0.002450      -0.001168   \n",
       "\n",
       "                    credit_cards_held  homes_owned  household_size  \\\n",
       "income_level                -0.006825    -0.019497       -0.035507   \n",
       "bank_accounts_open          -0.002418    -0.010672       -0.013242   \n",
       "credit_rating                0.000011     0.016165        0.013213   \n",
       "credit_cards_held            1.000000     0.008437        0.000423   \n",
       "homes_owned                  0.008437     1.000000       -0.017378   \n",
       "household_size               0.000423    -0.017378        1.000000   \n",
       "average_balance             -0.021155     0.033997       -0.020911   \n",
       "q1_balance                  -0.011768     0.004657       -0.010428   \n",
       "q2_balance                  -0.039971     0.013059       -0.022216   \n",
       "q3_balance                  -0.003093     0.015815       -0.002773   \n",
       "q4_balance                  -0.000897     0.025650       -0.019043   \n",
       "\n",
       "                    average_balance  q1_balance  q2_balance  q3_balance  \\\n",
       "income_level               0.031049    0.029655    0.014528    0.014002   \n",
       "bank_accounts_open        -0.026736   -0.019220   -0.027899   -0.017135   \n",
       "credit_rating              0.015241    0.038897    0.016775   -0.008446   \n",
       "credit_cards_held         -0.021155   -0.011768   -0.039971   -0.003093   \n",
       "homes_owned                0.033997    0.004657    0.013059    0.015815   \n",
       "household_size            -0.020911   -0.010428   -0.022216   -0.002773   \n",
       "average_balance            1.000000    0.409300    0.717813    0.748276   \n",
       "q1_balance                 0.409300    1.000000    0.447058   -0.025519   \n",
       "q2_balance                 0.717813    0.447058    1.000000    0.452565   \n",
       "q3_balance                 0.748276   -0.025519    0.452565    1.000000   \n",
       "q4_balance                 0.568896   -0.183359    0.144878    0.629233   \n",
       "\n",
       "                    q4_balance  \n",
       "income_level          0.016086  \n",
       "bank_accounts_open    0.002450  \n",
       "credit_rating        -0.001168  \n",
       "credit_cards_held    -0.000897  \n",
       "homes_owned           0.025650  \n",
       "household_size       -0.019043  \n",
       "average_balance       0.568896  \n",
       "q1_balance           -0.183359  \n",
       "q2_balance            0.144878  \n",
       "q3_balance            0.629233  \n",
       "q4_balance            1.000000  "
      ]
     },
     "execution_count": 16,
     "metadata": {},
     "output_type": "execute_result"
    }
   ],
   "source": [
    "# Correlation matrix\n",
    "\n",
    "corr_mat = df.corr(method='spearman')\n",
    "corr_mat"
   ]
  },
  {
   "cell_type": "code",
   "execution_count": 17,
   "id": "319e575f",
   "metadata": {},
   "outputs": [
    {
     "data": {
      "image/png": "[encoded data removed]",
      "text/plain": [
       "<Figure size 1008x864 with 2 Axes>"
      ]
     },
     "metadata": {
      "needs_background": "light"
     },
     "output_type": "display_data"
    }
   ],
   "source": [
    "# Plot a correlation matrix to locate possible correlation right away\n",
    "\n",
    "mask = np.zeros_like(corr_mat)\n",
    "mask[np.triu_indices_from(mask)] = True # Mask to hide the repeated half of the matrix\n",
    "\n",
    "fig, ax = plt.subplots(figsize=(14, 12)) # this will set the width and height of the plot\n",
    "sns.set_context('paper') #This affects things like the size of the labels, lines, and other elements of the plot\n",
    "ax = sns.heatmap(corr_mat, mask=mask, annot=True, cmap='jet') # Heatmap declaration\n",
    "ax.set_title('Multi-collinearity of customer features') #Title for the graph\n",
    "plt.show()\n",
    "# plt.savefig('heatmap.png') "
   ]
  },
  {
   "cell_type": "markdown",
   "id": "1f84592e",
   "metadata": {},
   "source": [
    "# Data cleaning and wrangling"
   ]
  },
  {
   "cell_type": "code",
   "execution_count": 18,
   "id": "b4d52f14",
   "metadata": {},
   "outputs": [
    {
     "data": {
      "image/png": "[encoded data removed]",
      "text/plain": [
       "<Figure size 432x288 with 1 Axes>"
      ]
     },
     "metadata": {
      "needs_background": "light"
     },
     "output_type": "display_data"
    },
    {
     "data": {
      "image/png": "[encoded data removed]",
      "text/plain": [
       "<Figure size 432x288 with 1 Axes>"
      ]
     },
     "metadata": {
      "needs_background": "light"
     },
     "output_type": "display_data"
    },
    {
     "data": {
      "image/png": "[encoded data removed]",
      "text/plain": [
       "<Figure size 432x288 with 1 Axes>"
      ]
     },
     "metadata": {
      "needs_background": "light"
     },
     "output_type": "display_data"
    },
    {
     "data": {
      "image/png": "[encoded data removed]",
      "text/plain": [
       "<Figure size 432x288 with 1 Axes>"
      ]
     },
     "metadata": {
      "needs_background": "light"
     },
     "output_type": "display_data"
    },
    {
     "data": {
      "image/png": "[encoded data removed]",
      "text/plain": [
       "<Figure size 432x288 with 1 Axes>"
      ]
     },
     "metadata": {
      "needs_background": "light"
     },
     "output_type": "display_data"
    },
    {
     "data": {
      "image/png": "[encoded data removed]",
      "text/plain": [
       "<Figure size 432x288 with 1 Axes>"
      ]
     },
     "metadata": {
      "needs_background": "light"
     },
     "output_type": "display_data"
    },
    {
     "data": {
      "image/png": "[encoded data removed]",
      "text/plain": [
       "<Figure size 432x288 with 1 Axes>"
      ]
     },
     "metadata": {
      "needs_background": "light"
     },
     "output_type": "display_data"
    },
    {
     "data": {
      "image/png": "[encoded data removed]",
      "text/plain": [
       "<Figure size 432x288 with 1 Axes>"
      ]
     },
     "metadata": {
      "needs_background": "light"
     },
     "output_type": "display_data"
    },
    {
     "data": {
      "image/png": "[encoded data removed]",
      "text/plain": [
       "<Figure size 432x288 with 1 Axes>"
      ]
     },
     "metadata": {
      "needs_background": "light"
     },
     "output_type": "display_data"
    },
    {
     "data": {
      "image/png": "[encoded data removed]",
      "text/plain": [
       "<Figure size 432x288 with 1 Axes>"
      ]
     },
     "metadata": {
      "needs_background": "light"
     },
     "output_type": "display_data"
    },
    {
     "data": {
      "image/png": "[encoded data removed]",
      "text/plain": [
       "<Figure size 432x288 with 1 Axes>"
      ]
     },
     "metadata": {
      "needs_background": "light"
     },
     "output_type": "display_data"
    }
   ],
   "source": [
    "# Show outliers\n",
    "\n",
    "for column in df.select_dtypes(include='number').columns:\n",
    "    sns.boxplot(df[column])\n",
    "    plt.show()"
   ]
  },
  {
   "cell_type": "code",
   "execution_count": 19,
   "id": "63530ce2",
   "metadata": {},
   "outputs": [],
   "source": [
    "# Remove outliers\n",
    "\n",
    "def remove_outliers(df, threshold=1.5, in_columns=df.select_dtypes(include='number').columns, skip_columns=[]):\n",
    "    for column in in_columns:\n",
    "        if column not in skip_columns:\n",
    "            upper = np.percentile(df[column],75)\n",
    "            lower = np.percentile(df[column],25)\n",
    "            iqr = upper - lower\n",
    "            upper_limit = upper + threshold * iqr\n",
    "            lower_limit = lower - threshold * iqr\n",
    "            df = df[(df[column]>=lower_limit) & (df[column]<=upper_limit)]\n",
    "    return df"
   ]
  },
  {
   "cell_type": "code",
   "execution_count": 20,
   "id": "e822aa4b",
   "metadata": {},
   "outputs": [
    {
     "name": "stdout",
     "output_type": "stream",
     "text": [
      "income_level 1.0\n",
      "bank_accounts_open 1.0\n",
      "credit_rating 2.0\n",
      "credit_cards_held 2.0\n",
      "homes_owned 1.0\n",
      "household_size 4.0\n",
      "average_balance 1155.75\n",
      "q1_balance 1504.0\n",
      "q2_balance 1332.0\n",
      "q3_balance 1465.0\n",
      "q4_balance 1232.0\n"
     ]
    }
   ],
   "source": [
    "for col in df.select_dtypes(include='number').columns:\n",
    "    print (col, np.percentile(df[col],75))"
   ]
  },
  {
   "cell_type": "code",
   "execution_count": 21,
   "id": "100f34cd",
   "metadata": {},
   "outputs": [
    {
     "name": "stdout",
     "output_type": "stream",
     "text": [
      "4949 original columns\n",
      "2662 columns after removing outliers\n"
     ]
    }
   ],
   "source": [
    "# Do not reduce your data too much, but play with the parameters, \n",
    "# so after a better analysis you can choose which columns to drop outliers from\n",
    "\n",
    "print(len(df), \"original columns\")\n",
    "\n",
    "df1 = df.copy()\n",
    "\n",
    "df1 = remove_outliers(df1)\n",
    "\n",
    "# df1 = remove_outliers(df1, skip_columns=['number_of_open_complaints'])\n",
    "\n",
    "print(len(df1), \"columns after removing outliers\")"
   ]
  },
  {
   "cell_type": "code",
   "execution_count": 22,
   "id": "3158ac82",
   "metadata": {},
   "outputs": [],
   "source": [
    "# Filter outliers on the most important columns with a tighter threshold\n",
    "\n",
    "#print(len(df1), \"original columns\")\n",
    "\n",
    "#df2 = remove_outliers(df1, threshold=1.5, in_columns=['income_level', 'monthly_premium_auto', 'total_claim_amount'])\n",
    "# now filter the outliers on the more important columns with a tighter threshold\n",
    "\n",
    "#print(len(df2), \"columns after removing outliers\")"
   ]
  },
  {
   "cell_type": "markdown",
   "id": "3ba725c6",
   "metadata": {},
   "source": [
    "# Feature engineering"
   ]
  },
  {
   "cell_type": "code",
   "execution_count": 23,
   "id": "c254b6c3",
   "metadata": {},
   "outputs": [
    {
     "data": {
      "text/plain": [
       "Index(['reward', 'mailer_type', 'income_level', 'bank_accounts_open',\n",
       "       'overdraft_protection', 'credit_rating', 'credit_cards_held',\n",
       "       'homes_owned', 'household_size', 'own_your_home', 'average_balance',\n",
       "       'q1_balance', 'q2_balance', 'q3_balance', 'q4_balance'],\n",
       "      dtype='object')"
      ]
     },
     "execution_count": 23,
     "metadata": {},
     "output_type": "execute_result"
    }
   ],
   "source": [
    "# X-y Split\n",
    "\n",
    "y = df['offer_accepted'] # place df1 or df2 if you want to use filtered datasets\n",
    "X = df.drop(['offer_accepted'], axis=1)\n",
    "X.columns"
   ]
  },
  {
   "cell_type": "code",
   "execution_count": 24,
   "id": "db696644",
   "metadata": {},
   "outputs": [],
   "source": [
    "# Separate numerical and categorical values\n",
    "\n",
    "X_num = X.select_dtypes(include='number')\n",
    "X_cat = X.select_dtypes(exclude='number')"
   ]
  },
  {
   "cell_type": "code",
   "execution_count": 25,
   "id": "747cbd87",
   "metadata": {},
   "outputs": [
    {
     "data": {
      "text/plain": [
       "array([[0., 0., 0., 0.],\n",
       "       [0., 0., 0., 0.],\n",
       "       [0., 1., 1., 0.],\n",
       "       ...,\n",
       "       [0., 1., 0., 0.],\n",
       "       [0., 1., 0., 0.],\n",
       "       [0., 0., 0., 0.]])"
      ]
     },
     "execution_count": 25,
     "metadata": {},
     "output_type": "execute_result"
    }
   ],
   "source": [
    "# One Hot Encoding categorical variables\n",
    "\n",
    "encoder = OneHotEncoder(handle_unknown='error', drop='first') #drop one column for efficiency. It can be deduced\n",
    "X_cat_encoded = encoder.fit_transform(X_cat).toarray()\n",
    "X_cat_encoded"
   ]
  },
  {
   "cell_type": "code",
   "execution_count": 26,
   "id": "ac3d464e",
   "metadata": {},
   "outputs": [
    {
     "data": {
      "text/html": [
       "<div>\n",
       "<style scoped>\n",
       "    .dataframe tbody tr th:only-of-type {\n",
       "        vertical-align: middle;\n",
       "    }\n",
       "\n",
       "    .dataframe tbody tr th {\n",
       "        vertical-align: top;\n",
       "    }\n",
       "\n",
       "    .dataframe thead th {\n",
       "        text-align: right;\n",
       "    }\n",
       "</style>\n",
       "<table border=\"1\" class=\"dataframe\">\n",
       "  <thead>\n",
       "    <tr style=\"text-align: right;\">\n",
       "      <th></th>\n",
       "      <th>income_level</th>\n",
       "      <th>bank_accounts_open</th>\n",
       "      <th>credit_rating</th>\n",
       "      <th>credit_cards_held</th>\n",
       "      <th>homes_owned</th>\n",
       "      <th>household_size</th>\n",
       "      <th>average_balance</th>\n",
       "      <th>q1_balance</th>\n",
       "      <th>q2_balance</th>\n",
       "      <th>q3_balance</th>\n",
       "      <th>q4_balance</th>\n",
       "      <th>x0_Cash Back</th>\n",
       "      <th>x0_Points</th>\n",
       "      <th>x1_Postcard</th>\n",
       "      <th>x2_Yes</th>\n",
       "    </tr>\n",
       "    <tr>\n",
       "      <th>customer_number</th>\n",
       "      <th></th>\n",
       "      <th></th>\n",
       "      <th></th>\n",
       "      <th></th>\n",
       "      <th></th>\n",
       "      <th></th>\n",
       "      <th></th>\n",
       "      <th></th>\n",
       "      <th></th>\n",
       "      <th></th>\n",
       "      <th></th>\n",
       "      <th></th>\n",
       "      <th></th>\n",
       "      <th></th>\n",
       "      <th></th>\n",
       "    </tr>\n",
       "  </thead>\n",
       "  <tbody>\n",
       "    <tr>\n",
       "      <th>11434</th>\n",
       "      <td>1.0</td>\n",
       "      <td>1.0</td>\n",
       "      <td>2.0</td>\n",
       "      <td>2.0</td>\n",
       "      <td>1.0</td>\n",
       "      <td>4.0</td>\n",
       "      <td>1217.75</td>\n",
       "      <td>1559.0</td>\n",
       "      <td>1799.0</td>\n",
       "      <td>1052.0</td>\n",
       "      <td>461.0</td>\n",
       "      <td>0.0</td>\n",
       "      <td>0.0</td>\n",
       "      <td>1.0</td>\n",
       "      <td>0.0</td>\n",
       "    </tr>\n",
       "    <tr>\n",
       "      <th>6505</th>\n",
       "      <td>1.0</td>\n",
       "      <td>1.0</td>\n",
       "      <td>2.0</td>\n",
       "      <td>1.0</td>\n",
       "      <td>1.0</td>\n",
       "      <td>3.0</td>\n",
       "      <td>665.00</td>\n",
       "      <td>795.0</td>\n",
       "      <td>666.0</td>\n",
       "      <td>544.0</td>\n",
       "      <td>655.0</td>\n",
       "      <td>1.0</td>\n",
       "      <td>0.0</td>\n",
       "      <td>1.0</td>\n",
       "      <td>0.0</td>\n",
       "    </tr>\n",
       "    <tr>\n",
       "      <th>2973</th>\n",
       "      <td>1.0</td>\n",
       "      <td>1.0</td>\n",
       "      <td>2.0</td>\n",
       "      <td>2.0</td>\n",
       "      <td>1.0</td>\n",
       "      <td>3.0</td>\n",
       "      <td>1349.50</td>\n",
       "      <td>1876.0</td>\n",
       "      <td>1569.0</td>\n",
       "      <td>1329.0</td>\n",
       "      <td>624.0</td>\n",
       "      <td>1.0</td>\n",
       "      <td>0.0</td>\n",
       "      <td>1.0</td>\n",
       "      <td>0.0</td>\n",
       "    </tr>\n",
       "    <tr>\n",
       "      <th>996</th>\n",
       "      <td>1.0</td>\n",
       "      <td>2.0</td>\n",
       "      <td>2.0</td>\n",
       "      <td>1.0</td>\n",
       "      <td>1.0</td>\n",
       "      <td>4.0</td>\n",
       "      <td>219.50</td>\n",
       "      <td>426.0</td>\n",
       "      <td>129.0</td>\n",
       "      <td>210.0</td>\n",
       "      <td>113.0</td>\n",
       "      <td>0.0</td>\n",
       "      <td>0.0</td>\n",
       "      <td>1.0</td>\n",
       "      <td>0.0</td>\n",
       "    </tr>\n",
       "    <tr>\n",
       "      <th>17360</th>\n",
       "      <td>1.0</td>\n",
       "      <td>1.0</td>\n",
       "      <td>1.0</td>\n",
       "      <td>1.0</td>\n",
       "      <td>1.0</td>\n",
       "      <td>4.0</td>\n",
       "      <td>1088.75</td>\n",
       "      <td>100.0</td>\n",
       "      <td>1092.0</td>\n",
       "      <td>2175.0</td>\n",
       "      <td>988.0</td>\n",
       "      <td>1.0</td>\n",
       "      <td>0.0</td>\n",
       "      <td>0.0</td>\n",
       "      <td>0.0</td>\n",
       "    </tr>\n",
       "  </tbody>\n",
       "</table>\n",
       "</div>"
      ],
      "text/plain": [
       "                 income_level  bank_accounts_open  credit_rating  \\\n",
       "customer_number                                                    \n",
       "11434                     1.0                 1.0            2.0   \n",
       "6505                      1.0                 1.0            2.0   \n",
       "2973                      1.0                 1.0            2.0   \n",
       "996                       1.0                 2.0            2.0   \n",
       "17360                     1.0                 1.0            1.0   \n",
       "\n",
       "                 credit_cards_held  homes_owned  household_size  \\\n",
       "customer_number                                                   \n",
       "11434                          2.0          1.0             4.0   \n",
       "6505                           1.0          1.0             3.0   \n",
       "2973                           2.0          1.0             3.0   \n",
       "996                            1.0          1.0             4.0   \n",
       "17360                          1.0          1.0             4.0   \n",
       "\n",
       "                 average_balance  q1_balance  q2_balance  q3_balance  \\\n",
       "customer_number                                                        \n",
       "11434                    1217.75      1559.0      1799.0      1052.0   \n",
       "6505                      665.00       795.0       666.0       544.0   \n",
       "2973                     1349.50      1876.0      1569.0      1329.0   \n",
       "996                       219.50       426.0       129.0       210.0   \n",
       "17360                    1088.75       100.0      1092.0      2175.0   \n",
       "\n",
       "                 q4_balance  x0_Cash Back  x0_Points  x1_Postcard  x2_Yes  \n",
       "customer_number                                                            \n",
       "11434                 461.0           0.0        0.0          1.0     0.0  \n",
       "6505                  655.0           1.0        0.0          1.0     0.0  \n",
       "2973                  624.0           1.0        0.0          1.0     0.0  \n",
       "996                   113.0           0.0        0.0          1.0     0.0  \n",
       "17360                 988.0           1.0        0.0          0.0     0.0  "
      ]
     },
     "execution_count": 26,
     "metadata": {},
     "output_type": "execute_result"
    }
   ],
   "source": [
    "# Concat DataFrames\n",
    "\n",
    "column_names = list(X_num.columns) # get list of numerical column names\n",
    "column_names.extend(list(encoder.get_feature_names())) # add list of dummified categorical column names\n",
    "\n",
    "X_numcat = np.concatenate([X_num, X_cat_encoded], axis=1)\n",
    "X_ready = pd.DataFrame(data=X_numcat, index=X.index, columns=column_names)\n",
    "X_ready.sample(5)"
   ]
  },
  {
   "cell_type": "markdown",
   "id": "0293f824",
   "metadata": {},
   "source": [
    "# Modeling"
   ]
  },
  {
   "cell_type": "code",
   "execution_count": 27,
   "id": "a5079fa5",
   "metadata": {},
   "outputs": [],
   "source": [
    "# TRAIN-TEST SPLIT\n",
    "\n",
    "X_train, X_test, y_train, y_test = train_test_split(X_ready, y, test_size=0.3, random_state=42)"
   ]
  },
  {
   "cell_type": "code",
   "execution_count": 28,
   "id": "364c732c",
   "metadata": {},
   "outputs": [],
   "source": [
    "# Apply logistic regression: initialize Logistic Regression and fit scaled TRAIN X and TRAIN y data (target)\n",
    "\n",
    "classification = LogisticRegression(random_state=42, max_iter=1000).fit(X_train, y_train)"
   ]
  },
  {
   "cell_type": "code",
   "execution_count": 29,
   "id": "cdfe6a25",
   "metadata": {},
   "outputs": [
    {
     "data": {
      "text/plain": [
       "0.9683501683501684"
      ]
     },
     "execution_count": 29,
     "metadata": {},
     "output_type": "execute_result"
    }
   ],
   "source": [
    "# Checking the score without the need for predictions\n",
    "\n",
    "classification.score(X_test, y_test) "
   ]
  },
  {
   "cell_type": "code",
   "execution_count": 30,
   "id": "10fa1654",
   "metadata": {},
   "outputs": [
    {
     "data": {
      "text/plain": [
       "No    1485\n",
       "dtype: int64"
      ]
     },
     "execution_count": 30,
     "metadata": {},
     "output_type": "execute_result"
    }
   ],
   "source": [
    "# Get predictions\n",
    "\n",
    "predictions = classification.predict(X_test)\n",
    "pd.Series(predictions).value_counts() # It's only predicting False values! Data is too imbalanced..."
   ]
  },
  {
   "cell_type": "code",
   "execution_count": 31,
   "id": "a7607cec",
   "metadata": {},
   "outputs": [
    {
     "data": {
      "text/plain": [
       "No     1438\n",
       "Yes      47\n",
       "Name: offer_accepted, dtype: int64"
      ]
     },
     "execution_count": 31,
     "metadata": {},
     "output_type": "execute_result"
    }
   ],
   "source": [
    "y_test.value_counts()"
   ]
  },
  {
   "cell_type": "code",
   "execution_count": 32,
   "id": "dd6a716f",
   "metadata": {},
   "outputs": [
    {
     "data": {
      "text/plain": [
       "array([[1438,    0],\n",
       "       [  47,    0]], dtype=int64)"
      ]
     },
     "execution_count": 32,
     "metadata": {},
     "output_type": "execute_result"
    }
   ],
   "source": [
    "confusion_matrix(y_test, predictions)"
   ]
  },
  {
   "cell_type": "code",
   "execution_count": 33,
   "id": "ba908f2b",
   "metadata": {},
   "outputs": [
    {
     "data": {
      "text/plain": [
       "array([[0.97734077, 0.02265923],\n",
       "       [0.95852639, 0.04147361],\n",
       "       [0.99496067, 0.00503933],\n",
       "       ...,\n",
       "       [0.99170938, 0.00829062],\n",
       "       [0.98505568, 0.01494432],\n",
       "       [0.96600901, 0.03399099]])"
      ]
     },
     "execution_count": 33,
     "metadata": {},
     "output_type": "execute_result"
    }
   ],
   "source": [
    "# Get the probability instead\n",
    "predictions_ = classification.predict_proba(X_test)\n",
    "predictions_ "
   ]
  },
  {
   "cell_type": "code",
   "execution_count": 34,
   "id": "fadc1c2f",
   "metadata": {},
   "outputs": [
    {
     "data": {
      "text/plain": [
       "array([[1438,    0],\n",
       "       [  47,    0]], dtype=int64)"
      ]
     },
     "execution_count": 34,
     "metadata": {},
     "output_type": "execute_result"
    }
   ],
   "source": [
    "confusion_matrix(y_test, predictions) # normalize : {'true', 'pred', 'all'}"
   ]
  },
  {
   "cell_type": "code",
   "execution_count": 35,
   "id": "d937384d",
   "metadata": {},
   "outputs": [
    {
     "data": {
      "text/plain": [
       "<AxesSubplot:>"
      ]
     },
     "execution_count": 35,
     "metadata": {},
     "output_type": "execute_result"
    },
    {
     "data": {
      "image/png": "[encoded data removed]",
      "text/plain": [
       "<Figure size 432x288 with 2 Axes>"
      ]
     },
     "metadata": {
      "needs_background": "light"
     },
     "output_type": "display_data"
    }
   ],
   "source": [
    "cf_matrix = confusion_matrix(y_test, predictions, normalize='all')\n",
    "sns.heatmap(cf_matrix, annot=True, fmt='.2%', cmap='Blues')"
   ]
  },
  {
   "cell_type": "code",
   "execution_count": 36,
   "id": "11b8f0e1",
   "metadata": {},
   "outputs": [
    {
     "data": {
      "text/plain": [
       "<AxesSubplot:>"
      ]
     },
     "execution_count": 36,
     "metadata": {},
     "output_type": "execute_result"
    },
    {
     "data": {
      "image/png": "[encoded data removed]",
      "text/plain": [
       "<Figure size 432x288 with 2 Axes>"
      ]
     },
     "metadata": {
      "needs_background": "light"
     },
     "output_type": "display_data"
    }
   ],
   "source": [
    "group_names = ['True No', 'False Yes', 'False No', 'True Yes']\n",
    "group_counts = [\"{0:0.0f}\".format(value) for value in cf_matrix.flatten()]\n",
    "group_percentages = [\"{0:.2%}\".format(value) for value in cf_matrix.flatten()/np.sum(cf_matrix)]\n",
    "labels = [f\"{v1}\\n{v2}\\n{v3}\" for v1, v2, v3 in zip(group_names,group_counts,group_percentages)]\n",
    "labels = np.asarray(labels).reshape(2,2)\n",
    "sns.heatmap(cf_matrix, annot=labels, fmt='', cmap='Blues')"
   ]
  },
  {
   "cell_type": "code",
   "execution_count": 37,
   "id": "ff260495",
   "metadata": {},
   "outputs": [
    {
     "name": "stdout",
     "output_type": "stream",
     "text": [
      "              precision    recall  f1-score   support\n",
      "\n",
      "          No       0.97      1.00      0.98      1438\n",
      "         Yes       0.00      0.00      0.00        47\n",
      "\n",
      "    accuracy                           0.97      1485\n",
      "   macro avg       0.48      0.50      0.49      1485\n",
      "weighted avg       0.94      0.97      0.95      1485\n",
      "\n"
     ]
    }
   ],
   "source": [
    "print(classification_report(y_test, predictions))"
   ]
  },
  {
   "cell_type": "markdown",
   "id": "1bc9ec94",
   "metadata": {},
   "source": [
    "# Data Imbalance - Balancing"
   ]
  },
  {
   "cell_type": "code",
   "execution_count": 38,
   "id": "54d8dce4",
   "metadata": {},
   "outputs": [
    {
     "name": "stdout",
     "output_type": "stream",
     "text": [
      "No     4782\n",
      "Yes     167\n",
      "Name: offer_accepted, dtype: int64\n",
      "The NO:YES ratio is 29.0\n"
     ]
    }
   ],
   "source": [
    "balance_1=df['offer_accepted'].value_counts() #value counts of the target directly from the dataset\n",
    "print(balance_1)\n",
    "print(\"The NO:YES ratio is\",round(balance_1.array[0]/balance_1.array[1], 0))"
   ]
  },
  {
   "cell_type": "markdown",
   "id": "889ece8c",
   "metadata": {},
   "source": [
    "## 1 - TOMEK Links undersampling"
   ]
  },
  {
   "cell_type": "markdown",
   "id": "2e44088d",
   "metadata": {},
   "source": [
    "First, we apply an undersampling technique to the X/y train dataframes from the X/y train/test split. This will serve to \"soften\" the clusters of each category."
   ]
  },
  {
   "cell_type": "code",
   "execution_count": 39,
   "id": "ea5a5d79",
   "metadata": {},
   "outputs": [
    {
     "data": {
      "text/plain": [
       "No     3278\n",
       "Yes     120\n",
       "Name: offer_accepted, dtype: int64"
      ]
     },
     "metadata": {},
     "output_type": "display_data"
    },
    {
     "name": "stdout",
     "output_type": "stream",
     "text": [
      "The NO:YES ratio is 27.0\n"
     ]
    }
   ],
   "source": [
    "from imblearn.under_sampling import TomekLinks\n",
    "tl = TomekLinks()\n",
    "#Train/test split\n",
    "X_train_2, X_test_2, y_train_2, y_test_2 = train_test_split(X_ready, y, test_size=0.3, random_state=42)\n",
    "    #Mind the variable names; we are creating \"_2\" versions for a later comparison of the models!\n",
    "\n",
    "#Apply undersampling to X_train_2 and y_train_2\n",
    "X_train_tl_1, y_train_tl_1 = tl.fit_resample(X_train_2, y_train_2)  #X_train and y_train after TL 1\n",
    "display(y_train_tl_1.value_counts())\n",
    "balance_2=y_train_tl_1.value_counts() #value counts of the target after TL 1\n",
    "print(\"The NO:YES ratio is\",round(balance_2.array[0]/balance_2.array[1], 0))"
   ]
  },
  {
   "cell_type": "markdown",
   "id": "12ba4fd8",
   "metadata": {},
   "source": [
    "The imbalancing has improved, but it is not balanced enough yet. We next apply oversampling with SMOTE."
   ]
  },
  {
   "cell_type": "markdown",
   "id": "fc043e53",
   "metadata": {},
   "source": [
    "## 2 - SMOTE oversampling"
   ]
  },
  {
   "cell_type": "code",
   "execution_count": 40,
   "id": "0b69282b",
   "metadata": {},
   "outputs": [
    {
     "data": {
      "text/plain": [
       "Yes    3278\n",
       "No     3278\n",
       "Name: offer_accepted, dtype: int64"
      ]
     },
     "metadata": {},
     "output_type": "display_data"
    },
    {
     "name": "stdout",
     "output_type": "stream",
     "text": [
      "The NO:YES ratio is 1.0\n"
     ]
    }
   ],
   "source": [
    "from imblearn.over_sampling import SMOTE\n",
    "smote = SMOTE()\n",
    "X_train_sm, y_train_sm = smote.fit_resample(X_train_tl_1, y_train_tl_1)  #X_train and y_train after SMOTE\n",
    "display(y_train_sm.value_counts())\n",
    "balance_3=y_train_sm.value_counts() #value counts of the target after SMOTE\n",
    "print(\"The NO:YES ratio is\",round(balance_3.array[0]/balance_3.array[1], 0))"
   ]
  },
  {
   "cell_type": "markdown",
   "id": "fb96c2d3",
   "metadata": {},
   "source": [
    "As expected, the oversampling has completely balanced the values in the y_train dataset. However, this is not real: many \"fake\" values have been added, and this could generate artificial predictions from our model."
   ]
  },
  {
   "cell_type": "markdown",
   "id": "1b0d3904",
   "metadata": {},
   "source": [
    "## 3 - TOMEK Links polishing"
   ]
  },
  {
   "cell_type": "code",
   "execution_count": 41,
   "id": "749705d3",
   "metadata": {},
   "outputs": [
    {
     "data": {
      "text/plain": [
       "No     3278\n",
       "Yes    3232\n",
       "Name: offer_accepted, dtype: int64"
      ]
     },
     "metadata": {},
     "output_type": "display_data"
    },
    {
     "name": "stdout",
     "output_type": "stream",
     "text": [
      "The NO:YES ratio is 1.0\n"
     ]
    }
   ],
   "source": [
    "#Apply undersampling again to X_train_sm and y_train_sm\n",
    "X_train_tl_2, y_train_tl_2 = tl.fit_resample(X_train_sm, y_train_sm)  #X_train and y_train after TL 1\n",
    "display(y_train_tl_2.value_counts())\n",
    "balance_4=y_train_tl_2.value_counts() #value counts of the target after TL 1\n",
    "print(\"The NO:YES ratio is\",round(balance_4.array[0]/balance_4.array[1], 1))"
   ]
  },
  {
   "cell_type": "markdown",
   "id": "3dbffe5e",
   "metadata": {},
   "source": [
    "The balance of our data is seemingly good now. We proceed to train our model and make predictions."
   ]
  },
  {
   "cell_type": "markdown",
   "id": "5b416075",
   "metadata": {},
   "source": [
    "# Train the model"
   ]
  },
  {
   "cell_type": "code",
   "execution_count": 42,
   "id": "cecb07ea",
   "metadata": {},
   "outputs": [
    {
     "data": {
      "text/plain": [
       "LogisticRegression(max_iter=500, multi_class='multinomial', random_state=42)"
      ]
     },
     "execution_count": 42,
     "metadata": {},
     "output_type": "execute_result"
    }
   ],
   "source": [
    "model = LogisticRegression(random_state=42, multi_class='multinomial', max_iter=500) # max_iter\n",
    "model.fit(X_train_tl_2, y_train_tl_2)"
   ]
  },
  {
   "cell_type": "markdown",
   "id": "51a2966c",
   "metadata": {},
   "source": [
    "# Model Evaluation"
   ]
  },
  {
   "cell_type": "code",
   "execution_count": 43,
   "id": "9f311e77",
   "metadata": {},
   "outputs": [
    {
     "name": "stdout",
     "output_type": "stream",
     "text": [
      "Score = 0.6235690235690236\n"
     ]
    },
    {
     "data": {
      "text/plain": [
       "No     919\n",
       "Yes    566\n",
       "dtype: int64"
      ]
     },
     "metadata": {},
     "output_type": "display_data"
    },
    {
     "data": {
      "text/plain": [
       "No     1438\n",
       "Yes      47\n",
       "Name: offer_accepted, dtype: int64"
      ]
     },
     "metadata": {},
     "output_type": "display_data"
    },
    {
     "data": {
      "image/png": "[encoded data removed]",
      "text/plain": [
       "<Figure size 432x288 with 2 Axes>"
      ]
     },
     "metadata": {
      "needs_background": "light"
     },
     "output_type": "display_data"
    },
    {
     "data": {
      "image/png": "[encoded data removed]",
      "text/plain": [
       "<Figure size 432x288 with 2 Axes>"
      ]
     },
     "metadata": {
      "needs_background": "light"
     },
     "output_type": "display_data"
    },
    {
     "name": "stdout",
     "output_type": "stream",
     "text": [
      "              precision    recall  f1-score   support\n",
      "\n",
      "          No       0.98      0.63      0.76      1438\n",
      "         Yes       0.05      0.57      0.09        47\n",
      "\n",
      "    accuracy                           0.62      1485\n",
      "   macro avg       0.51      0.60      0.43      1485\n",
      "weighted avg       0.95      0.62      0.74      1485\n",
      "\n"
     ]
    }
   ],
   "source": [
    "#Score and predictions\n",
    "print(\"Score =\",model.score(X_test, y_test))\n",
    "predictions = model.predict(X_test)\n",
    "display(pd.Series(predictions).value_counts())\n",
    "display(y_test.value_counts())\n",
    "\n",
    "#Confusion matrices\n",
    "confusion_matrix(y_test, predictions)\n",
    "cf_matrix = confusion_matrix(y_test, predictions)\n",
    "group_names = ['True No', 'False No', 'False Yes', 'True Yes']\n",
    "\n",
    "group_counts = [\"{0:0.0f}\".format(value) for value in cf_matrix.flatten()]\n",
    "group_percentages = [\"{0:.2%}\".format(value) for value in cf_matrix.flatten()/np.sum(cf_matrix)]\n",
    "labels = [f\"{v1}\\n{v2}\\n{v3}\" for v1, v2, v3 in zip(group_names,group_counts,group_percentages)]\n",
    "labels = np.asarray(labels).reshape(2,2) #Modify this accordingly\n",
    "sns.heatmap(cf_matrix, annot=labels, fmt='', cmap='Blues')\n",
    "\n",
    "from sklearn.metrics import plot_confusion_matrix\n",
    "from sklearn.metrics import classification_report\n",
    "plot_confusion_matrix(model, X_test, y_test, cmap='Blues')\n",
    "plt.show()\n",
    "print(classification_report(y_test, predictions))"
   ]
  },
  {
   "cell_type": "markdown",
   "id": "2b24e866",
   "metadata": {},
   "source": [
    "The metrics of the model after applying the data balancing techniques look much better than before. For one, the recall values are good enough for both the \"No\" and \"Yes\" predictions. Next, the score of the model (0.68) is lower than that of the imbalanced model (0.94), but good enough to accept it."
   ]
  },
  {
   "cell_type": "markdown",
   "id": "009226da",
   "metadata": {},
   "source": [
    "----> It is perhaps worth attempting a Normalization step during the Pre-Processing."
   ]
  },
  {
   "cell_type": "code",
   "execution_count": 44,
   "id": "5428d0e5",
   "metadata": {},
   "outputs": [
    {
     "data": {
      "text/html": [
       "<div>\n",
       "<style scoped>\n",
       "    .dataframe tbody tr th:only-of-type {\n",
       "        vertical-align: middle;\n",
       "    }\n",
       "\n",
       "    .dataframe tbody tr th {\n",
       "        vertical-align: top;\n",
       "    }\n",
       "\n",
       "    .dataframe thead th {\n",
       "        text-align: right;\n",
       "    }\n",
       "</style>\n",
       "<table border=\"1\" class=\"dataframe\">\n",
       "  <thead>\n",
       "    <tr style=\"text-align: right;\">\n",
       "      <th></th>\n",
       "      <th>income_level</th>\n",
       "      <th>bank_accounts_open</th>\n",
       "      <th>credit_rating</th>\n",
       "      <th>credit_cards_held</th>\n",
       "      <th>homes_owned</th>\n",
       "      <th>household_size</th>\n",
       "      <th>average_balance</th>\n",
       "      <th>q1_balance</th>\n",
       "      <th>q2_balance</th>\n",
       "      <th>q3_balance</th>\n",
       "      <th>q4_balance</th>\n",
       "      <th>x0_Cash Back</th>\n",
       "      <th>x0_Points</th>\n",
       "      <th>x1_Postcard</th>\n",
       "      <th>x2_Yes</th>\n",
       "    </tr>\n",
       "  </thead>\n",
       "  <tbody>\n",
       "    <tr>\n",
       "      <th>0</th>\n",
       "      <td>-0.412009</td>\n",
       "      <td>-0.140141</td>\n",
       "      <td>-0.280707</td>\n",
       "      <td>0.015756</td>\n",
       "      <td>0.025221</td>\n",
       "      <td>0.067956</td>\n",
       "      <td>-0.000059</td>\n",
       "      <td>-0.000214</td>\n",
       "      <td>0.000215</td>\n",
       "      <td>-0.000195</td>\n",
       "      <td>-0.000041</td>\n",
       "      <td>-1.007637</td>\n",
       "      <td>-0.340708</td>\n",
       "      <td>0.469115</td>\n",
       "      <td>-0.064536</td>\n",
       "    </tr>\n",
       "  </tbody>\n",
       "</table>\n",
       "</div>"
      ],
      "text/plain": [
       "   income_level  bank_accounts_open  credit_rating  credit_cards_held  \\\n",
       "0     -0.412009           -0.140141      -0.280707           0.015756   \n",
       "\n",
       "   homes_owned  household_size  average_balance  q1_balance  q2_balance  \\\n",
       "0     0.025221        0.067956        -0.000059   -0.000214    0.000215   \n",
       "\n",
       "   q3_balance  q4_balance  x0_Cash Back  x0_Points  x1_Postcard    x2_Yes  \n",
       "0   -0.000195   -0.000041     -1.007637  -0.340708     0.469115 -0.064536  "
      ]
     },
     "execution_count": 44,
     "metadata": {},
     "output_type": "execute_result"
    }
   ],
   "source": [
    "# Feature importance\n",
    "\n",
    "pd.DataFrame(data=model.coef_, columns=column_names)"
   ]
  },
  {
   "cell_type": "code",
   "execution_count": null,
   "id": "7bfe3ce8",
   "metadata": {},
   "outputs": [],
   "source": []
  }
 ],
 "metadata": {
  "kernelspec": {
   "display_name": "Python 3",
   "language": "python",
   "name": "python3"
  },
  "language_info": {
   "codemirror_mode": {
    "name": "ipython",
    "version": 3
   },
   "file_extension": ".py",
   "mimetype": "text/x-python",
   "name": "python",
   "nbconvert_exporter": "python",
   "pygments_lexer": "ipython3",
   "version": "3.8.8"
  }
 },
 "nbformat": 4,
 "nbformat_minor": 5
}
